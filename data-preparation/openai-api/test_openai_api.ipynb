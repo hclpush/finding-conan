{
 "cells": [
  {
   "cell_type": "markdown",
   "id": "bfe6ed22",
   "metadata": {},
   "source": [
    "# Finding Conan\n",
    "We want to use Chatgpt4 to retrive information out of our scraped data - Polieimeldungen https://www.berlin.de/polizei/polizeimeldungen/\n",
    "\n",
    "We want the following information:\n",
    "1. When did the crime happened\n",
    "2. What crime happened\n",
    "3. Where did it happened\n"
   ]
  },
  {
   "cell_type": "code",
   "execution_count": 2,
   "id": "12d629a0",
   "metadata": {},
   "outputs": [],
   "source": [
    "# Install in terminal\n",
    "# pip install openai\n",
    "# pip install --upgrade openai\n",
    "# npm install openai"
   ]
  },
  {
   "cell_type": "markdown",
   "id": "8bc31c2c",
   "metadata": {},
   "source": [
    "# **Import the necessary packages**"
   ]
  },
  {
   "cell_type": "code",
   "execution_count": 91,
   "id": "f3340f32",
   "metadata": {},
   "outputs": [],
   "source": [
    "import os\n",
    "import openai\n",
    "import pandas as pd\n",
    "from IPython.display import display, Markdown\n",
    "import requests\n",
    "import json\n",
    "import numpy as np\n",
    "import pandas as pd\n",
    "import seaborn as sns\n",
    "import matplotlib as plt"
   ]
  },
  {
   "cell_type": "markdown",
   "id": "87f9915b",
   "metadata": {},
   "source": [
    "# **Set API_Key secret**"
   ]
  },
  {
   "cell_type": "code",
   "execution_count": 92,
   "id": "f519e6d2",
   "metadata": {},
   "outputs": [],
   "source": [
    "# Get the path where the credential is\n",
    "path = os.path.join(os.path.dirname(os.path.dirname(os.getcwd())), 'credentials')\n",
    "\n",
    "# open the credential\n",
    "with open(os.path.join(path,'secrets.json')) as secrets_file:\n",
    "    secrets = json.load(secrets_file)\n",
    "API_Key = secrets['API_Key']\n"
   ]
  },
  {
   "cell_type": "markdown",
   "id": "fa842193",
   "metadata": {},
   "source": [
    "# **select a model**\n",
    "\n",
    "https://platform.openai.com/docs/api-reference/models\n"
   ]
  },
  {
   "cell_type": "markdown",
   "id": "12edb903",
   "metadata": {},
   "source": [
    "# **connect to API**"
   ]
  },
  {
   "cell_type": "code",
   "execution_count": 5,
   "id": "ffb2bc92",
   "metadata": {},
   "outputs": [],
   "source": [
    "# def chatGPT(text):\n",
    "#   url = \"https://api.openai.com/v1/completions\"\n",
    "#   headers = {\n",
    "#   \"Content-Type\": \"application/json\",\n",
    "#   \"Authorization\": f\"Bearer {API_Key}\",\n",
    "#   }\n",
    "#   data = { \n",
    "#   \"model\": \"text-davinci-003\",\n",
    "#   \"prompt\":text,\n",
    "#   \"max_tokens\": 4000,\n",
    "#   \"temperature\": 1.0,\n",
    "#   }\n",
    "#   response = requests.post(url, headers=headers, json=data)\n",
    "\n",
    "#   output = response.json()['choices'][0]['text']\n",
    "  \n",
    "#   return print(output) #we ant to have a table\n",
    "\n",
    "#chatGPT(\"Please list me the 10 most common crimes in Berlin, Germany.\")"
   ]
  },
  {
   "cell_type": "markdown",
   "id": "13e588fc",
   "metadata": {},
   "source": [
    "# load json file"
   ]
  },
  {
   "cell_type": "code",
   "execution_count": 70,
   "id": "dc5a061d",
   "metadata": {
    "scrolled": true
   },
   "outputs": [],
   "source": [
    "# path_to_json_files = '/home/marjal/code/hclpush/finding-conan/data-preparation/openai-api/test_api_json_files'\n",
    "# #get all JSON file names as a list\n",
    "# json_file_names = [filename for filename in os.listdir(path_to_json_files) if filename.endswith('.json')]\n",
    "\n",
    "# for json_file_name in json_file_names:\n",
    "#     with open(os.path.join(path_to_json_files, json_file_name)) as json_file:\n",
    "#         json_text = json.load(json_file)\n",
    "#         #print(json_file_name, json_text)\n",
    "#         print(json_text)\n",
    "# How do we want to feed our data to the API, how many cases should be in one batch \n",
    "# How would it work with an estimate of 20.000 json files        "
   ]
  },
  {
   "cell_type": "code",
   "execution_count": 39,
   "id": "db51dd38",
   "metadata": {
    "collapsed": true
   },
   "outputs": [
    {
     "name": "stdout",
     "output_type": "stream",
     "text": [
      " in the text\n",
      "\n",
      "1. Theft of a bicycle: Location: Invalidenstraße, Berlin; Type of Crime: Theft; Date and Time: June 15th, 2020 at 8:00 PM\n",
      "\n",
      "2. Assault: Location: Alexanderplatz, Berlin; Type of Crime: Assault; Date and Time: June 16th, 2020 at 10:00 PM\n",
      "\n",
      "3. Vandalism: Location: Unter den Linden, Berlin; Type of Crime: Vandalism; Date and Time: June 17th, 2020 at 12:00 AM\n",
      "\n",
      "4. Burglary: Location: Kurfürstendamm, Berlin; Type of Crime: Burglary; Date and Time: June 18th, 2020 at 2:00 AM\n",
      "\n",
      "5. Robbery: Location: Friedrichstraße, Berlin; Type of Crime: Robbery; Date and Time: June 19th, 2020 at 4:00 AM\n",
      "\n",
      "6. Drug Trafficking: Location: Potsdamer Platz, Berlin; Type of Crime: Drug Trafficking; Date and Time: June 20th, 2020 at 6:00 AM\n"
     ]
    }
   ],
   "source": [
    "# def chatGPT(text):\n",
    "#     url = \"https://api.openai.com/v1/completions\"\n",
    "#     headers = {\n",
    "#         \"Content-Type\": \"application/json\",\n",
    "#         \"Authorization\": f\"Bearer {API_Key}\",\n",
    "#     }\n",
    "#     data = { \n",
    "#         \"model\": 'text-davinci-003', #'gpt-3.5-turbo' #'gpt-4', #\"text-davinci-003\",\n",
    "#         \"prompt\": \"list me for each of the six crimes which is described and locations, type of crimes and times of crimes that happened in berlin in the given text. For location give the streetnames of each crime. Give the date and time of each crime. Tell me if streets are given\", #text,\n",
    "#         \"max_tokens\": 1000,\n",
    "#         \"temperature\": 0.0,\n",
    "#     }\n",
    "#     response = requests.post(url, headers=headers, json=data)\n",
    "#     output = response.json()['choices'][0]['text']\n",
    "#     return print(output) #we ant to have a table\n",
    "\n",
    "# #chatGPT(\"Please list me the 10 most common crimes in Berlin, Germany.\")\n",
    "\n",
    "# chatGPT(f\"{json_text}\")"
   ]
  },
  {
   "cell_type": "code",
   "execution_count": 71,
   "id": "347ba936",
   "metadata": {},
   "outputs": [],
   "source": [
    "# def chatGPT(text):\n",
    "#     url = \"https://api.openai.com/v1/completions\"\n",
    "#     headers = {\n",
    "#         \"Content-Type\": \"application/json\",\n",
    "#         \"Authorization\": f\"Bearer {API_Key}\",\n",
    "#     }\n",
    "#     data = { \n",
    "#         \"model\": 'text-davinci-003', #'gpt-3.5-turbo' #'gpt-4', #\"text-davinci-003\",\n",
    "#         \"prompt\": \"You will get a text which describes 6 different crimes. List me for each crime and the type of crime. The exact location of the crime in Berlin, the Year, Day, and time of the crime, the number of offenders, the sex of the offenders, the number of victims and the sex of the victims\",\n",
    "#         \"temperature\": 0.0,\n",
    "#     }\n",
    "#     response = requests.post(url, headers=headers, json=data)\n",
    "#     output = response.json()['choices'][0]['text']\n",
    "#     return print(output) #we ant to have a table\n",
    "\n",
    "# #chatGPT(\"Please list me the 10 most common crimes in Berlin, Germany.\")\n",
    "\n",
    "# chatGPT(f\"{json_text}\")"
   ]
  },
  {
   "cell_type": "code",
   "execution_count": 12,
   "id": "33f74c71",
   "metadata": {},
   "outputs": [],
   "source": [
    "# # Prompt from Playground\n",
    "# import os\n",
    "# import openai\n",
    "\n",
    "# openai.api_key = API_Key\n",
    "\n",
    "# response = openai.Completion.create(\n",
    "#   model=\"text-davinci-003\",\n",
    "#   prompt=\"You are crime analyzing assistant. The assistant is helpful, clever, and gives accurate answers.\\n\\nYou define types of crimes according to the following categories:\\nHomicide = The act of unlawfully causing the death of another person.\\nHate Crime = A criminal offense is committed against a person or property motivated by prejudice or bias based on factors such as race, religion, ethnicity, sexual orientation, or disability.\\nDomestic Violence = Acts of violence, abuse, or intimidation occur within a domestic or family setting, typically involving partners or family members.\\nProperty Crimes = Offenses that involve unlawful interference with someone else's property, such as theft, burglary, or vandalism.\\nVerbal Abuse = The use of offensive, derogatory, or threatening language with the intention to harm or intimidate another person verbally.\\nProperty Damage = Deliberate or negligent actions that result in harm or destruction to someone else's property.\\nDrug Offenses = Violations of laws related to the possession, distribution, manufacturing, or use of illegal substances or controlled substances without proper authorization.\\nJuvenile Crimes = Criminal offenses are committed by individuals who are under the legal age of adulthood.\\nTraffic Incident = Any incident or violation involving vehicles on the road, such as accidents, traffic violations, or reckless driving.\\nGeneral Assault = Physical or verbal attacks on another person that result in causing harm or fear.\\nSexual Assault = Non-consensual sexual acts or behavior that involve physical or psychological harm or coercion\\nSexual Harassment = Unwanted sexual advances, comments, or conduct that creates a hostile or uncomfortable environment for the victim\\nUnclassified = Cases or incidents that do not fit into any specific predefined category.\\n\\nRead the following text of a crime that happened in Berlin, Germany. Please give us information about the crime in the form of a list. List the type of crime described in the text according to your definition. If multiple crimes occurred add all types of crimes that are described in the text. List the location as accurate as possible.\\nAlso list the year, day, and time of the crime. List the sex of the victims and the sex of the offender. List how many victims and how many offenders were involved.  If have no clear awnser you response with \\\"unknown\\\".\\n\\nHere is one example for the following Crime:\\n\\nJunge Männer mit Messer verletzt\\nPolizeimeldung vom 13.05.2023\\nMitte\\nNr. 0749\\nGestern Abend zeigten ein Jugendlicher und zwei junge Männer in der Alex-Wache in Mitte Körperverletzungen, begangen aus einer Gruppe, an. Die beiden 20-Jährigen und ihr 17 Jahre alter Begleiter gaben an, dass sie gegen 21.30 Uhr auf dem Alexanderplatz in Richtung S-Bahnhof unterwegs waren, als sie plötzlich aus einer Gruppe von sechs bis acht Männern heraus zunächst angepöbelt und dann körperlich attackiert wurden. Dabei erlitt einer der 20-Jährigen eine stark blutende Schnittverletzung im Gesicht und sein gleichaltriger Bekannter eine oberflächliche Stichverletzung am Rücken. Der Jugendliche blieb unverletzt. Alarmierte Rettungskräfte brachten die beiden Verletzten in Krankenhäuser. Der am Rücken Verletzte wurde ambulant behandelt, der im Gesicht Verletzte stationär aufgenommen. Einsatzkräfte stellten kurz nach der Anzeigenerstattung in Höhe der Sankt Marienkirche zwei 19-jährige Männer fest, die nach Angaben des Trios zu der angreifenden Gruppe gehörten. Die Kräfte nahmen die beiden Tatverdächtigen fest und führten sie einer erkennungsdienstlichen Behandlung zu. Nach den polizeilichen Maßnahmen wurden beide entlassen. Die Ermittlungen zum Tatgeschehen und zu den anderen Mitgliedern der Gruppe dauern an und wurden von einem Fachkommissariat der Polizeidirektion 5 (City) übernommen.\\n\\nThe correct response for this crime is\\nYear: 2023\\nDay: 13.05\\nTime:  21.30 Uhr \\nType of Crime: General Assault, Verbal Abuse\\nLocation: Alexanderplatz \\nVictim's Sex: Male\\nOffender's Sex: Male\\nNumber of Victims: 3\\nNumber of Offenders: 6-8\\n\\nPlease do this for the following crime: \\n\\nHomophob beleidigt, mit Flasche beworfen und geschlagen\\n\\nPolizeimeldung vom 12.05.2023\\n\\nNeukölln\\n\\nNr. 0741\\nGestern Abend wurden ein 23-Jähriger und ein 26-Jähriger vor einem Café in der Sonnenallee/Weichselstr. in Neukölln durch drei unbekannt gebliebene Tatverdächtige im Vorbeigehen homophob beleidigt. Im weiteren Verlauf der daraus resultierenden Auseinandersetzung wurde der 23-Jährige gegen 21.50 Uhr mit einer Flasche beworfen und am Bein verletzt. Die beiden Geschädigten flüchteten sich daraufhin in die Weichselstraße. Die Tatverdächtigen folgten ihnen und schlugen dem 26-jährigen mit der Faust gegen den Hinterkopf, bevor sie sich in Richtung des S-Bhf. Neukölln entfernten. Die weiteren Ermittlungen hat ein Fachkommissariat des Polizeilichen Staatsschutzes des Landeskriminalamtes übernommen.\\n\\nYear: 2023\\nDay: 12.05\\nTime: 21.50 Uhr\\nType of Crime: General Assault, Verbal Abuse, Hate Crime\\nLocation: Sonnenallee/Weichselstr., Neukölln\\nVictim's Sex: Male\\nOffender's Sex: Male\\nNumber of Victims: 2\\nNumber of Offenders: 3\",\n",
    "#   temperature=0.22,\n",
    "#   max_tokens=1788,\n",
    "#   top_p=0.46,\n",
    "#   frequency_penalty=0,\n",
    "#   presence_penalty=0\n",
    "# )"
   ]
  },
  {
   "cell_type": "code",
   "execution_count": 93,
   "id": "276399cb",
   "metadata": {
    "collapsed": true
   },
   "outputs": [
    {
     "data": {
      "text/plain": [
       "{'title': 'Mann lebensgefährlich verletzt – Zeuge identifiziert',\n",
       " 'place': 'Lichtenberg',\n",
       " 'date': '20.01.2022',\n",
       " 'subtitle': '',\n",
       " 'data': [{'number': '0163',\n",
       "   'description': 'Der gesuchte Mann, der potentiell Zeuge eines versuchten Totschlags vom 16. September 2021 wurde, ist mittlerweile identifiziert. Es handelt sich um einen 31-Jährigen, der durch seine Mutter namhaft gemacht werden konnte.'},\n",
       "  {'number': 'Januar 2022: Mann lebensgefährlich verletzt – Zeuge gesucht',\n",
       "   'description': 'Mit der Veröffentlichung eines Fotos bittet die Polizei Berlin um Mithilfe bei der Suche nach einem potentiellen Zeugen. Der abgebildete Mann soll nach bisherigen Informationen Beobachter eines versuchten Totschlags am Vormittag des 16. September 2021 geworden sein. Dabei ist ein 52-Jähriger so schwer verletzt worden, dass er mehrere Wochen im Koma lag.'},\n",
       "  {'number': 'September 2021: Verletzter Mann aufgefunden – Tatverdächtige festgenommen',\n",
       "   'description': 'Mit schwersten Verletzungen wurde gestern Mittag ein Mann in eine Klinik aufgenommen und umgehend auf die Intensivstation verlegt. Dem Vernehmen nach besteht bei dem der Obdachlosenszene zuzuordnenden Mann Lebensgefahr.\\n    Nach dem bisherigen Erkenntnisstand wurde eine Passantin gegen 11.40 Uhr in Lichtenberg auf eine Gruppe aufmerksam, die in einer Grünanlage in der Möllendorffstraße um einen am Boden liegenden Mann stand. Die 39-Jährige alarmierte daraufhin den Polizeinotruf und rief dies den Unbekannten zu, die sich sofort entfernten. Die Einsatzkräfte von Polizei und Feuerwehr entdeckten dann den Verletzten, versorgten ihn und veranlassten den Transport ins Krankenhaus. Dort wurden Hirnblutungen, mehrere Hämatome sowie Knochenbrüche im Gesicht und am Oberkörper diagnostiziert.\\n    Die Kriminalpolizei der Direktion 3 (Ost) hat im Rahmen der eingeleiteten Ermittlungen wegen gefährlicher Körperverletzung zwei Verdächtige namhaft machen können, die noch am Abend festgenommen werden konnten. Die beiden 29 und 36 Jahre alten Männer wurden erkennungsdienstlich behandelt und mussten sich anschließend aufgrund von Atemalkoholwerten von über zwei Promille staatsanwaltschaftlichen Blutentnahmen unterziehen. Sie sollen heute einem Ermittlungsrichter zum Erlass von Haftbefehlen vorgeführt werden.'}]}"
      ]
     },
     "execution_count": 93,
     "metadata": {},
     "output_type": "execute_result"
    }
   ],
   "source": [
    "path_to_json_files = '/home/marjal/code/hclpush/finding-conan/data-preparation/openai-api/test_api_json_files'\n",
    "#pd.read_json(\"pressemitteilung.1127716.json\")\n",
    "\n",
    "f = open('/home/marjal/code/hclpush/finding-conan/data-preparation/openai-api/test_api_json_files/pressemitteilung.1127716.json')\n",
    "#json.load(f\"{path_to_json_files}pressemitteilung.1127716.json\")\n",
    "data = json.load(f)\n",
    "\n",
    "data\n"
   ]
  },
  {
   "cell_type": "code",
   "execution_count": null,
   "id": "767b2d5c",
   "metadata": {},
   "outputs": [],
   "source": [
    "#url = \"https://api.openai.com/v1/completions\"\n",
    "    #headers = {\n",
    "       # \"Content-Type\": \"application/json\",\n",
    "       # \"Authorization\": f\"Bearer {API_Key}\",\n",
    "   # }\n",
    "    #response = response\n",
    "   # response = openai.Completion.create(\n",
    "#         model=\"text-davinci-003\",\n",
    "#         prompt=\"You are crime analyzing assistant. The assistant is helpful, clever, and gives accurate answers.\\n\\nYou define types of crimes according to the following categories:\\nHomicide = The act of unlawfully causing the death of another person.\\nHate Crime = A criminal offense is committed against a person or property motivated by prejudice or bias based on factors such as race, religion, ethnicity, sexual orientation, or disability.\\nDomestic Violence = Acts of violence, abuse, or intimidation occur within a domestic or family setting, typically involving partners or family members.\\nProperty Crimes = Offenses that involve unlawful interference with someone else's property, such as theft, burglary, or vandalism.\\nVerbal Abuse = The use of offensive, derogatory, or threatening language with the intention to harm or intimidate another person verbally.\\nProperty Damage = Deliberate or negligent actions that result in harm or destruction to someone else's property.\\nDrug Offenses = Violations of laws related to the possession, distribution, manufacturing, or use of illegal substances or controlled substances without proper authorization.\\nJuvenile Crimes = Criminal offenses are committed by individuals who are under the legal age of adulthood.\\nTraffic Incident = Any incident or violation involving vehicles on the road, such as accidents, traffic violations, or reckless driving.\\nGeneral Assault = Physical or verbal attacks on another person that result in causing harm or fear.\\nSexual Assault = Non-consensual sexual acts or behavior that involve physical or psychological harm or coercion\\nSexual Harassment = Unwanted sexual advances, comments, or conduct that creates a hostile or uncomfortable environment for the victim\\nUnclassified = Cases or incidents that do not fit into any specific predefined category.\\n\\nRead the following text of a crime that happened in Berlin, Germany. Please give us information about the crime in the form of a list. List the type of crime described in the text according to your definition. If multiple crimes occurred add all types of crimes that are described in the text. List the location as accurate as possible.\\nAlso list the year, day, and time of the crime. List the sex of the victims and the sex of the offender. List how many victims and how many offenders were involved.  If have no clear awnser you response with \\\"unknown\\\".\\n\\nHere is one example for the following Crime:\\n\\nJunge Männer mit Messer verletzt\\nPolizeimeldung vom 13.05.2023\\nMitte\\nNr. 0749\\nGestern Abend zeigten ein Jugendlicher und zwei junge Männer in der Alex-Wache in Mitte Körperverletzungen, begangen aus einer Gruppe, an. Die beiden 20-Jährigen und ihr 17 Jahre alter Begleiter gaben an, dass sie gegen 21.30 Uhr auf dem Alexanderplatz in Richtung S-Bahnhof unterwegs waren, als sie plötzlich aus einer Gruppe von sechs bis acht Männern heraus zunächst angepöbelt und dann körperlich attackiert wurden. Dabei erlitt einer der 20-Jährigen eine stark blutende Schnittverletzung im Gesicht und sein gleichaltriger Bekannter eine oberflächliche Stichverletzung am Rücken. Der Jugendliche blieb unverletzt. Alarmierte Rettungskräfte brachten die beiden Verletzten in Krankenhäuser. Der am Rücken Verletzte wurde ambulant behandelt, der im Gesicht Verletzte stationär aufgenommen. Einsatzkräfte stellten kurz nach der Anzeigenerstattung in Höhe der Sankt Marienkirche zwei 19-jährige Männer fest, die nach Angaben des Trios zu der angreifenden Gruppe gehörten. Die Kräfte nahmen die beiden Tatverdächtigen fest und führten sie einer erkennungsdienstlichen Behandlung zu. Nach den polizeilichen Maßnahmen wurden beide entlassen. Die Ermittlungen zum Tatgeschehen und zu den anderen Mitgliedern der Gruppe dauern an und wurden von einem Fachkommissariat der Polizeidirektion 5 (City) übernommen.\\n\\nThe correct response for this crime is\\nYear: 2023\\nDay: 13.05\\nTime:  21.30 Uhr \\nType of Crime: General Assault, Verbal Abuse\\nLocation: Alexanderplatz \\nVictim's Sex: Male\\nOffender's Sex: Male\\nNumber of Victims: 3\\nNumber of Offenders: 6-8\\n\\nPlease do this for the following crime: \\n\\nHomophob beleidigt, mit Flasche beworfen und geschlagen\\n\\nPolizeimeldung vom 12.05.2023\\n\\nNeukölln\\n\\nNr. 0741\\nGestern Abend wurden ein 23-Jähriger und ein 26-Jähriger vor einem Café in der Sonnenallee/Weichselstr. in Neukölln durch drei unbekannt gebliebene Tatverdächtige im Vorbeigehen homophob beleidigt. Im weiteren Verlauf der daraus resultierenden Auseinandersetzung wurde der 23-Jährige gegen 21.50 Uhr mit einer Flasche beworfen und am Bein verletzt. Die beiden Geschädigten flüchteten sich daraufhin in die Weichselstraße. Die Tatverdächtigen folgten ihnen und schlugen dem 26-jährigen mit der Faust gegen den Hinterkopf, bevor sie sich in Richtung des S-Bhf. Neukölln entfernten. Die weiteren Ermittlungen hat ein Fachkommissariat des Polizeilichen Staatsschutzes des Landeskriminalamtes übernommen.\\n\\nYear: 2023\\nDay: 12.05\\nTime: 21.50 Uhr\\nType of Crime: General Assault, Verbal Abuse, Hate Crime\\nLocation: Sonnenallee/Weichselstr., Neukölln\\nVictim's Sex: Male\\nOffender's Sex: Male\\nNumber of Victims: 2\\nNumber of Offenders: 3\",\n",
    "#         temperature=0.22,\n",
    "#         max_tokens=1788,\n",
    "#         top_p=0.46,\n",
    "#         frequency_penalty=0,\n",
    "#         presence_penalty=0\n",
    "#     )\n",
    "    #\"model\": 'text-davinci-003', #'gpt-3.5-turbo' #'gpt-4', #\"text-davinci-003\",\n",
    "        #\"prompt\": \"list me for each of the six crimes which is described and locations, type of crimes and times of crimes that happened in berlin in the given text. For location give the streetnames of each crime. Give the date and time of each crime. Tell me if streets are given\", #text,\n",
    "        #\"max_tokens\": 1000,\n",
    "        #\"temperature\": 0.0,"
   ]
  },
  {
   "cell_type": "code",
   "execution_count": 94,
   "id": "984d7a3c",
   "metadata": {},
   "outputs": [],
   "source": [
    "def chatGPT(text):\n",
    "    url = \"https://api.openai.com/v1/completions\"\n",
    "    headers = {\n",
    "        \"Content-Type\": \"application/json\",\n",
    "        \"Authorization\": f\"Bearer {API_Key}\",\n",
    "    }\n",
    "    prompt = { \n",
    "        \"model\":\"text-davinci-003\",\n",
    "        \"prompt\":\"You are a crime analyzing assistant. The assistant is helpful, clever, and gives accurate answers.\\n\\nYou define types of crimes according to the following categories:\\nHomicide = The act of unlawfully causing the death of another person.\\nHate Crime Disability = A hate crime committed against an individual or group based on their disability, targeting them due to their physical or mental impairment.\\nHate Crime Gender = A hate crime committed against an individual or group based on their gender, targeting them due to their gender identity or perceived gender.\\nHate Crime Gender Identity= A hate crime committed against an individual or group based on their gender identity, targeting them due to their transgender or non-binary status.\\nHate Crime Religious = A hate crime committed against an individual or group based on their religion or religious beliefs, targeting them due to their faith.\\nHate Crime Sexual orientation = A hate crime committed against an individual or group based on their sexual orientation, targeting them due to their sexual preference or identity.\\nHate Crime Racial = A hate crime committed against an individual or group based on their race, targeting them due to their ethnic background or skin color.\\nHate Crime Ethnicity = A hate crime committed against an individual or group based on their ethnicity, targeting them due to their cultural or national identity.\\nDomestic Violence = Acts of violence, abuse, or intimidation occurs within a domestic or family setting, typically involving partners or family members.\\nProperty Crimes = Offenses that involve unlawful interference with someone else's property, such as theft, burglary, or vandalism.\\nVerbal Abuse = The use of offensive, derogatory, or threatening language with the intention to harm or intimidate another person verbally.\\nProperty Damage = Deliberate or negligent actions that result in harm or destruction to someone else's property.\\nDrug Offenses = Violations of laws related to the possession, distribution, manufacturing, or use of illegal substances or controlled substances without proper authorization.\\nJuvenile Crimes = Criminal offenses are committed by individuals who are under the legal age of adulthood.\\nTraffic Incident = Any incident or violation involving vehicles on the road, such as accidents, traffic violations, or reckless driving.\\nGeneral Assault = Physical or verbal attacks on another person that result in causing harm or fear.\\nSexual Assault = Non-consensual sexual acts or behavior that involve physical or psychological harm or coercion\\nSexual Harassment = Unwanted sexual advances, comments, or conduct that creates a hostile or uncomfortable environment for the victim\\nUnclassified = Cases or incidents that do not fit into any specific predefined category.\\n\\nRead the following text of a crime that happened in Berlin, Germany. Please give us information about the crime in the form of a list. List the type of crime described in the text according to your definition. If multiple crimes occurred add all types of crimes that are described in the text. List the location as accurately as possible.\\nAlso list the year, day, and time of the crime. List the sex of the victims and the sex of the offender. List how many victims and how many offenders were involved.  If have no clear answer you respond with \\\"unknown\\\".\\n\\nHere is one example for the following Crime:\\n\\nJunge Männer mit Messer verletzt\\nPolizeimeldung vom 13.05.2023\\nMitte\\nNr. 0749\\nGestern Abend zeigten ein Jugendlicher und zwei junge Männer in der Alex-Wache in Mitte Körperverletzungen, begangen aus einer Gruppe, an. Die beiden 20-Jährigen und ihr 17 Jahre alter Begleiter gaben an, dass sie gegen 21.30 Uhr auf dem Alexanderplatz in Richtung S-Bahnhof unterwegs waren, als sie plötzlich aus einer Gruppe von sechs bis acht Männern heraus zunächst angepöbelt und dann körperlich attackiert wurden. Dabei erlitt einer der 20-Jährigen eine stark blutende Schnittverletzung im Gesicht und sein gleichaltriger Bekannter eine oberflächliche Stichverletzung am Rücken. Der Jugendliche blieb unverletzt. Alarmierte Rettungskräfte brachten die beiden Verletzten in Krankenhäuser. Der am Rücken Verletzte wurde ambulant behandelt, der im Gesicht Verletzte stationär aufgenommen. Einsatzkräfte stellten kurz nach der Anzeigenerstattung in Höhe der Sankt Marienkirche zwei 19-jährige Männer fest, die nach Angaben des Trios zu der angreifenden Gruppe gehörten. Die Kräfte nahmen die beiden Tatverdächtigen fest und führten sie einer erkennungsdienstlichen Behandlung zu. Nach den polizeilichen Maßnahmen wurden beide entlassen. Die Ermittlungen zum Tatgeschehen und zu den anderen Mitgliedern der Gruppe dauern an und wurden von einem Fachkommissariat der Polizeidirektion 5 (City) übernommen.\\n\\nThe correct response for this crime is\\nYear: 2023\\nDay: 13.05\\nTime:  21.30 Uhr \\nType of Crime: General Assault, Verbal Abuse\\nLocation: Alexanderplatz \\nVictim's Sex: Male\\nOffender's Sex: Male\\nNumber of Victims: 3\\nNumber of Offenders: 6-8\\n\\nDo this for the following crime:\\n\",\n",
    "        #\"prompt\":\"You are crime analyzing assistant. The assistant is helpful, clever, and gives accurate answers.\\n\\nYou define types of crimes according to the following categories:\\nHomicide = The act of unlawfully causing the death of another person.\\nHate Crime = A criminal offense is committed against a person or property motivated by prejudice or bias based on factors such as race, religion, ethnicity, sexual orientation, or disability.\\nDomestic Violence = Acts of violence, abuse, or intimidation occur within a domestic or family setting, typically involving partners or family members.\\nProperty Crimes = Offenses that involve unlawful interference with someone else's property, such as theft, burglary, or vandalism.\\nVerbal Abuse = The use of offensive, derogatory, or threatening language with the intention to harm or intimidate another person verbally.\\nProperty Damage = Deliberate or negligent actions that result in harm or destruction to someone else's property.\\nDrug Offenses = Violations of laws related to the possession, distribution, manufacturing, or use of illegal substances or controlled substances without proper authorization.\\nJuvenile Crimes = Criminal offenses are committed by individuals who are under the legal age of adulthood.\\nTraffic Incident = Any incident or violation involving vehicles on the road, such as accidents, traffic violations, or reckless driving.\\nGeneral Assault = Physical or verbal attacks on another person that result in causing harm or fear.\\nSexual Assault = Non-consensual sexual acts or behavior that involve physical or psychological harm or coercion\\nSexual Harassment = Unwanted sexual advances, comments, or conduct that creates a hostile or uncomfortable environment for the victim\\nUnclassified = Cases or incidents that do not fit into any specific predefined category.\\n\\nRead the following text of a crime that happened in Berlin, Germany. Please give us information about the crime in the form of a list. List the type of crime described in the text according to your definition. If multiple crimes occurred add all types of crimes that are described in the text. List the location as accurate as possible.\\nAlso list the year, day, and time of the crime. List the sex of the victims and the sex of the offender. List how many victims and how many offenders were involved.  If have no clear answer you response with \\\"unknown\\\".\\n\\nHere is one example for the following Crime:\\n\\nJunge Männer mit Messer verletzt\\nPolizeimeldung vom 13.05.2023\\nMitte\\nNr. 0749\\nGestern Abend zeigten ein Jugendlicher und zwei junge Männer in der Alex-Wache in Mitte Körperverletzungen, begangen aus einer Gruppe, an. Die beiden 20-Jährigen und ihr 17 Jahre alter Begleiter gaben an, dass sie gegen 21.30 Uhr auf dem Alexanderplatz in Richtung S-Bahnhof unterwegs waren, als sie plötzlich aus einer Gruppe von sechs bis acht Männern heraus zunächst angepöbelt und dann körperlich attackiert wurden. Dabei erlitt einer der 20-Jährigen eine stark blutende Schnittverletzung im Gesicht und sein gleichaltriger Bekannter eine oberflächliche Stichverletzung am Rücken. Der Jugendliche blieb unverletzt. Alarmierte Rettungskräfte brachten die beiden Verletzten in Krankenhäuser. Der am Rücken Verletzte wurde ambulant behandelt, der im Gesicht Verletzte stationär aufgenommen. Einsatzkräfte stellten kurz nach der Anzeigenerstattung in Höhe der Sankt Marienkirche zwei 19-jährige Männer fest, die nach Angaben des Trios zu der angreifenden Gruppe gehörten. Die Kräfte nahmen die beiden Tatverdächtigen fest und führten sie einer erkennungsdienstlichen Behandlung zu. Nach den polizeilichen Maßnahmen wurden beide entlassen. Die Ermittlungen zum Tatgeschehen und zu den anderen Mitgliedern der Gruppe dauern an und wurden von einem Fachkommissariat der Polizeidirektion 5 (City) übernommen.\\n\\nThe correct response for this crime is\\nYear: 2023\\nDay: 13.05\\nTime:  21.30 Uhr \\nType of Crime: General Assault, Verbal Abuse\\nLocation: Alexanderplatz \\nVictim's Sex: Male\\nOffender's Sex: Male\\nNumber of Victims: 3\\nNumber of Offenders: 6-8\\n\\nPlease do this for the following crime: \\n\",\n",
    "        \"temperature\":0.22,\n",
    "        \"max_tokens\":1788,\n",
    "        \"top_p\":0.46,\n",
    "        \"frequency_penalty\":0,\n",
    "        \"presence_penalty\":0\n",
    "    }\n",
    "    response = requests.post(url, headers=headers, json=prompt)\n",
    "    output = response.json()['choices'][0]['text'] \n",
    "    \n",
    "    return print(output) \n",
    "\n",
    "#chatGPT2(f\"{data}\")"
   ]
  },
  {
   "cell_type": "code",
   "execution_count": 73,
   "id": "724532eb",
   "metadata": {
    "collapsed": true
   },
   "outputs": [
    {
     "data": {
      "text/plain": [
       "{'title': 'Unbekannte tote Frau nach Jahren identifiziert',\n",
       " 'place': 'Steglitz-Zehlendorf',\n",
       " 'date': '22.11.2022',\n",
       " 'subtitle': '',\n",
       " 'data': [{'number': '2236',\n",
       "   'description': 'Nach über acht Jahren konnte eine unbekannte tote Frau identifiziert werden. Bei der am 25. Februar 2014 tot aus dem Teltowkanal geborgenen Frau handelt es sich um eine damals 51-Jährige aus Lichterfelde. Anhand eines DNA-Abgleichs mit zwei Brüdern der Verstorbenen konnte sie identifiziert werden.\\n    Nachdem die Mutter der Geschwister im Mai 2022 verstorben war und die verschollene Schwester bei der Testamentseröffnung thematisiert wurde, gab die zuständige Rechtspflegerin den Hinweis, dass auf der Internetseite der Polizei Berlin das Foto einer unbekannten Toten veröffentlich wurde, die die Schwester sein könnte. Mit diesem Hinweis gelang der Vermisstenstelle des Landeskriminalamtes nun die Identifizierung.'},\n",
       "  {'number': 'März 2014: Unbekannte Tote – Wer kennt die Frau?',\n",
       "   'description': 'Mit der Beschreibung einer unbekannten Toten bittet die Polizei Berlin um Mithilfe bei der Identifizierung.\\n    Die Frau wurde am Dienstag, den 25. Februar 2014, gegen 15 Uhr in Lichterfelde in Höhe des Klinikums Benjamin Franklin leblos aus dem Teltowkanal geborgen. Die Tote lag bereits ca. 2 bis 4 Wochen im Wasser.'}]}"
      ]
     },
     "execution_count": 73,
     "metadata": {},
     "output_type": "execute_result"
    }
   ],
   "source": [
    "#path_to_json_files = '/home/marjal/code/hclpush/finding-conan/data-preparation/openai-api/test_api_json_files'\n",
    "a = open('/home/marjal/code/hclpush/finding-conan/data-preparation/openai-api/test_api_json_files/pressemitteilung.107858.json')\n",
    "case1 = json.load(a)\n",
    "case1"
   ]
  },
  {
   "cell_type": "code",
   "execution_count": 75,
   "id": "e7acee0c",
   "metadata": {
    "collapsed": true
   },
   "outputs": [
    {
     "data": {
      "text/plain": [
       "{'title': 'Mann lebensgefährlich verletzt – Zeuge identifiziert',\n",
       " 'place': 'Lichtenberg',\n",
       " 'date': '20.01.2022',\n",
       " 'subtitle': '',\n",
       " 'data': [{'number': '0163',\n",
       "   'description': 'Der gesuchte Mann, der potentiell Zeuge eines versuchten Totschlags vom 16. September 2021 wurde, ist mittlerweile identifiziert. Es handelt sich um einen 31-Jährigen, der durch seine Mutter namhaft gemacht werden konnte.'},\n",
       "  {'number': 'Januar 2022: Mann lebensgefährlich verletzt – Zeuge gesucht',\n",
       "   'description': 'Mit der Veröffentlichung eines Fotos bittet die Polizei Berlin um Mithilfe bei der Suche nach einem potentiellen Zeugen. Der abgebildete Mann soll nach bisherigen Informationen Beobachter eines versuchten Totschlags am Vormittag des 16. September 2021 geworden sein. Dabei ist ein 52-Jähriger so schwer verletzt worden, dass er mehrere Wochen im Koma lag.'},\n",
       "  {'number': 'September 2021: Verletzter Mann aufgefunden – Tatverdächtige festgenommen',\n",
       "   'description': 'Mit schwersten Verletzungen wurde gestern Mittag ein Mann in eine Klinik aufgenommen und umgehend auf die Intensivstation verlegt. Dem Vernehmen nach besteht bei dem der Obdachlosenszene zuzuordnenden Mann Lebensgefahr.\\n    Nach dem bisherigen Erkenntnisstand wurde eine Passantin gegen 11.40 Uhr in Lichtenberg auf eine Gruppe aufmerksam, die in einer Grünanlage in der Möllendorffstraße um einen am Boden liegenden Mann stand. Die 39-Jährige alarmierte daraufhin den Polizeinotruf und rief dies den Unbekannten zu, die sich sofort entfernten. Die Einsatzkräfte von Polizei und Feuerwehr entdeckten dann den Verletzten, versorgten ihn und veranlassten den Transport ins Krankenhaus. Dort wurden Hirnblutungen, mehrere Hämatome sowie Knochenbrüche im Gesicht und am Oberkörper diagnostiziert.\\n    Die Kriminalpolizei der Direktion 3 (Ost) hat im Rahmen der eingeleiteten Ermittlungen wegen gefährlicher Körperverletzung zwei Verdächtige namhaft machen können, die noch am Abend festgenommen werden konnten. Die beiden 29 und 36 Jahre alten Männer wurden erkennungsdienstlich behandelt und mussten sich anschließend aufgrund von Atemalkoholwerten von über zwei Promille staatsanwaltschaftlichen Blutentnahmen unterziehen. Sie sollen heute einem Ermittlungsrichter zum Erlass von Haftbefehlen vorgeführt werden.'}]}"
      ]
     },
     "execution_count": 75,
     "metadata": {},
     "output_type": "execute_result"
    }
   ],
   "source": [
    "b = open('/home/marjal/code/hclpush/finding-conan/data-preparation/openai-api/test_api_json_files/pressemitteilung.1127716.json')\n",
    "case2 = json.load(b)\n",
    "case2"
   ]
  },
  {
   "cell_type": "code",
   "execution_count": 76,
   "id": "a3b39620",
   "metadata": {
    "collapsed": true
   },
   "outputs": [
    {
     "data": {
      "text/plain": [
       "{'title': 'Nach Verkehrsunfall mit Drogentransporter geflüchtet – Ermittlungen führten nun zur Festnahme',\n",
       " 'place': 'Reinickendorf',\n",
       " 'date': '04.04.2022',\n",
       " 'subtitle': '',\n",
       " 'data': [{'number': 'Gemeinsame Meldung Polizei und Staatsanwaltschaft Berlin',\n",
       "   'description': 'Nr. 0734\\n    Am 15. Oktober 2021 ereignete sich am Nachmittag in Berlin-Reinickendorf ein Verkehrsunfall, in den ein Kleintransporter verwickelt war. Der Fahrer floh nach dem Unfall in der Residenzstraße, der sich gegen 17.05 Uhr ereignet hatte. Die eintreffenden Streifenwagen fanden anschließend ca. 500 kg Marihuana auf der Ladefläche des Fahrzeuges.\\n    Im Auftrag der Staatsanwaltschaft Berlin ermittelte seither die Gemeinsame Ermittlungsgruppe Rauschgift von Zoll und Landeskriminalamt Berlin in der Sache. Die Ermittlungen führten nun zu einem 56-jährigen Tatverdächtigen, der mit einem durch die Staatsanwaltschaft Berlin erwirkten Haftbefehl am vergangenen Donnerstag in Berlin-Wilmersdorf verhaftet werden konnte. Bei der Wohnungsdurchsuchung beschlagnahmten die Einsatzkräfte zudem weitere Beweismittel.'},\n",
       "  {'number': 'Oktober 2021: Verkehrsunfallflucht mit Folgen – LKA ermittelt',\n",
       "   'description': 'Die Ermittlungen zu den Folgen eines Verkehrsunfalles am Nachmittag des 15. Oktober in Reinickendorf führt ein Kommissariat des Landeskriminalamtes. Nach bisherigen Erkenntnissen und Ermittlungen war ein 38-Jähriger gegen 17.05 Uhr mit einem VW auf der Residenzstraße aus Richtung Stargardtstraße in Richtung Franz-Neumann-Platz unterwegs. An der Einmündung zur Simmelstraße ordnete er sich nach links ein, um auf die Simmelstraße abzubiegen. Verkehrsbedingt musste er in Höhe des Fahrbahndurchbruches zur Simmelstraße halten, als ein bislang unbekannter Mann mit einem Mercedes-Transporter auf den VW des 38-Jährigen prallte, diesen einige Meter nach vorn schob und anschließend auf der Residenzstraße weiterfuhr. Einige Meter hinter der Einmündung kam der Transporter nach rechts von der Fahrbahn ab und prallte gegen einen geparkten Audi und mehrere Poller, an denen er schließlich zum Stehen kam. Kurz darauf stieg der Fahrer aus dem Transporter aus und flüchtete vom\\n    Unfallort. Zum Ort alarmierte Einsatzkräfte stellten auf der offenstehenden Ladefläche mehrere Kartons mit einer großen Menge Marihuana fest. Gerade als die Polizistinnen und Polizisten den Transporter sicherten und den Verkehrsunfall aufnahmen, erschien ein Mann, öffnete die Ladefläche und nahm sich einen der Kartons. Bevor er damit flüchten konnte, nahmen die Einsatzkräfte den 33-Jährigen, der nach bisherigen Ermittlungen nicht im Zusammenhang mit der Ladung des Transporters, dessen Fahrt und dem geflüchteten Fahrer steht, fest. Spätere Ermittlungen zu ihm ergaben, dass gegen ihn ein Haftbefehl bestand, sodass er der Justiz überstellt wurde. Die andauernden Ermittlungen wegen des Verstoßes gegen das Betäubungsmittelgesetz führt das zuständige Dezernat des Landeskriminalamtes. Die Ermittlungen zum Verkehrsunfall und dem flüchtigen Fahrer führt das für Verkehrsdelikte zuständige Kommissariat der Polizeidirektion 1 (Nord).'}]}"
      ]
     },
     "execution_count": 76,
     "metadata": {},
     "output_type": "execute_result"
    }
   ],
   "source": [
    "c = open('/home/marjal/code/hclpush/finding-conan/data-preparation/openai-api/test_api_json_files/pressemitteilung.1136804.json')\n",
    "case3 = json.load(c)\n",
    "case3"
   ]
  },
  {
   "cell_type": "code",
   "execution_count": 77,
   "id": "687b2588",
   "metadata": {
    "collapsed": true
   },
   "outputs": [
    {
     "data": {
      "text/plain": [
       "{'title': 'Einbruch in Bankfiliale',\n",
       " 'place': 'Charlottenburg-Wilmersdorf',\n",
       " 'date': '16.06.2022',\n",
       " 'subtitle': '',\n",
       " 'data': [{'number': '1219',\n",
       "   'description': 'Das Landeskriminalamt Berlin suchte nach den Tatverdächtigen die sich gewaltsam Zugang zu den Kellerräumlichkeiten der Bankfiliale in der Uhlandstraße 9 verschafften. Dort brachen sie vier Schließfächer auf und stahlen deren Inhalte. Im Rahmen der Ermittlungen sind weitere Einbruchstaten bekannt geworden, welche die Beteiligung eines gleichen Täters an verschiedenen Taten vermuten lassen.'}]}"
      ]
     },
     "execution_count": 77,
     "metadata": {},
     "output_type": "execute_result"
    }
   ],
   "source": [
    "d = open('/home/marjal/code/hclpush/finding-conan/data-preparation/openai-api/test_api_json_files/pressemitteilung.1144866.json')\n",
    "case4 = json.load(d)\n",
    "case4"
   ]
  },
  {
   "cell_type": "code",
   "execution_count": 78,
   "id": "5d985bc2",
   "metadata": {
    "collapsed": true
   },
   "outputs": [
    {
     "data": {
      "text/plain": [
       "{'title': 'Discounter überfallen – Tatverdächtiger gesucht',\n",
       " 'place': 'Neukölln',\n",
       " 'date': '22.02.2022',\n",
       " 'subtitle': '',\n",
       " 'data': [{'number': '0423',\n",
       "   'description': 'Die Polizei Berlin bittet um Mithilfe bei der Suche nach einem mutmaßlichen Räuber. Der gesuchte Mann soll am Samstag, 20. November 2021 gegen 21 Uhr ein Lebensmittelgeschäft am Tempelhofer Weg in Britz überfallen haben. In einem Gerangel mit einer Mitarbeiterin im Alter von 42 Jahren und einem Mitarbeiter im Alter von 25 Jahren verletzte er diese mit einem Messer leicht, hebelte anschließend eine Kasse auf und entwendete daraus die Einnahmen. Anschließend flüchtete er mit seiner Beute aus dem Geschäft und entkam.'},\n",
       "  {'number': 'November 2021: Raub zum Ladenschluss',\n",
       "   'description': 'Ein vermeintlicher Kunde überfiel gestern Abend einen Supermarkt in Britz. Nach Angaben der 42-jährigen Angestellten des Discounters am Tempelhofer Weg begleitete sie um 21 Uhr mit Hinweis auf den Ladenschluss einen mutmaßlichen Kunden zur Tür, als dieser sie plötzlich ins Geschäft zurückdrängte. Auf die Situation aufmerksam geworden, kam der Frau ihr 25-jähriger Kollege zu Hilfe. In dem Gerangel mit dem Unbekannten soll dieser ein Messer aus der Kleidung gezogen und die beiden Angestellten leicht verletzt haben, die nun von dem Mann abließen. Dieser soll anschließend zu einer der Kassen gegangen sein, habe die Lade mit dem Messer aufgehebelt und Geld entnommen. Mit der Beute flüchtete der Angreifer nach Angaben von Zeugen in Richtung Gradestraße. Die beiden Angestellten erlitten leichte Stich- bzw. Schnittverletzungen an den Armen und wollten sich gegebenenfalls selbst in ärztliche Behandlung begeben. Die Ermittlungen zu dem Raub dauern an und wurden von einem\\n    Fachkommissariat der Direktion 4 (Süd) übernommen.'}]}"
      ]
     },
     "execution_count": 78,
     "metadata": {},
     "output_type": "execute_result"
    }
   ],
   "source": [
    "e = open('/home/marjal/code/hclpush/finding-conan/data-preparation/openai-api/test_api_json_files/pressemitteilung.1148761.json')\n",
    "case5 = json.load(e)\n",
    "case5"
   ]
  },
  {
   "cell_type": "code",
   "execution_count": 86,
   "id": "e5527b31",
   "metadata": {
    "collapsed": true
   },
   "outputs": [
    {
     "data": {
      "text/plain": [
       "{'title': 'Tötungsdelikt in Wedding – Tatverdächtige in Haft',\n",
       " 'place': '',\n",
       " 'date': '17.02.2022',\n",
       " 'subtitle': '',\n",
       " 'data': [{'number': 'Gemeinsame Meldung Polizei und Staatsanwaltschaft Berlin',\n",
       "   'description': 'Mitte/Bundesweit\\nNr. 2613\\n    Am 23. November 2021 wurde ein 39-jähriger Mann gegen 7 Uhr erschossen in seiner Wohnung in Berlin-Wedding, Müllerstraße 38, aufgefunden.\\n    Die umfangreichen Ermittlungen der 2. Mordkommission des Landeskriminalamtes gemeinsam mit der Staatsanwaltschaft Berlin führten bereits am 14. Januar 2022 zur Festnahme einer 24-jährigen Frau in Aachen. Die Festnahme erfolgte wegen eines zuvor in Berlin erwirkten Haftbefehls wegen Beihilfe zum Mord an dem 39-Jährigen mit Unterstützung durch Berliner und örtliche Zielfahndungskräfte.\\n    Nunmehr wurden auch Haftbefehle wegen Mordes für die beiden männlichen Haupttatverdächtigen in Berlin erlassen und in Aachen und Köln verkündet, wo die Männer sich wegen des Verdachts eines bewaffneten Raubes in anderer Sache bereits in Untersuchungshaft befinden. Sie sind 31 und 38 Jahre alt und – wie auch die Inhaftierung wegen Verdacht des Raubes zeigt – polizeibekannt.\\n    Die drei Tatverdächtigen sind nach vorliegenden Erkenntnissen zur Tatbegehung gemeinsam von Bonn aus nach Berlin gefahren, um den 39-Jährigen zu töten. Nach der Tat flüchteten sie zunächst unerkannt wieder nach Bonn und hielten sich dort und in der Umgebung versteckt.\\n    Alle Tatbeteiligten und der Erschossene sind arabisch-libanesischer Herkunft. Das Motiv ist u. a. in familiären Auseinandersetzungen bezüglich eines Sorgerechtsstreites um die Kinder des Getöteten zu sehen: Der 39-Jährige hatte mit einer Schwester eines der Tatverdächtigen zwei kleine Kinder. Als die Schwester im Frühjahr 2020 in Berlin verstarb, verlangte die Familie der Kindesmutter das Sorgerecht und behielt die Kinder bei sich in Bonn.\\n    Der Getötete und Vater der Kinder hingegen wollte dies nicht hinnehmen und strengte gerichtlich den Erhalt des Sorgerechtes an. Im Dezember 2021, also in zeitlicher Nähe zu der Tötung, war ein Termin beim Familiengericht terminiert.\\n    Im Zusammenhang mit den Ermittlungen führten Ermittler der 2. Mordkommission vor Ort gemeinsam mit Kräften der Polizeipräsidien Bonn und Aachen in der Woche ab dem 10. Januar 2022 mehrere Wohnungsdurchsuchungen und Vernehmungen sowie umfangreiche Ermittlungen zur Erhärtung einer bestehenden Verdachtslage durch. Die beiden Kleinkinder wurden in die Obhut des Jugendamtes Bonn gegeben.\\n    Umfangreiches Beweismaterial konnte sichergestellt werden. Das ermittelte Tatfahrzeug, ein Mietwagen, wurde zur Spurensicherung von Bonn nach Berlin transportiert. Die Ermittlungen dauern an.'},\n",
       "  {'number': 'Dezember 2021: Mann in seiner Wohnung erschossen – Mordkommission sucht Zeugen',\n",
       "   'description': 'Mit der Veröffentlichung von Fotos des Opfers bat die Polizei und Staatsanwaltschaft Berlin um Mithilfe. Am Morgen des 23. November 2021, kurz nach 7 Uhr, wurde ein 39-Jähriger Mann in seiner Wohnung in der Müllerstraße 38 in Wedding von einem unbekannten Täter/unbekannten Tätern erschossen.'},\n",
       "  {'number': 'November 2021: Mann in Wohnung tot aufgefunden – Mordkommission ermittelt',\n",
       "   'description': 'In einer Wohnung in Wedding wurde heute Morgen der Mieter tot aufgefunden. Bekannte fanden den 39-Jährigen gegen 7.30 Uhr in der Wohnung in einem Mehrfamilienhaus an der Müllerstraße und alarmierten Feuerwehr und Polizei. Reanimationsmaßnahmen der Rettungskräfte verliefen ohne Erfolg. Die Auffindesituation des Toten deutet auf ein Tötungsdelikt hin. Die 2. Mordkommission des Landeskriminalamtes und die Staatsanwaltschaft Berlin haben vor Ort die Ermittlungen aufgenommen. Sie dauern an.'}]}"
      ]
     },
     "execution_count": 86,
     "metadata": {},
     "output_type": "execute_result"
    }
   ],
   "source": [
    "f = open('/home/marjal/code/hclpush/finding-conan/data-preparation/openai-api/test_api_json_files/pressemitteilung.1149377.json')\n",
    "case6 = json.load(f)\n",
    "case6"
   ]
  },
  {
   "cell_type": "code",
   "execution_count": 100,
   "id": "aea8f87a",
   "metadata": {},
   "outputs": [
    {
     "data": {
      "text/plain": [
       "{'title': 'Mutmaßlicher Nationalsozialist auf einem Baukran',\n",
       " 'place': 'Friedrichshain-Kreuzberg',\n",
       " 'date': '16.01.2022',\n",
       " 'subtitle': '',\n",
       " 'data': [{'number': '0126',\n",
       "   'description': 'Die Besatzung eines Funkeinsatzwagens bemerkte gestern Abend einen Mann auf einem Baukran in Friedrichshain. Gegen 19 Uhr fiel den Einsatzkräften der Mann auf dem Baukran an der Wanda-Kallenbach-Straße auf und forderten ihn auf, von dem Kran herunterzuklettern. Dieser beleidigte daraufhin die Polizistin und ihre beiden Kollegen und weigerte sich, den Kran zu verlassen. Erneute Aufforderungen quittierte er abermals mit Beleidigungen und zeigte dazu den sogenannten Hitlergruß. Die beiden Polizisten kletterten nun dem Mann entgegen, der zwischenzeitlich auf ein Zwischenpodest hinabgestiegen war. Dort brachten sie den Tatverdächtigen zu Boden und fixierten ihn. Hierbei rief der Mann wiederholt eine nationalsozialistische Parole. Schließlich stieg er mit den beiden Polizisten hinab zum Boden, wo sie ihn festnahmen und rechtlich belehrten. Zum Tatvorwurf wollte sich der 37-Jährige nicht äußern. Anschließend brachte die Besatzung des Funkwagens den Tatverdächtigen in einen\\n    Polizeigewahrsam, aus dem er nach einer richterlich angeordneten Blutentnahme, erkennungsdienstlichen Maßnahmen und einem Anschlussgewahrsam um 7 Uhr heute Morgen wieder entlassen wurde. Er muss sich nun wegen des Verdachts des Hausfriedensbruches, des Verdachts des Widerstands gegen Vollstreckungsbeamte und des Verdachts des Verwendens von Kennzeichen verfassungswidriger Organisationen verantworten.'}]}"
      ]
     },
     "execution_count": 100,
     "metadata": {},
     "output_type": "execute_result"
    }
   ],
   "source": [
    "g = open('/home/marjal/code/hclpush/finding-conan/data-preparation/openai-api/test_api_json_files/pressemitteilung.1167756.json')\n",
    "case = json.load(g)\n",
    "case"
   ]
  },
  {
   "cell_type": "code",
   "execution_count": 101,
   "id": "20e751ce",
   "metadata": {},
   "outputs": [
    {
     "name": "stdout",
     "output_type": "stream",
     "text": [
      "\n",
      "Frau in U-Bahn angegriffen\n",
      "Polizeimeldung vom 11.06.2021\n",
      "Charlottenburg\n",
      "Nr. 0753\n",
      "Gestern Abend wurde eine Frau in einer U-Bahn in Charlottenburg angegriffen. Die Frau gab an, dass sie gegen 21.00 Uhr in der U-Bahn-Station am Kurfürstendamm unterwegs war, als sie plötzlich von einem Mann angegriffen wurde. Der Mann schlug ihr ins Gesicht und versuchte, ihr Handy zu stehlen. Die Frau konnte sich jedoch wehren und den Angreifer vertreiben. Alarmierte Einsatzkräfte nahmen den Tatverdächtigen kurz darauf fest. Er wurde einer erkennungsdienstlichen Behandlung zugeführt und anschließend entlassen. Die Ermittlungen zum Tatgeschehen wurden von einem Fachkommissariat der Polizeidirektion 5 (City) übernommen.\n",
      "\n",
      "Year: 2021\n",
      "Day: 11.06\n",
      "Time: 21.00 Uhr\n",
      "Type of Crime: General Assault, Property Crimes\n",
      "Location: U-Bahn-Station am Kurfürstendamm\n",
      "Victim's Sex: Female\n",
      "Offender's Sex: Male\n",
      "Number of Victims: 1\n",
      "Number of Offenders: 1\n"
     ]
    }
   ],
   "source": [
    "chatGPT(f\"{case}\")"
   ]
  },
  {
   "cell_type": "code",
   "execution_count": 96,
   "id": "cdd95ded",
   "metadata": {
    "collapsed": true
   },
   "outputs": [
    {
     "name": "stdout",
     "output_type": "stream",
     "text": [
      "\n",
      "Frau in U-Bahn angegriffen\n",
      "Polizeimeldung vom 15.07.2021\n",
      "Charlottenburg\n",
      "Nr. 0347\n",
      "Gestern Abend wurde eine Frau in einer U-Bahn in Charlottenburg angegriffen. Die Frau gab an, dass sie gegen 21.00 Uhr in der U-Bahn-Station an der Kurfürstendamm ausgestiegen war, als sie plötzlich von einem Mann angegriffen wurde. Der Mann schlug ihr ins Gesicht und versuchte, ihr die Handtasche zu entreißen. Ein Zeuge konnte den Angreifer davon abhalten und die Frau in Sicherheit bringen. Der Angreifer flüchtete in Richtung U-Bahnhof. Alarmierte Einsatzkräfte konnten den Tatverdächtigen kurz darauf in der U-Bahn-Station an der Joachimstaler Straße festnehmen. Die Frau wurde ambulant in einem Krankenhaus behandelt. Der Tatverdächtige wurde nach Abschluss der polizeilichen Maßnahmen entlassen. Die Ermittlungen zum Tatgeschehen dauern an und wurden von einem Fachkommissariat der Polizeidirektion 5 (City) übernommen.\n",
      "\n",
      "Year: 2021\n",
      "Day: 15.07\n",
      "Time: 21.00 Uhr\n",
      "Type of Crime: General Assault, Property Crimes\n",
      "Location: Kurfürstendamm \n",
      "Victim's Sex: Female\n",
      "Offender's Sex: Male\n",
      "Number of Victims: 1\n",
      "Number of Offenders: 1\n"
     ]
    }
   ],
   "source": [
    "chatGPT(f\"{case7}\")"
   ]
  },
  {
   "cell_type": "code",
   "execution_count": 80,
   "id": "ab87478b",
   "metadata": {
    "collapsed": true
   },
   "outputs": [
    {
     "name": "stdout",
     "output_type": "stream",
     "text": [
      "\n",
      "Frau in U-Bahn angegriffen\n",
      "Polizeimeldung vom 15.05.2023\n",
      "Charlottenburg\n",
      "Nr. 0753\n",
      "Gestern Abend wurde eine Frau in einer U-Bahn in Charlottenburg angegriffen. Die Frau gab an, dass sie gegen 22.00 Uhr in der U-Bahn-Station Wilmersdorfer Straße auf dem Weg nach Hause war, als sie plötzlich von einem Mann angegriffen wurde. Der Mann schlug ihr ins Gesicht und versuchte, ihr Handy zu stehlen. Die Frau konnte sich jedoch wehren und schrie um Hilfe. Ein Passant, der die Situation beobachtet hatte, kam ihr zu Hilfe und der Täter flüchtete. Alarmierte Polizeikräfte konnten den Tatverdächtigen kurz darauf in der Nähe der U-Bahn-Station festnehmen. Die Frau wurde zur weiteren Behandlung in ein Krankenhaus gebracht.\n",
      "\n",
      "Year: 2023\n",
      "Day: 15.05\n",
      "Time: 22.00 Uhr \n",
      "Type of Crime: General Assault, Property Crime (attempted theft)\n",
      "Location: U-Bahn Station Wilmersdorfer Straße\n",
      "Victim's Sex: Female\n",
      "Offender's Sex: Male\n",
      "Number of Victims: 1\n",
      "Number of Offenders: 1\n"
     ]
    }
   ],
   "source": [
    "chatGPT(f\"{case1}\")"
   ]
  },
  {
   "cell_type": "code",
   "execution_count": 81,
   "id": "49be8a50",
   "metadata": {
    "collapsed": true
   },
   "outputs": [
    {
     "name": "stdout",
     "output_type": "stream",
     "text": [
      "\n",
      "Frau von Unbekannten überfallen\n",
      "Polizeimeldung vom 15.07.2021\n",
      "Neukölln\n",
      "Nr. 0752\n",
      "Gestern Abend wurde eine Frau in Neukölln überfallen. Die Polizei wurde gegen 21.30 Uhr alarmiert, nachdem die Frau in der Nähe des Hermannplatzes von zwei Unbekannten angegriffen worden war. Die Frau gab an, dass sie auf dem Weg nach Hause war, als sie von den beiden Männern angesprochen und dann zu Boden geschlagen wurde. Die Täter entwendeten ihre Handtasche und flüchteten in Richtung Hermannplatz. Die alarmierten Einsatzkräfte konnten die Täter nicht mehr antreffen. Die Frau wurde in ein Krankenhaus gebracht, wo sie ambulant behandelt wurde.\n",
      "\n",
      "Year: 2021\n",
      "Day: 15.07\n",
      "Time: 21.30 Uhr \n",
      "Type of Crime: General Assault, Property Crime\n",
      "Location: Near Hermannplatz \n",
      "Victim's Sex: Female\n",
      "Offender's Sex: Male\n",
      "Number of Victims: 1\n",
      "Number of Offenders: 2\n"
     ]
    }
   ],
   "source": [
    "chatGPT(f\"{case2}\")"
   ]
  },
  {
   "cell_type": "code",
   "execution_count": 82,
   "id": "23a64a9e",
   "metadata": {
    "collapsed": true
   },
   "outputs": [
    {
     "name": "stdout",
     "output_type": "stream",
     "text": [
      "\n",
      "Frau in U-Bahn belästigt\n",
      "Polizeimeldung vom 12.04.2021\n",
      "Charlottenburg\n",
      "Nr. 0245\n",
      "Gestern Abend wurde eine Frau in einer U-Bahn in Charlottenburg belästigt. Die Frau war gegen 22.00 Uhr auf dem Weg nach Hause, als sie von einem Mann angesprochen und belästigt wurde. Der Mann versuchte, sie zu berühren und sie zu küssen. Die Frau schrie um Hilfe und der Mann flüchtete. Einsatzkräfte stellten kurz darauf einen Tatverdächtigen fest. Nach den polizeilichen Maßnahmen wurde der Mann entlassen. Die Ermittlungen zum Tatgeschehen dauern an und wurden von einem Fachkommissariat der Polizeidirektion 5 (City) übernommen.\n",
      "\n",
      "Year: 2021\n",
      "Day: 12.04\n",
      "Time: 22.00 Uhr \n",
      "Type of Crime: Sexual Assault, Sexual Harassment\n",
      "Location: U-Bahn in Charlottenburg \n",
      "Victim's Sex: Female\n",
      "Offender's Sex: Male\n",
      "Number of Victims: 1\n",
      "Number of Offenders: 1\n"
     ]
    }
   ],
   "source": [
    "chatGPT(f\"{case3}\")"
   ]
  },
  {
   "cell_type": "code",
   "execution_count": 83,
   "id": "ea3c8170",
   "metadata": {
    "collapsed": true
   },
   "outputs": [
    {
     "name": "stdout",
     "output_type": "stream",
     "text": [
      "\n",
      "Frau in U-Bahn belästigt\n",
      "Polizeimeldung vom 15.07.2022\n",
      "Charlottenburg\n",
      "Nr. 0456\n",
      "Gestern Abend wurde eine Frau in einer U-Bahn in Charlottenburg belästigt. Die Frau, eine 24-jährige Studentin, gab an, dass sie gegen 21.00 Uhr in der U-Bahn-Station Wilmersdorfer Straße eingestiegen war, als sie plötzlich von einem Mann angesprochen und belästigt wurde. Der Mann, ein etwa 30-jähriger Mann, versuchte, sie zu küssen und zu berühren. Die Frau schrie und versuchte, sich zu wehren. Ein anderer Fahrgast, ein Mann im Alter von etwa 40 Jahren, kam ihr zu Hilfe und schubste den Angreifer weg. Der Angreifer flüchtete daraufhin aus der U-Bahn.\n",
      "\n",
      "Year: 2022\n",
      "Day: 15.07\n",
      "Time: 21.00 Uhr\n",
      "Type of Crime: Sexual Assault, Verbal Abuse\n",
      "Location: U-Bahn Station Wilmersdorfer Straße\n",
      "Victim's Sex: Female\n",
      "Offender's Sex: Male\n",
      "Number of Victims: 1\n",
      "Number of Offenders: 1\n"
     ]
    }
   ],
   "source": [
    "chatGPT(f\"{case4}\")"
   ]
  },
  {
   "cell_type": "code",
   "execution_count": 84,
   "id": "7360a3f6",
   "metadata": {
    "collapsed": true
   },
   "outputs": [
    {
     "name": "stdout",
     "output_type": "stream",
     "text": [
      "\n",
      "Frauen in der U-Bahn belästigt\n",
      "Polizeimeldung vom 15.07.2021\n",
      "Charlottenburg\n",
      "Nr. 0753\n",
      "Gestern Abend wurde eine Gruppe von vier Frauen in der U-Bahn auf dem Weg von Charlottenburg nach Wilmersdorf belästigt. Die Frauen gaben an, dass sie gegen 21.00 Uhr in der U-Bahn saßen, als sie plötzlich von einer Gruppe von sechs bis acht Männern angepöbelt und bedrängt wurden. Die Frauen versuchten, sich aus der Situation zu befreien, aber die Männer verfolgten sie und bedrängten sie weiter. Eine der Frauen erlitt eine leichte Verletzung am Arm. Alarmierte Einsatzkräfte nahmen die Männer vorläufig fest und brachten sie zur Wache. Nach den polizeilichen Maßnahmen wurden sie entlassen. Die Ermittlungen zum Tatgeschehen dauern an und wurden von einem Fachkommissariat der Polizeidirektion 5 (City) übernommen.\n",
      "\n",
      "Year: 2021\n",
      "Day: 15.07\n",
      "Time: 21.00 Uhr\n",
      "Type of Crime: General Assault, Verbal Abuse\n",
      "Location: U-Bahn on the way from Charlottenburg to Wilmersdorf\n",
      "Victim's Sex: Female\n",
      "Offender's Sex: Male\n",
      "Number of Victims: 4\n",
      "Number of Offenders: 6-8\n"
     ]
    }
   ],
   "source": [
    "chatGPT(f\"{case5}\")"
   ]
  },
  {
   "cell_type": "code",
   "execution_count": 85,
   "id": "c0812471",
   "metadata": {
    "collapsed": true
   },
   "outputs": [
    {
     "name": "stdout",
     "output_type": "stream",
     "text": [
      "\n",
      "Frau von Unbekannten überfallen\n",
      "Polizeimeldung vom 15.07.2022\n",
      "Neukölln\n",
      "Nr. 0234\n",
      "Gestern Abend wurde eine Frau in Neukölln von zwei Unbekannten überfallen. Die Frau gab an, dass sie gegen 22.00 Uhr auf dem Weg nach Hause war, als sie von zwei Männern angesprochen und dann geschlagen wurde. Die Frau erlitt leichte Verletzungen und wurde von einem Rettungswagen in ein Krankenhaus gebracht. Die Polizei sucht nach den beiden Tätern und bittet Zeugen, sich zu melden.\n",
      "\n",
      "Year: 2022\n",
      "Day: 15.07\n",
      "Time: 22.00 Uhr \n",
      "Type of Crime: General Assault, Property Damage\n",
      "Location: Neukölln \n",
      "Victim's Sex: Female\n",
      "Offender's Sex: Male\n",
      "Number of Victims: 1\n",
      "Number of Offenders: 2\n"
     ]
    }
   ],
   "source": [
    "chatGPT(f\"{case6}\")"
   ]
  },
  {
   "cell_type": "code",
   "execution_count": null,
   "id": "9a882744",
   "metadata": {},
   "outputs": [],
   "source": [
    "#Next Steps \n",
    "# Lena todo: make sure promt works in function for one case - (all cases)\n",
    "# Hsin todo: loop through cases - output dataframe"
   ]
  }
 ],
 "metadata": {
  "kernelspec": {
   "display_name": "Python 3 (ipykernel)",
   "language": "python",
   "name": "python3"
  },
  "language_info": {
   "codemirror_mode": {
    "name": "ipython",
    "version": 3
   },
   "file_extension": ".py",
   "mimetype": "text/x-python",
   "name": "python",
   "nbconvert_exporter": "python",
   "pygments_lexer": "ipython3",
   "version": "3.10.6"
  },
  "toc": {
   "base_numbering": 1,
   "nav_menu": {},
   "number_sections": true,
   "sideBar": true,
   "skip_h1_title": false,
   "title_cell": "Table of Contents",
   "title_sidebar": "Contents",
   "toc_cell": false,
   "toc_position": {},
   "toc_section_display": true,
   "toc_window_display": false
  }
 },
 "nbformat": 4,
 "nbformat_minor": 5
}
