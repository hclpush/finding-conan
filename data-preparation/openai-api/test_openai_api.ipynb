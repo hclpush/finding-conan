{
 "cells": [
  {
   "attachments": {},
   "cell_type": "markdown",
   "id": "bfe6ed22",
   "metadata": {},
   "source": [
    "# Finding Conan\n",
    "We want to use Chatgpt4 to retrive information out of our scraped data - Polieimeldungen https://www.berlin.de/polizei/polizeimeldungen/\n",
    "\n",
    "We want the following information:\n",
    "1. When did the crime happened\n",
    "2. What crime happened\n",
    "3. Where did it happened\n"
   ]
  },
  {
   "cell_type": "code",
   "execution_count": 99,
   "id": "12d629a0",
   "metadata": {},
   "outputs": [],
   "source": [
    "# Install in terminal\n",
    "# pip install openai\n",
    "#pip install --upgrade openai\n",
    "#npm install openai"
   ]
  },
  {
   "attachments": {},
   "cell_type": "markdown",
   "id": "8bc31c2c",
   "metadata": {},
   "source": [
    "# **Import the necessary packages**"
   ]
  },
  {
   "cell_type": "code",
   "execution_count": 100,
   "id": "f3340f32",
   "metadata": {},
   "outputs": [],
   "source": [
    "import os\n",
    "import openai\n",
    "import pandas as pd\n",
    "from IPython.display import display, Markdown\n",
    "import requests"
   ]
  },
  {
   "attachments": {},
   "cell_type": "markdown",
   "id": "87f9915b",
   "metadata": {},
   "source": [
    "# **Set API_Key secret**"
   ]
  },
  {
   "cell_type": "code",
   "execution_count": 101,
   "id": "f519e6d2",
   "metadata": {},
   "outputs": [],
   "source": [
    "import json\n",
    "with open('secrets.json') as secrets_file:\n",
    " secrets = json.load(secrets_file)\n",
    "API_Key = secrets['API_Key']"
   ]
  },
  {
   "cell_type": "code",
   "execution_count": 42,
   "id": "d825db5c",
   "metadata": {},
   "outputs": [],
   "source": [
    "#test the open_ai key\n",
    "#openai.api_key = API_Key"
   ]
  },
  {
   "attachments": {},
   "cell_type": "markdown",
   "id": "fa842193",
   "metadata": {},
   "source": [
    "# **select a model**\n",
    "\n",
    "https://platform.openai.com/docs/api-reference/models\n"
   ]
  },
  {
   "cell_type": "code",
   "execution_count": null,
   "id": "6e609a7e",
   "metadata": {},
   "outputs": [],
   "source": [
    "model_id = ‘gpt-4’ "
   ]
  },
  {
   "attachments": {},
   "cell_type": "markdown",
   "id": "12edb903",
   "metadata": {},
   "source": [
    "# **connect to API**"
   ]
  },
  {
   "cell_type": "code",
   "execution_count": 104,
   "id": "ffb2bc92",
   "metadata": {
    "scrolled": false
   },
   "outputs": [
    {
     "name": "stdout",
     "output_type": "stream",
     "text": [
      "\n",
      "\n",
      "1. Theft / Burglary\n",
      "2. Vehicle Crime\n",
      "3. Vandalism\n",
      "4. Fraud\n",
      "5. Violent Crime\n",
      "6. Shoplifting\n",
      "7. Illegal Drugs\n",
      "8. Cybercrime\n",
      "9. Disorderly Conduct\n",
      "10. Order Violations\n"
     ]
    }
   ],
   "source": [
    "def chatGPT(text):\n",
    "  url = \"https://api.openai.com/v1/completions\"\n",
    "  headers = {\n",
    "  \"Content-Type\": \"application/json\",\n",
    "  \"Authorization\": f\"Bearer {API_Key}\",\n",
    "  }\n",
    "  data = { \n",
    "  \"model\": \"text-davinci-003\",\n",
    "  \"prompt\": text,\n",
    "  \"max_tokens\": 4000,\n",
    "  \"temperature\": 1.0,\n",
    "  }\n",
    "  response = requests.post(url, headers=headers, json=data)\n",
    "\n",
    "  output = response.json()['choices'][0]['text']\n",
    "  \n",
    "  return print(output) #we ant to have a table\n",
    "\n",
    "chatGPT(\"Please list me the 10 most common crimes in Berlin, Germany.\")\n",
    "\n"
   ]
  },
  {
   "attachments": {},
   "cell_type": "markdown",
   "id": "13e588fc",
   "metadata": {},
   "source": [
    "# load json file"
   ]
  },
  {
   "cell_type": "code",
   "execution_count": 58,
   "id": "dc5a061d",
   "metadata": {
    "scrolled": true
   },
   "outputs": [
    {
     "data": {
      "text/html": [
       "<div>\n",
       "<style scoped>\n",
       "    .dataframe tbody tr th:only-of-type {\n",
       "        vertical-align: middle;\n",
       "    }\n",
       "\n",
       "    .dataframe tbody tr th {\n",
       "        vertical-align: top;\n",
       "    }\n",
       "\n",
       "    .dataframe thead th {\n",
       "        text-align: right;\n",
       "    }\n",
       "</style>\n",
       "<table border=\"1\" class=\"dataframe\">\n",
       "  <thead>\n",
       "    <tr style=\"text-align: right;\">\n",
       "      <th></th>\n",
       "      <th>title</th>\n",
       "      <th>place</th>\n",
       "      <th>date</th>\n",
       "      <th>subtitle</th>\n",
       "      <th>data</th>\n",
       "    </tr>\n",
       "  </thead>\n",
       "  <tbody>\n",
       "    <tr>\n",
       "      <th>0</th>\n",
       "      <td>Mann lebensgefährlich verletzt – Zeuge identif...</td>\n",
       "      <td>Lichtenberg</td>\n",
       "      <td>2022-01-20</td>\n",
       "      <td></td>\n",
       "      <td>{'number': '0163', 'description': 'Der gesucht...</td>\n",
       "    </tr>\n",
       "    <tr>\n",
       "      <th>1</th>\n",
       "      <td>Mann lebensgefährlich verletzt – Zeuge identif...</td>\n",
       "      <td>Lichtenberg</td>\n",
       "      <td>2022-01-20</td>\n",
       "      <td></td>\n",
       "      <td>{'number': 'Januar 2022: Mann lebensgefährlich...</td>\n",
       "    </tr>\n",
       "    <tr>\n",
       "      <th>2</th>\n",
       "      <td>Mann lebensgefährlich verletzt – Zeuge identif...</td>\n",
       "      <td>Lichtenberg</td>\n",
       "      <td>2022-01-20</td>\n",
       "      <td></td>\n",
       "      <td>{'number': 'September 2021: Verletzter Mann au...</td>\n",
       "    </tr>\n",
       "  </tbody>\n",
       "</table>\n",
       "</div>"
      ],
      "text/plain": [
       "                                               title        place       date   \n",
       "0  Mann lebensgefährlich verletzt – Zeuge identif...  Lichtenberg 2022-01-20  \\\n",
       "1  Mann lebensgefährlich verletzt – Zeuge identif...  Lichtenberg 2022-01-20   \n",
       "2  Mann lebensgefährlich verletzt – Zeuge identif...  Lichtenberg 2022-01-20   \n",
       "\n",
       "  subtitle                                               data  \n",
       "0           {'number': '0163', 'description': 'Der gesucht...  \n",
       "1           {'number': 'Januar 2022: Mann lebensgefährlich...  \n",
       "2           {'number': 'September 2021: Verletzter Mann au...  "
      ]
     },
     "execution_count": 58,
     "metadata": {},
     "output_type": "execute_result"
    }
   ],
   "source": [
    "import json\n",
    "import numpy as np\n",
    "import pandas as pd\n",
    "import seaborn as sns\n",
    "import matplotlib as plt\n",
    "\n",
    "#test with one json file\n",
    "\n",
    "pd.read_json(\"pressemitteilung.1127716.json\")\n"
   ]
  }
 ],
 "metadata": {
  "kernelspec": {
   "display_name": "Python 3 (ipykernel)",
   "language": "python",
   "name": "python3"
  },
  "language_info": {
   "codemirror_mode": {
    "name": "ipython",
    "version": 3
   },
   "file_extension": ".py",
   "mimetype": "text/x-python",
   "name": "python",
   "nbconvert_exporter": "python",
   "pygments_lexer": "ipython3",
   "version": "3.10.6"
  },
  "toc": {
   "base_numbering": 1,
   "nav_menu": {},
   "number_sections": true,
   "sideBar": true,
   "skip_h1_title": false,
   "title_cell": "Table of Contents",
   "title_sidebar": "Contents",
   "toc_cell": false,
   "toc_position": {},
   "toc_section_display": true,
   "toc_window_display": false
  }
 },
 "nbformat": 4,
 "nbformat_minor": 5
}
