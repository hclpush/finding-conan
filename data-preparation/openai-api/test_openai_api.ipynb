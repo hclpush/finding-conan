{
 "cells": [
  {
   "cell_type": "markdown",
   "id": "bfe6ed22",
   "metadata": {},
   "source": [
    "# Finding Conan\n",
    "We want to use Chatgpt4 to retrive information out of our scraped data - Polieimeldungen https://www.berlin.de/polizei/polizeimeldungen/\n",
    "\n",
    "We want the following information:\n",
    "1. When did the crime happened\n",
    "2. What crime happened\n",
    "3. Where did it happened\n"
   ]
  },
  {
   "cell_type": "code",
   "execution_count": 3,
   "id": "12d629a0",
   "metadata": {},
   "outputs": [],
   "source": [
    "# Install in terminal\n",
    "# pip install openai\n",
    "#pip install --upgrade openai\n",
    "#npm install openai"
   ]
  },
  {
   "cell_type": "markdown",
   "id": "8bc31c2c",
   "metadata": {},
   "source": [
    "# **Import the necessary packages**"
   ]
  },
  {
   "cell_type": "code",
   "execution_count": 33,
   "id": "f3340f32",
   "metadata": {},
   "outputs": [],
   "source": [
    "import os\n",
    "import openai\n",
    "import pandas as pd\n",
    "from IPython.display import display, Markdown\n",
    "import requests\n",
    "import json"
   ]
  },
  {
   "cell_type": "markdown",
   "id": "87f9915b",
   "metadata": {},
   "source": [
    "# **Set API_Key secret**"
   ]
  },
  {
   "cell_type": "code",
   "execution_count": 59,
   "id": "f519e6d2",
   "metadata": {},
   "outputs": [],
   "source": [
    "# Get the path where the credential is\n",
    "path = os.path.join(os.path.dirname(os.path.dirname(os.getcwd())), 'credentials')\n",
    "\n",
    "# open the credential\n",
    "with open(os.path.join(path,'secrets.json')) as secrets_file:\n",
    "    secrets = json.load(secrets_file)\n",
    "API_Key = secrets['API_Key']\n"
   ]
  },
  {
   "cell_type": "markdown",
   "id": "fa842193",
   "metadata": {},
   "source": [
    "# **select a model**\n",
    "\n",
    "https://platform.openai.com/docs/api-reference/models\n"
   ]
  },
  {
   "cell_type": "code",
   "execution_count": null,
   "id": "6e609a7e",
   "metadata": {},
   "outputs": [],
   "source": [
    "#model_id = ‘gpt-4’ "
   ]
  },
  {
   "cell_type": "markdown",
   "id": "12edb903",
   "metadata": {},
   "source": [
    "# **connect to API**"
   ]
  },
  {
   "cell_type": "code",
   "execution_count": 61,
   "id": "ffb2bc92",
   "metadata": {},
   "outputs": [
    {
     "name": "stdout",
     "output_type": "stream",
     "text": [
      "\n",
      "\n",
      "1. Pickpocketing/Theft\n",
      "2. Drug-related offenses\n",
      "3. Vandalism\n",
      "4. Car Break-ins\n",
      "5. Fraud\n",
      "6. Prostitution\n",
      "7. Assault/Battery\n",
      "8. Public Nuisances\n",
      "9. Burglary\n",
      "10. Homicide\n"
     ]
    }
   ],
   "source": [
    "def chatGPT(text):\n",
    "  url = \"https://api.openai.com/v1/completions\"\n",
    "  headers = {\n",
    "  \"Content-Type\": \"application/json\",\n",
    "  \"Authorization\": f\"Bearer {API_Key}\",\n",
    "  }\n",
    "  data = { \n",
    "  \"model\": \"text-davinci-003\",\n",
    "  \"prompt\":text,\n",
    "  \"max_tokens\": 4000,\n",
    "  \"temperature\": 1.0,\n",
    "  }\n",
    "  response = requests.post(url, headers=headers, json=data)\n",
    "\n",
    "  output = response.json()['choices'][0]['text']\n",
    "  \n",
    "  return print(output) #we ant to have a table\n",
    "\n",
    "chatGPT(\"Please list me the 10 most common crimes in Berlin, Germany.\")"
   ]
  },
  {
   "cell_type": "code",
   "execution_count": 62,
   "id": "fd4b4a4c",
   "metadata": {},
   "outputs": [],
   "source": [
    "# response = openai.Embedding.create(\n",
    "#    input=\"Your text string goes here\",\n",
    "#     model=\"text-embedding-ada-002\"\n",
    "# )\n",
    "# embeddings = response['data'][0]['embedding']"
   ]
  },
  {
   "cell_type": "markdown",
   "id": "13e588fc",
   "metadata": {},
   "source": [
    "# load json file"
   ]
  },
  {
   "cell_type": "code",
   "execution_count": 63,
   "id": "dc5a061d",
   "metadata": {
    "collapsed": true
   },
   "outputs": [
    {
     "name": "stdout",
     "output_type": "stream",
     "text": [
      "pressemitteilung.1136804.json {'title': 'Nach Verkehrsunfall mit Drogentransporter geflüchtet – Ermittlungen führten nun zur Festnahme', 'place': 'Reinickendorf', 'date': '04.04.2022', 'subtitle': '', 'data': [{'number': 'Gemeinsame Meldung Polizei und Staatsanwaltschaft Berlin', 'description': 'Nr. 0734\\n    Am 15. Oktober 2021 ereignete sich am Nachmittag in Berlin-Reinickendorf ein Verkehrsunfall, in den ein Kleintransporter verwickelt war. Der Fahrer floh nach dem Unfall in der Residenzstraße, der sich gegen 17.05 Uhr ereignet hatte. Die eintreffenden Streifenwagen fanden anschließend ca. 500 kg Marihuana auf der Ladefläche des Fahrzeuges.\\n    Im Auftrag der Staatsanwaltschaft Berlin ermittelte seither die Gemeinsame Ermittlungsgruppe Rauschgift von Zoll und Landeskriminalamt Berlin in der Sache. Die Ermittlungen führten nun zu einem 56-jährigen Tatverdächtigen, der mit einem durch die Staatsanwaltschaft Berlin erwirkten Haftbefehl am vergangenen Donnerstag in Berlin-Wilmersdorf verhaftet werden konnte. Bei der Wohnungsdurchsuchung beschlagnahmten die Einsatzkräfte zudem weitere Beweismittel.'}, {'number': 'Oktober 2021: Verkehrsunfallflucht mit Folgen – LKA ermittelt', 'description': 'Die Ermittlungen zu den Folgen eines Verkehrsunfalles am Nachmittag des 15. Oktober in Reinickendorf führt ein Kommissariat des Landeskriminalamtes. Nach bisherigen Erkenntnissen und Ermittlungen war ein 38-Jähriger gegen 17.05 Uhr mit einem VW auf der Residenzstraße aus Richtung Stargardtstraße in Richtung Franz-Neumann-Platz unterwegs. An der Einmündung zur Simmelstraße ordnete er sich nach links ein, um auf die Simmelstraße abzubiegen. Verkehrsbedingt musste er in Höhe des Fahrbahndurchbruches zur Simmelstraße halten, als ein bislang unbekannter Mann mit einem Mercedes-Transporter auf den VW des 38-Jährigen prallte, diesen einige Meter nach vorn schob und anschließend auf der Residenzstraße weiterfuhr. Einige Meter hinter der Einmündung kam der Transporter nach rechts von der Fahrbahn ab und prallte gegen einen geparkten Audi und mehrere Poller, an denen er schließlich zum Stehen kam. Kurz darauf stieg der Fahrer aus dem Transporter aus und flüchtete vom\\n    Unfallort. Zum Ort alarmierte Einsatzkräfte stellten auf der offenstehenden Ladefläche mehrere Kartons mit einer großen Menge Marihuana fest. Gerade als die Polizistinnen und Polizisten den Transporter sicherten und den Verkehrsunfall aufnahmen, erschien ein Mann, öffnete die Ladefläche und nahm sich einen der Kartons. Bevor er damit flüchten konnte, nahmen die Einsatzkräfte den 33-Jährigen, der nach bisherigen Ermittlungen nicht im Zusammenhang mit der Ladung des Transporters, dessen Fahrt und dem geflüchteten Fahrer steht, fest. Spätere Ermittlungen zu ihm ergaben, dass gegen ihn ein Haftbefehl bestand, sodass er der Justiz überstellt wurde. Die andauernden Ermittlungen wegen des Verstoßes gegen das Betäubungsmittelgesetz führt das zuständige Dezernat des Landeskriminalamtes. Die Ermittlungen zum Verkehrsunfall und dem flüchtigen Fahrer führt das für Verkehrsdelikte zuständige Kommissariat der Polizeidirektion 1 (Nord).'}]}\n",
      "{'title': 'Nach Verkehrsunfall mit Drogentransporter geflüchtet – Ermittlungen führten nun zur Festnahme', 'place': 'Reinickendorf', 'date': '04.04.2022', 'subtitle': '', 'data': [{'number': 'Gemeinsame Meldung Polizei und Staatsanwaltschaft Berlin', 'description': 'Nr. 0734\\n    Am 15. Oktober 2021 ereignete sich am Nachmittag in Berlin-Reinickendorf ein Verkehrsunfall, in den ein Kleintransporter verwickelt war. Der Fahrer floh nach dem Unfall in der Residenzstraße, der sich gegen 17.05 Uhr ereignet hatte. Die eintreffenden Streifenwagen fanden anschließend ca. 500 kg Marihuana auf der Ladefläche des Fahrzeuges.\\n    Im Auftrag der Staatsanwaltschaft Berlin ermittelte seither die Gemeinsame Ermittlungsgruppe Rauschgift von Zoll und Landeskriminalamt Berlin in der Sache. Die Ermittlungen führten nun zu einem 56-jährigen Tatverdächtigen, der mit einem durch die Staatsanwaltschaft Berlin erwirkten Haftbefehl am vergangenen Donnerstag in Berlin-Wilmersdorf verhaftet werden konnte. Bei der Wohnungsdurchsuchung beschlagnahmten die Einsatzkräfte zudem weitere Beweismittel.'}, {'number': 'Oktober 2021: Verkehrsunfallflucht mit Folgen – LKA ermittelt', 'description': 'Die Ermittlungen zu den Folgen eines Verkehrsunfalles am Nachmittag des 15. Oktober in Reinickendorf führt ein Kommissariat des Landeskriminalamtes. Nach bisherigen Erkenntnissen und Ermittlungen war ein 38-Jähriger gegen 17.05 Uhr mit einem VW auf der Residenzstraße aus Richtung Stargardtstraße in Richtung Franz-Neumann-Platz unterwegs. An der Einmündung zur Simmelstraße ordnete er sich nach links ein, um auf die Simmelstraße abzubiegen. Verkehrsbedingt musste er in Höhe des Fahrbahndurchbruches zur Simmelstraße halten, als ein bislang unbekannter Mann mit einem Mercedes-Transporter auf den VW des 38-Jährigen prallte, diesen einige Meter nach vorn schob und anschließend auf der Residenzstraße weiterfuhr. Einige Meter hinter der Einmündung kam der Transporter nach rechts von der Fahrbahn ab und prallte gegen einen geparkten Audi und mehrere Poller, an denen er schließlich zum Stehen kam. Kurz darauf stieg der Fahrer aus dem Transporter aus und flüchtete vom\\n    Unfallort. Zum Ort alarmierte Einsatzkräfte stellten auf der offenstehenden Ladefläche mehrere Kartons mit einer großen Menge Marihuana fest. Gerade als die Polizistinnen und Polizisten den Transporter sicherten und den Verkehrsunfall aufnahmen, erschien ein Mann, öffnete die Ladefläche und nahm sich einen der Kartons. Bevor er damit flüchten konnte, nahmen die Einsatzkräfte den 33-Jährigen, der nach bisherigen Ermittlungen nicht im Zusammenhang mit der Ladung des Transporters, dessen Fahrt und dem geflüchteten Fahrer steht, fest. Spätere Ermittlungen zu ihm ergaben, dass gegen ihn ein Haftbefehl bestand, sodass er der Justiz überstellt wurde. Die andauernden Ermittlungen wegen des Verstoßes gegen das Betäubungsmittelgesetz führt das zuständige Dezernat des Landeskriminalamtes. Die Ermittlungen zum Verkehrsunfall und dem flüchtigen Fahrer führt das für Verkehrsdelikte zuständige Kommissariat der Polizeidirektion 1 (Nord).'}]}\n",
      "pressemitteilung.1127716.json {'title': 'Mann lebensgefährlich verletzt – Zeuge identifiziert', 'place': 'Lichtenberg', 'date': '20.01.2022', 'subtitle': '', 'data': [{'number': '0163', 'description': 'Der gesuchte Mann, der potentiell Zeuge eines versuchten Totschlags vom 16. September 2021 wurde, ist mittlerweile identifiziert. Es handelt sich um einen 31-Jährigen, der durch seine Mutter namhaft gemacht werden konnte.'}, {'number': 'Januar 2022: Mann lebensgefährlich verletzt – Zeuge gesucht', 'description': 'Mit der Veröffentlichung eines Fotos bittet die Polizei Berlin um Mithilfe bei der Suche nach einem potentiellen Zeugen. Der abgebildete Mann soll nach bisherigen Informationen Beobachter eines versuchten Totschlags am Vormittag des 16. September 2021 geworden sein. Dabei ist ein 52-Jähriger so schwer verletzt worden, dass er mehrere Wochen im Koma lag.'}, {'number': 'September 2021: Verletzter Mann aufgefunden – Tatverdächtige festgenommen', 'description': 'Mit schwersten Verletzungen wurde gestern Mittag ein Mann in eine Klinik aufgenommen und umgehend auf die Intensivstation verlegt. Dem Vernehmen nach besteht bei dem der Obdachlosenszene zuzuordnenden Mann Lebensgefahr.\\n    Nach dem bisherigen Erkenntnisstand wurde eine Passantin gegen 11.40 Uhr in Lichtenberg auf eine Gruppe aufmerksam, die in einer Grünanlage in der Möllendorffstraße um einen am Boden liegenden Mann stand. Die 39-Jährige alarmierte daraufhin den Polizeinotruf und rief dies den Unbekannten zu, die sich sofort entfernten. Die Einsatzkräfte von Polizei und Feuerwehr entdeckten dann den Verletzten, versorgten ihn und veranlassten den Transport ins Krankenhaus. Dort wurden Hirnblutungen, mehrere Hämatome sowie Knochenbrüche im Gesicht und am Oberkörper diagnostiziert.\\n    Die Kriminalpolizei der Direktion 3 (Ost) hat im Rahmen der eingeleiteten Ermittlungen wegen gefährlicher Körperverletzung zwei Verdächtige namhaft machen können, die noch am Abend festgenommen werden konnten. Die beiden 29 und 36 Jahre alten Männer wurden erkennungsdienstlich behandelt und mussten sich anschließend aufgrund von Atemalkoholwerten von über zwei Promille staatsanwaltschaftlichen Blutentnahmen unterziehen. Sie sollen heute einem Ermittlungsrichter zum Erlass von Haftbefehlen vorgeführt werden.'}]}\n",
      "{'title': 'Mann lebensgefährlich verletzt – Zeuge identifiziert', 'place': 'Lichtenberg', 'date': '20.01.2022', 'subtitle': '', 'data': [{'number': '0163', 'description': 'Der gesuchte Mann, der potentiell Zeuge eines versuchten Totschlags vom 16. September 2021 wurde, ist mittlerweile identifiziert. Es handelt sich um einen 31-Jährigen, der durch seine Mutter namhaft gemacht werden konnte.'}, {'number': 'Januar 2022: Mann lebensgefährlich verletzt – Zeuge gesucht', 'description': 'Mit der Veröffentlichung eines Fotos bittet die Polizei Berlin um Mithilfe bei der Suche nach einem potentiellen Zeugen. Der abgebildete Mann soll nach bisherigen Informationen Beobachter eines versuchten Totschlags am Vormittag des 16. September 2021 geworden sein. Dabei ist ein 52-Jähriger so schwer verletzt worden, dass er mehrere Wochen im Koma lag.'}, {'number': 'September 2021: Verletzter Mann aufgefunden – Tatverdächtige festgenommen', 'description': 'Mit schwersten Verletzungen wurde gestern Mittag ein Mann in eine Klinik aufgenommen und umgehend auf die Intensivstation verlegt. Dem Vernehmen nach besteht bei dem der Obdachlosenszene zuzuordnenden Mann Lebensgefahr.\\n    Nach dem bisherigen Erkenntnisstand wurde eine Passantin gegen 11.40 Uhr in Lichtenberg auf eine Gruppe aufmerksam, die in einer Grünanlage in der Möllendorffstraße um einen am Boden liegenden Mann stand. Die 39-Jährige alarmierte daraufhin den Polizeinotruf und rief dies den Unbekannten zu, die sich sofort entfernten. Die Einsatzkräfte von Polizei und Feuerwehr entdeckten dann den Verletzten, versorgten ihn und veranlassten den Transport ins Krankenhaus. Dort wurden Hirnblutungen, mehrere Hämatome sowie Knochenbrüche im Gesicht und am Oberkörper diagnostiziert.\\n    Die Kriminalpolizei der Direktion 3 (Ost) hat im Rahmen der eingeleiteten Ermittlungen wegen gefährlicher Körperverletzung zwei Verdächtige namhaft machen können, die noch am Abend festgenommen werden konnten. Die beiden 29 und 36 Jahre alten Männer wurden erkennungsdienstlich behandelt und mussten sich anschließend aufgrund von Atemalkoholwerten von über zwei Promille staatsanwaltschaftlichen Blutentnahmen unterziehen. Sie sollen heute einem Ermittlungsrichter zum Erlass von Haftbefehlen vorgeführt werden.'}]}\n",
      "pressemitteilung.1149377.json {'title': 'Tötungsdelikt in Wedding – Tatverdächtige in Haft', 'place': '', 'date': '17.02.2022', 'subtitle': '', 'data': [{'number': 'Gemeinsame Meldung Polizei und Staatsanwaltschaft Berlin', 'description': 'Mitte/Bundesweit\\nNr. 2613\\n    Am 23. November 2021 wurde ein 39-jähriger Mann gegen 7 Uhr erschossen in seiner Wohnung in Berlin-Wedding, Müllerstraße 38, aufgefunden.\\n    Die umfangreichen Ermittlungen der 2. Mordkommission des Landeskriminalamtes gemeinsam mit der Staatsanwaltschaft Berlin führten bereits am 14. Januar 2022 zur Festnahme einer 24-jährigen Frau in Aachen. Die Festnahme erfolgte wegen eines zuvor in Berlin erwirkten Haftbefehls wegen Beihilfe zum Mord an dem 39-Jährigen mit Unterstützung durch Berliner und örtliche Zielfahndungskräfte.\\n    Nunmehr wurden auch Haftbefehle wegen Mordes für die beiden männlichen Haupttatverdächtigen in Berlin erlassen und in Aachen und Köln verkündet, wo die Männer sich wegen des Verdachts eines bewaffneten Raubes in anderer Sache bereits in Untersuchungshaft befinden. Sie sind 31 und 38 Jahre alt und – wie auch die Inhaftierung wegen Verdacht des Raubes zeigt – polizeibekannt.\\n    Die drei Tatverdächtigen sind nach vorliegenden Erkenntnissen zur Tatbegehung gemeinsam von Bonn aus nach Berlin gefahren, um den 39-Jährigen zu töten. Nach der Tat flüchteten sie zunächst unerkannt wieder nach Bonn und hielten sich dort und in der Umgebung versteckt.\\n    Alle Tatbeteiligten und der Erschossene sind arabisch-libanesischer Herkunft. Das Motiv ist u. a. in familiären Auseinandersetzungen bezüglich eines Sorgerechtsstreites um die Kinder des Getöteten zu sehen: Der 39-Jährige hatte mit einer Schwester eines der Tatverdächtigen zwei kleine Kinder. Als die Schwester im Frühjahr 2020 in Berlin verstarb, verlangte die Familie der Kindesmutter das Sorgerecht und behielt die Kinder bei sich in Bonn.\\n    Der Getötete und Vater der Kinder hingegen wollte dies nicht hinnehmen und strengte gerichtlich den Erhalt des Sorgerechtes an. Im Dezember 2021, also in zeitlicher Nähe zu der Tötung, war ein Termin beim Familiengericht terminiert.\\n    Im Zusammenhang mit den Ermittlungen führten Ermittler der 2. Mordkommission vor Ort gemeinsam mit Kräften der Polizeipräsidien Bonn und Aachen in der Woche ab dem 10. Januar 2022 mehrere Wohnungsdurchsuchungen und Vernehmungen sowie umfangreiche Ermittlungen zur Erhärtung einer bestehenden Verdachtslage durch. Die beiden Kleinkinder wurden in die Obhut des Jugendamtes Bonn gegeben.\\n    Umfangreiches Beweismaterial konnte sichergestellt werden. Das ermittelte Tatfahrzeug, ein Mietwagen, wurde zur Spurensicherung von Bonn nach Berlin transportiert. Die Ermittlungen dauern an.'}, {'number': 'Dezember 2021: Mann in seiner Wohnung erschossen – Mordkommission sucht Zeugen', 'description': 'Mit der Veröffentlichung von Fotos des Opfers bat die Polizei und Staatsanwaltschaft Berlin um Mithilfe. Am Morgen des 23. November 2021, kurz nach 7 Uhr, wurde ein 39-Jähriger Mann in seiner Wohnung in der Müllerstraße 38 in Wedding von einem unbekannten Täter/unbekannten Tätern erschossen.'}, {'number': 'November 2021: Mann in Wohnung tot aufgefunden – Mordkommission ermittelt', 'description': 'In einer Wohnung in Wedding wurde heute Morgen der Mieter tot aufgefunden. Bekannte fanden den 39-Jährigen gegen 7.30 Uhr in der Wohnung in einem Mehrfamilienhaus an der Müllerstraße und alarmierten Feuerwehr und Polizei. Reanimationsmaßnahmen der Rettungskräfte verliefen ohne Erfolg. Die Auffindesituation des Toten deutet auf ein Tötungsdelikt hin. Die 2. Mordkommission des Landeskriminalamtes und die Staatsanwaltschaft Berlin haben vor Ort die Ermittlungen aufgenommen. Sie dauern an.'}]}\n",
      "{'title': 'Tötungsdelikt in Wedding – Tatverdächtige in Haft', 'place': '', 'date': '17.02.2022', 'subtitle': '', 'data': [{'number': 'Gemeinsame Meldung Polizei und Staatsanwaltschaft Berlin', 'description': 'Mitte/Bundesweit\\nNr. 2613\\n    Am 23. November 2021 wurde ein 39-jähriger Mann gegen 7 Uhr erschossen in seiner Wohnung in Berlin-Wedding, Müllerstraße 38, aufgefunden.\\n    Die umfangreichen Ermittlungen der 2. Mordkommission des Landeskriminalamtes gemeinsam mit der Staatsanwaltschaft Berlin führten bereits am 14. Januar 2022 zur Festnahme einer 24-jährigen Frau in Aachen. Die Festnahme erfolgte wegen eines zuvor in Berlin erwirkten Haftbefehls wegen Beihilfe zum Mord an dem 39-Jährigen mit Unterstützung durch Berliner und örtliche Zielfahndungskräfte.\\n    Nunmehr wurden auch Haftbefehle wegen Mordes für die beiden männlichen Haupttatverdächtigen in Berlin erlassen und in Aachen und Köln verkündet, wo die Männer sich wegen des Verdachts eines bewaffneten Raubes in anderer Sache bereits in Untersuchungshaft befinden. Sie sind 31 und 38 Jahre alt und – wie auch die Inhaftierung wegen Verdacht des Raubes zeigt – polizeibekannt.\\n    Die drei Tatverdächtigen sind nach vorliegenden Erkenntnissen zur Tatbegehung gemeinsam von Bonn aus nach Berlin gefahren, um den 39-Jährigen zu töten. Nach der Tat flüchteten sie zunächst unerkannt wieder nach Bonn und hielten sich dort und in der Umgebung versteckt.\\n    Alle Tatbeteiligten und der Erschossene sind arabisch-libanesischer Herkunft. Das Motiv ist u. a. in familiären Auseinandersetzungen bezüglich eines Sorgerechtsstreites um die Kinder des Getöteten zu sehen: Der 39-Jährige hatte mit einer Schwester eines der Tatverdächtigen zwei kleine Kinder. Als die Schwester im Frühjahr 2020 in Berlin verstarb, verlangte die Familie der Kindesmutter das Sorgerecht und behielt die Kinder bei sich in Bonn.\\n    Der Getötete und Vater der Kinder hingegen wollte dies nicht hinnehmen und strengte gerichtlich den Erhalt des Sorgerechtes an. Im Dezember 2021, also in zeitlicher Nähe zu der Tötung, war ein Termin beim Familiengericht terminiert.\\n    Im Zusammenhang mit den Ermittlungen führten Ermittler der 2. Mordkommission vor Ort gemeinsam mit Kräften der Polizeipräsidien Bonn und Aachen in der Woche ab dem 10. Januar 2022 mehrere Wohnungsdurchsuchungen und Vernehmungen sowie umfangreiche Ermittlungen zur Erhärtung einer bestehenden Verdachtslage durch. Die beiden Kleinkinder wurden in die Obhut des Jugendamtes Bonn gegeben.\\n    Umfangreiches Beweismaterial konnte sichergestellt werden. Das ermittelte Tatfahrzeug, ein Mietwagen, wurde zur Spurensicherung von Bonn nach Berlin transportiert. Die Ermittlungen dauern an.'}, {'number': 'Dezember 2021: Mann in seiner Wohnung erschossen – Mordkommission sucht Zeugen', 'description': 'Mit der Veröffentlichung von Fotos des Opfers bat die Polizei und Staatsanwaltschaft Berlin um Mithilfe. Am Morgen des 23. November 2021, kurz nach 7 Uhr, wurde ein 39-Jähriger Mann in seiner Wohnung in der Müllerstraße 38 in Wedding von einem unbekannten Täter/unbekannten Tätern erschossen.'}, {'number': 'November 2021: Mann in Wohnung tot aufgefunden – Mordkommission ermittelt', 'description': 'In einer Wohnung in Wedding wurde heute Morgen der Mieter tot aufgefunden. Bekannte fanden den 39-Jährigen gegen 7.30 Uhr in der Wohnung in einem Mehrfamilienhaus an der Müllerstraße und alarmierten Feuerwehr und Polizei. Reanimationsmaßnahmen der Rettungskräfte verliefen ohne Erfolg. Die Auffindesituation des Toten deutet auf ein Tötungsdelikt hin. Die 2. Mordkommission des Landeskriminalamtes und die Staatsanwaltschaft Berlin haben vor Ort die Ermittlungen aufgenommen. Sie dauern an.'}]}\n",
      "pressemitteilung.107858.json {'title': 'Unbekannte tote Frau nach Jahren identifiziert', 'place': 'Steglitz-Zehlendorf', 'date': '22.11.2022', 'subtitle': '', 'data': [{'number': '2236', 'description': 'Nach über acht Jahren konnte eine unbekannte tote Frau identifiziert werden. Bei der am 25. Februar 2014 tot aus dem Teltowkanal geborgenen Frau handelt es sich um eine damals 51-Jährige aus Lichterfelde. Anhand eines DNA-Abgleichs mit zwei Brüdern der Verstorbenen konnte sie identifiziert werden.\\n    Nachdem die Mutter der Geschwister im Mai 2022 verstorben war und die verschollene Schwester bei der Testamentseröffnung thematisiert wurde, gab die zuständige Rechtspflegerin den Hinweis, dass auf der Internetseite der Polizei Berlin das Foto einer unbekannten Toten veröffentlich wurde, die die Schwester sein könnte. Mit diesem Hinweis gelang der Vermisstenstelle des Landeskriminalamtes nun die Identifizierung.'}, {'number': 'März 2014: Unbekannte Tote – Wer kennt die Frau?', 'description': 'Mit der Beschreibung einer unbekannten Toten bittet die Polizei Berlin um Mithilfe bei der Identifizierung.\\n    Die Frau wurde am Dienstag, den 25. Februar 2014, gegen 15 Uhr in Lichterfelde in Höhe des Klinikums Benjamin Franklin leblos aus dem Teltowkanal geborgen. Die Tote lag bereits ca. 2 bis 4 Wochen im Wasser.'}]}\n",
      "{'title': 'Unbekannte tote Frau nach Jahren identifiziert', 'place': 'Steglitz-Zehlendorf', 'date': '22.11.2022', 'subtitle': '', 'data': [{'number': '2236', 'description': 'Nach über acht Jahren konnte eine unbekannte tote Frau identifiziert werden. Bei der am 25. Februar 2014 tot aus dem Teltowkanal geborgenen Frau handelt es sich um eine damals 51-Jährige aus Lichterfelde. Anhand eines DNA-Abgleichs mit zwei Brüdern der Verstorbenen konnte sie identifiziert werden.\\n    Nachdem die Mutter der Geschwister im Mai 2022 verstorben war und die verschollene Schwester bei der Testamentseröffnung thematisiert wurde, gab die zuständige Rechtspflegerin den Hinweis, dass auf der Internetseite der Polizei Berlin das Foto einer unbekannten Toten veröffentlich wurde, die die Schwester sein könnte. Mit diesem Hinweis gelang der Vermisstenstelle des Landeskriminalamtes nun die Identifizierung.'}, {'number': 'März 2014: Unbekannte Tote – Wer kennt die Frau?', 'description': 'Mit der Beschreibung einer unbekannten Toten bittet die Polizei Berlin um Mithilfe bei der Identifizierung.\\n    Die Frau wurde am Dienstag, den 25. Februar 2014, gegen 15 Uhr in Lichterfelde in Höhe des Klinikums Benjamin Franklin leblos aus dem Teltowkanal geborgen. Die Tote lag bereits ca. 2 bis 4 Wochen im Wasser.'}]}\n",
      "pressemitteilung.1148761.json {'title': 'Discounter überfallen – Tatverdächtiger gesucht', 'place': 'Neukölln', 'date': '22.02.2022', 'subtitle': '', 'data': [{'number': '0423', 'description': 'Die Polizei Berlin bittet um Mithilfe bei der Suche nach einem mutmaßlichen Räuber. Der gesuchte Mann soll am Samstag, 20. November 2021 gegen 21 Uhr ein Lebensmittelgeschäft am Tempelhofer Weg in Britz überfallen haben. In einem Gerangel mit einer Mitarbeiterin im Alter von 42 Jahren und einem Mitarbeiter im Alter von 25 Jahren verletzte er diese mit einem Messer leicht, hebelte anschließend eine Kasse auf und entwendete daraus die Einnahmen. Anschließend flüchtete er mit seiner Beute aus dem Geschäft und entkam.'}, {'number': 'November 2021: Raub zum Ladenschluss', 'description': 'Ein vermeintlicher Kunde überfiel gestern Abend einen Supermarkt in Britz. Nach Angaben der 42-jährigen Angestellten des Discounters am Tempelhofer Weg begleitete sie um 21 Uhr mit Hinweis auf den Ladenschluss einen mutmaßlichen Kunden zur Tür, als dieser sie plötzlich ins Geschäft zurückdrängte. Auf die Situation aufmerksam geworden, kam der Frau ihr 25-jähriger Kollege zu Hilfe. In dem Gerangel mit dem Unbekannten soll dieser ein Messer aus der Kleidung gezogen und die beiden Angestellten leicht verletzt haben, die nun von dem Mann abließen. Dieser soll anschließend zu einer der Kassen gegangen sein, habe die Lade mit dem Messer aufgehebelt und Geld entnommen. Mit der Beute flüchtete der Angreifer nach Angaben von Zeugen in Richtung Gradestraße. Die beiden Angestellten erlitten leichte Stich- bzw. Schnittverletzungen an den Armen und wollten sich gegebenenfalls selbst in ärztliche Behandlung begeben. Die Ermittlungen zu dem Raub dauern an und wurden von einem\\n    Fachkommissariat der Direktion 4 (Süd) übernommen.'}]}\n",
      "{'title': 'Discounter überfallen – Tatverdächtiger gesucht', 'place': 'Neukölln', 'date': '22.02.2022', 'subtitle': '', 'data': [{'number': '0423', 'description': 'Die Polizei Berlin bittet um Mithilfe bei der Suche nach einem mutmaßlichen Räuber. Der gesuchte Mann soll am Samstag, 20. November 2021 gegen 21 Uhr ein Lebensmittelgeschäft am Tempelhofer Weg in Britz überfallen haben. In einem Gerangel mit einer Mitarbeiterin im Alter von 42 Jahren und einem Mitarbeiter im Alter von 25 Jahren verletzte er diese mit einem Messer leicht, hebelte anschließend eine Kasse auf und entwendete daraus die Einnahmen. Anschließend flüchtete er mit seiner Beute aus dem Geschäft und entkam.'}, {'number': 'November 2021: Raub zum Ladenschluss', 'description': 'Ein vermeintlicher Kunde überfiel gestern Abend einen Supermarkt in Britz. Nach Angaben der 42-jährigen Angestellten des Discounters am Tempelhofer Weg begleitete sie um 21 Uhr mit Hinweis auf den Ladenschluss einen mutmaßlichen Kunden zur Tür, als dieser sie plötzlich ins Geschäft zurückdrängte. Auf die Situation aufmerksam geworden, kam der Frau ihr 25-jähriger Kollege zu Hilfe. In dem Gerangel mit dem Unbekannten soll dieser ein Messer aus der Kleidung gezogen und die beiden Angestellten leicht verletzt haben, die nun von dem Mann abließen. Dieser soll anschließend zu einer der Kassen gegangen sein, habe die Lade mit dem Messer aufgehebelt und Geld entnommen. Mit der Beute flüchtete der Angreifer nach Angaben von Zeugen in Richtung Gradestraße. Die beiden Angestellten erlitten leichte Stich- bzw. Schnittverletzungen an den Armen und wollten sich gegebenenfalls selbst in ärztliche Behandlung begeben. Die Ermittlungen zu dem Raub dauern an und wurden von einem\\n    Fachkommissariat der Direktion 4 (Süd) übernommen.'}]}\n",
      "pressemitteilung.1144866.json {'title': 'Einbruch in Bankfiliale', 'place': 'Charlottenburg-Wilmersdorf', 'date': '16.06.2022', 'subtitle': '', 'data': [{'number': '1219', 'description': 'Das Landeskriminalamt Berlin suchte nach den Tatverdächtigen die sich gewaltsam Zugang zu den Kellerräumlichkeiten der Bankfiliale in der Uhlandstraße 9 verschafften. Dort brachen sie vier Schließfächer auf und stahlen deren Inhalte. Im Rahmen der Ermittlungen sind weitere Einbruchstaten bekannt geworden, welche die Beteiligung eines gleichen Täters an verschiedenen Taten vermuten lassen.'}]}\n",
      "{'title': 'Einbruch in Bankfiliale', 'place': 'Charlottenburg-Wilmersdorf', 'date': '16.06.2022', 'subtitle': '', 'data': [{'number': '1219', 'description': 'Das Landeskriminalamt Berlin suchte nach den Tatverdächtigen die sich gewaltsam Zugang zu den Kellerräumlichkeiten der Bankfiliale in der Uhlandstraße 9 verschafften. Dort brachen sie vier Schließfächer auf und stahlen deren Inhalte. Im Rahmen der Ermittlungen sind weitere Einbruchstaten bekannt geworden, welche die Beteiligung eines gleichen Täters an verschiedenen Taten vermuten lassen.'}]}\n"
     ]
    }
   ],
   "source": [
    "import json\n",
    "import numpy as np\n",
    "import pandas as pd\n",
    "import seaborn as sns\n",
    "import matplotlib as plt\n",
    "\n",
    "#test with one json file\n",
    "\n",
    "#pd.read_json(\"pressemitteilung.1127716.json\")\n",
    "\n",
    "import os, json\n",
    "\n",
    "path_to_json_files = '/home/marjal/code/hclpush/finding-conan/data-preparation/openai-api/test_api_json_files'\n",
    "#get all JSON file names as a list\n",
    "json_file_names = [filename for filename in os.listdir(path_to_json_files) if filename.endswith('.json')]\n",
    "\n",
    "for json_file_name in json_file_names:\n",
    "    with open(os.path.join(path_to_json_files, json_file_name)) as json_file:\n",
    "        json_text = json.load(json_file)\n",
    "        print(json_file_name, json_text)\n",
    "        print(json_text)\n",
    "        \n",
    "# How do we want to feed our data to the API, how many cases should be in one batch \n",
    "# How would it work with an estimate of 20.000 json files        "
   ]
  },
  {
   "cell_type": "code",
   "execution_count": 64,
   "id": "a54a9839",
   "metadata": {},
   "outputs": [],
   "source": [
    "import json\n",
    "\n",
    "case1 = json.dumps(json_text)\n",
    "case1 = case1.strip(\"{\")\n",
    "case1 = case1.strip(\"}\").strip(\"]\")\n",
    "case1 = case1.replace('\"', '')\n"
   ]
  },
  {
   "cell_type": "code",
   "execution_count": 31,
   "id": "7e240d71",
   "metadata": {},
   "outputs": [
    {
     "name": "stdout",
     "output_type": "stream",
     "text": [
      "title: Einbruch in Bankfiliale, place: Charlottenburg-Wilmersdorf, date: 16.06.2022, subtitle: , data: [{number: 1219, description: Das Landeskriminalamt Berlin suchte nach den Tatverd\\u00e4chtigen die sich gewaltsam Zugang zu den Kellerr\\u00e4umlichkeiten der Bankfiliale in der Uhlandstra\\u00dfe 9 verschafften. Dort brachen sie vier Schlie\\u00dff\\u00e4cher auf und stahlen deren Inhalte. Im Rahmen der Ermittlungen sind weitere Einbruchstaten bekannt geworden, welche die Beteiligung eines gleichen T\\u00e4ters an verschiedenen Taten vermuten lassen.}\n"
     ]
    }
   ],
   "source": [
    "print(f\"{case1}\")"
   ]
  },
  {
   "cell_type": "code",
   "execution_count": 65,
   "id": "db51dd38",
   "metadata": {},
   "outputs": [
    {
     "name": "stdout",
     "output_type": "stream",
     "text": [
      "\n",
      "\n",
      "1. Robbery on August 8th at 11:30pm in Neukölln \n",
      "2. Assault on August 9th at 2:00am in Mitte \n",
      "3. Theft on August 10th at 4:00pm in Kreuzberg \n",
      "4. Burglary on August 11th at 8:00pm in Friedrichshain \n",
      "5. Vandalism on August 12th at 10:00pm in Charlottenburg\n"
     ]
    }
   ],
   "source": [
    "def chatGPT(text):\n",
    "    url = \"https://api.openai.com/v1/completions\"\n",
    "    headers = {\n",
    "        \"Content-Type\": \"application/json\",\n",
    "        \"Authorization\": f\"Bearer {API_Key}\",\n",
    "    }\n",
    "    data = { \n",
    "        \"model\": 'text-davinci-003', #'gpt-3.5-turbo' #'gpt-4', #\"text-davinci-003\",\n",
    "        \"prompt\": \"list me where in Berlin which crime happened on which day and to which time\", #text,\n",
    "        \"max_tokens\": 1000,\n",
    "        \"temperature\": 0.4,\n",
    "    }\n",
    "    response = requests.post(url, headers=headers, json=data)\n",
    "    output = response.json()['choices'][0]['text']\n",
    "    return print(output) #we ant to have a table\n",
    "\n",
    "#chatGPT(\"Please list me the 10 most common crimes in Berlin, Germany.\")\n",
    "\n",
    "chatGPT(f\"{case1}\")"
   ]
  },
  {
   "cell_type": "code",
   "execution_count": null,
   "id": "347ba936",
   "metadata": {},
   "outputs": [],
   "source": [
    "#chatGPT(f\"{case1}\")"
   ]
  },
  {
   "cell_type": "code",
   "execution_count": null,
   "id": "33f74c71",
   "metadata": {},
   "outputs": [],
   "source": []
  }
 ],
 "metadata": {
  "kernelspec": {
   "display_name": "Python 3 (ipykernel)",
   "language": "python",
   "name": "python3"
  },
  "language_info": {
   "codemirror_mode": {
    "name": "ipython",
    "version": 3
   },
   "file_extension": ".py",
   "mimetype": "text/x-python",
   "name": "python",
   "nbconvert_exporter": "python",
   "pygments_lexer": "ipython3",
   "version": "3.10.6"
  },
  "toc": {
   "base_numbering": 1,
   "nav_menu": {},
   "number_sections": true,
   "sideBar": true,
   "skip_h1_title": false,
   "title_cell": "Table of Contents",
   "title_sidebar": "Contents",
   "toc_cell": false,
   "toc_position": {},
   "toc_section_display": true,
   "toc_window_display": false
  }
 },
 "nbformat": 4,
 "nbformat_minor": 5
}
