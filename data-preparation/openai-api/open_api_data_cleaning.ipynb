{
 "cells": [
  {
   "cell_type": "markdown",
   "id": "5bca13dd",
   "metadata": {},
   "source": [
    "## Data cleaning - reduce complicated and less intresting cases "
   ]
  },
  {
   "cell_type": "markdown",
   "id": "25dc91a3",
   "metadata": {},
   "source": [
    "*Issue 1: Some files contain cases with additional follow-up reports*"
   ]
  },
  {
   "cell_type": "markdown",
   "id": "8c16066e",
   "metadata": {},
   "source": [
    "**Example:**\n",
    "\n",
    "     \"title\": \"Die Mordkommission sucht nach unbekannter verdächtiger Person – Belohnung ausgelobt\",\n",
    "    \"place\": \"Charlottenburg-Wilmersdorf\",\n",
    "    \"date\": \"25.03.2023\",\n",
    "    \"subtitle\": \"Gemeinsame Meldung der Polizei und der Staatsanwaltschaft Berlin\",\n",
    "    \"data\": [\n",
    "        {\n",
    "            \"number\": \"Gemeinsame Meldung der Polizei und der Staatsanwaltschaft Berlin\",\n",
    "            \"description\": \"\"\n",
    "       \n",
    "            \"number\": \"0430\",\n",
    "            \"description\": \"Die 50-jährige Inhaberin eines Kosmetikstudios am Walter-Benjamin-Platz in Berlin-Charlottenburg, Oksana Romberg, wurde am Donnerstag, 1. April 2021, gegen 18 Uhr tot in ihrer Wohnung am Kurfürstendamm gefunden. Sie wurde dort am 31. März 2021 Opfer eines Tötungsdelikts. Der Täter setzte bei der Tatbegehung neben körperlicher Gewalt auch mittelgroße Kieselsteine ein und erbeutete unter anderem ein goldfarbenes Handy iPhone 12 Pro Max sowie einen Schlüsselbund mit einem roten, herzförmigen Anhänger.\\n    Im Rahmen der Ermittlungen konnte das Video einer Überwachungskamera zu einem Innenhof des Walter-Benjamin-Platzes gesichert werden, auf dem am 31. März 2021, gegen 17.30 Uhr eine verdächtige Person in der Nähe des Tatorts zu sehen ist.\"              \n",
    "        {\n",
    "            \"number\": \"Belohnung in Höhe von bis zu 5.000 Euro\",\n",
    "            \"description\": \"Die Staatsanwaltschaft Berlin hat eine  für Hinweise zur Gewinnung von Beweismitteln, durch die der Täter überführt werden kann, ausgesetzt. Dabei ist die Belohnung ausschließlich für Personen aus der Bevölkerung bestimmt, zu deren Berufspflichten nicht die Verfolgung von Straftaten gehört. Personen, die an der Tat beteiligt waren, sind von einer Zuteilung ebenso ausgeschlossen. Die Verteilung der Belohnung findet unter Ausschluss des Rechtsweges statt.\"\n",
    "        }\n"
   ]
  },
  {
   "cell_type": "markdown",
   "id": "ea7d03b5",
   "metadata": {},
   "source": [
    "*Issue 2: We have too many cases and some are less relevant for our use-case then others. e.g. car accidents or missing persons are less relevant. Therefore, we created a file with keyword that we can find in the headlines and would like to use to exclude cases/json files.*"
   ]
  },
  {
   "cell_type": "markdown",
   "id": "e9730437",
   "metadata": {},
   "source": [
    "!! **Goal: We want to exclude all cases with multiple \"cases\"**"
   ]
  },
  {
   "cell_type": "markdown",
   "id": "85647d2c",
   "metadata": {},
   "source": [
    "**Plan: \n",
    "- 1. loop over folder to access json files\n",
    "- 2. creates new folders A and B\n",
    "- 3. check for key \"name\" if it occurs just 1 time, if so sort file into folder A otherwise (>=2) B\n",
    "- 4. Does this for all json files\n",
    "- 5. Second - looks for all jsons in folder A and B if Key \"title\" contains one of our \"don't want' keyswords\n",
    "- 6. creates new folder named \"irrelevant\" in each A and B folder\n",
    "- 7. if json contains keyword in title json is sorted into \"irrelevant\" folder**\n",
    "     "
   ]
  },
  {
   "cell_type": "markdown",
   "id": "805b1a7f",
   "metadata": {},
   "source": [
    "-------"
   ]
  },
  {
   "cell_type": "code",
   "execution_count": 1,
   "id": "46456645",
   "metadata": {},
   "outputs": [],
   "source": [
    "# Test for the years 2017-2023 seperatly # this did not work so in the end I added all json files from all years in one folder "
   ]
  },
  {
   "cell_type": "markdown",
   "id": "d7cb8453",
   "metadata": {},
   "source": [
    "### **combined data cleaning - keywords and recurring cases - with detailed descriptions** "
   ]
  },
  {
   "cell_type": "code",
   "execution_count": 3,
   "id": "4e6ba7a9",
   "metadata": {},
   "outputs": [],
   "source": [
    "#seperation of recurring files - works\n",
    "import os  # Used for file and directory operations\n",
    "import json  # Used for JSON file handling\n",
    "import shutil  # Used for moving files between directories\n",
    "\n",
    "def sort_json_files():\n",
    "    source_folder = os.path.join(os.path.dirname(os.path.dirname(os.getcwd())), \n",
    "                                 'raw-data', \n",
    "                                'unstructured-data',\n",
    "                                'all-years-in-one')\n",
    "    folder_a = 'Initial_Case' # The name of folder A - not recurring \n",
    "    folder_b = 'Recurring_Cases' # The name of folder B - recurring cases\n",
    "\n",
    "    # Create folders if they don't exist\n",
    "    if not os.path.exists(folder_a):\n",
    "        os.makedirs(folder_a)\n",
    "    if not os.path.exists(folder_b):\n",
    "        os.makedirs(folder_b)\n",
    "\n",
    "    for file_name in os.listdir(source_folder):\n",
    "        file_path = os.path.join(source_folder, file_name)\n",
    "\n",
    "        if os.path.isfile(file_path) and file_name.endswith('.json'):\n",
    "            with open(file_path) as file:\n",
    "                data = json.load(file)\n",
    "                if 'data' in data and isinstance(data['data'], list):\n",
    "                    number_count = sum('number' in item for item in data['data'])\n",
    "                    if number_count > 1:\n",
    "                        # Move the file to folder B\n",
    "                        destination_path = os.path.join(folder_b, file_name)\n",
    "                        shutil.move(file_path, destination_path)\n",
    "                    else:\n",
    "                        # Move the file to folder A\n",
    "                        destination_path = os.path.join(folder_a, file_name)\n",
    "                        shutil.move(file_path, destination_path)\n",
    "\n",
    "sort_json_files()"
   ]
  },
  {
   "cell_type": "code",
   "execution_count": 4,
   "id": "d950a101",
   "metadata": {},
   "outputs": [],
   "source": [
    "#keyword seperation - works\n",
    "import os\n",
    "import json\n",
    "import shutil\n",
    "\n",
    "def separate_files():\n",
    "    folder_a = 'Initial_Case'\n",
    "    folder_b = 'Recurring_Cases'\n",
    "    folder_irrelevant = 'irrelevant_cases'\n",
    "\n",
    "    # Process files in folder A\n",
    "    folder_a_irrelevant_path = os.path.join(folder_a, folder_irrelevant)\n",
    "    if not os.path.exists(folder_a_irrelevant_path):\n",
    "        os.makedirs(folder_a_irrelevant_path)\n",
    "\n",
    "    for file_name in os.listdir(folder_a):\n",
    "        file_path = os.path.join(folder_a, file_name)\n",
    "\n",
    "        if os.path.isfile(file_path) and file_name.endswith('.json'):\n",
    "            with open(file_path) as file:\n",
    "                data = json.load(file)\n",
    "                if 'title' in data and contains_keywords(data['title']):\n",
    "                    # Move the file to the 'irrelevant' folder within folder A\n",
    "                    destination_path = os.path.join(folder_a_irrelevant_path, file_name)\n",
    "                    shutil.move(file_path, destination_path)\n",
    "\n",
    "    # Process files in folder B\n",
    "    folder_b_irrelevant_path = os.path.join(folder_b, folder_irrelevant)\n",
    "    if not os.path.exists(folder_b_irrelevant_path):\n",
    "        os.makedirs(folder_b_irrelevant_path)\n",
    "\n",
    "    for file_name in os.listdir(folder_b):\n",
    "        file_path = os.path.join(folder_b, file_name)\n",
    "\n",
    "        if os.path.isfile(file_path) and file_name.endswith('.json'):\n",
    "            with open(file_path) as file:\n",
    "                data = json.load(file)\n",
    "                if 'title' in data and contains_keywords(data['title']):\n",
    "                    # Move the file to the 'irrelevant' folder within folder B\n",
    "                    destination_path = os.path.join(folder_b_irrelevant_path, file_name)\n",
    "                    shutil.move(file_path, destination_path)\n",
    "\n",
    "def contains_keywords(title):\n",
    "    keywords = [\n",
    "        'Vermisst',\n",
    "        'Verkehrsunfall',\n",
    "        'Autofahrer',\n",
    "        'Pkw',\n",
    "        'Führerschein',\n",
    "        'Fahrzeugführer',\n",
    "        'Verfolgungsfahrt',\n",
    "        'Autorennen',\n",
    "        'Bus',\n",
    "        'Fahrer',\n",
    "        'Versammlungslage',\n",
    "        'Unfall',\n",
    "        'Straßenbahn',\n",
    "        'Prostitution',\n",
    "        'Versammlung'\n",
    "    ]\n",
    "    return any(keyword.lower() in title.lower() for keyword in keywords)\n",
    "\n",
    "separate_files()\n"
   ]
  },
  {
   "cell_type": "markdown",
   "id": "5a2eb485",
   "metadata": {},
   "source": [
    "*An explanation of the code in more detail:*\n",
    "\n",
    "- The os package is used to perform file and directory operations, such as listing files in a directory, checking if a file or directory exists, and joining file paths.\n",
    "- The json package is used to handle JSON data. It provides functions like json.load() to load JSON data from a file.\n",
    "- The shutil package is used to perform file operations, such as moving files between directories. It provides the shutil.move() function for moving files.\n",
    "\n",
    "\n",
    "The separate_files() function is called to initiate the separation process.\n",
    "The code processes files in folder A:\n",
    " - a. It iterates over the files in folder A using os.listdir().\n",
    " - b. For each file, it checks if it is a JSON file (ends with '.json') and if it exists in folder A.\n",
    " - c. It opens the file using open(file_path) and reads the JSON data using json.load(file).\n",
    " - d. It checks if the 'title' key exists in the JSON data and if it contains any of the specified keywords using the contains_keywords() function.\n",
    " - e. If the file meets the criteria, it moves the file to the \"irrelevant\" folder within folder A using shutil.move().\n",
    "\n",
    "The code then processes files in folder B:\n",
    "- a. It follows a similar process as for folder A to iterate over the files, check for JSON files, load the JSON data, and check the 'title' key for the specified keywords.\n",
    "- b. If the file meets the criteria, it moves the file to the \"irrelevant\" folder within folder B.\n",
    "\n",
    "\n",
    "The contains_keywords() function takes a title string as input and checks if any of the specified keywords exist in the title. It uses a case-insensitive comparison to match the keywords.\n",
    "\n",
    "By using these Python packages and functions, the code performs the necessary operations to separate the files into folders A and B based on the presence of specific keywords in the 'title' key. It then further separates the files in each folder by moving the relevant files to the respective \"irrelevant\" folders"
   ]
  },
  {
   "cell_type": "markdown",
   "id": "11799575",
   "metadata": {},
   "source": [
    "---------------------------------------------"
   ]
  },
  {
   "cell_type": "markdown",
   "id": "bf84c72c",
   "metadata": {},
   "source": [
    "**to do:**\n",
    "- So far there is a separate \"irrelevant\" folder for A and one for \"B\" might be nicer to combine those - DECIDED NOT TO\n",
    "- Rename folders DONE\n",
    "- I did not separate per year - used data was 2017-2023 (>10.000 cases ended in folder A) - NO NEED\n",
    "- I did not test for different word endings of the keywords yet\n",
    "- check results - DONE\n",
    "    \n"
   ]
  },
  {
   "cell_type": "code",
   "execution_count": 36,
   "id": "9b0a4452",
   "metadata": {},
   "outputs": [],
   "source": [
    "# different version"
   ]
  },
  {
   "cell_type": "code",
   "execution_count": null,
   "id": "336c1606",
   "metadata": {},
   "outputs": [],
   "source": [
    "# keyword seperation - works\n",
    "# import os  # Used for file and directory operations\n",
    "# import json  # Used for JSON file handling\n",
    "# import shutil  # Used for moving files between directories\n",
    "\n",
    "# def separate_files():\n",
    "#     folder_a = 'A'  # The name of folder A - not recurring \n",
    "#     folder_b = 'B'  # The name of folder B - recurring cases\n",
    "#     folder_irrelevant = 'irrelevant'  # The name of the \"irrelevant\" folder\n",
    "\n",
    "#     # Process files in folder A\n",
    "\n",
    "#     # Iterate over the files in folder A\n",
    "#     for file_name in os.listdir(folder_a):\n",
    "#         file_path = os.path.join(folder_a, file_name)  # Get the full path of the file\n",
    "\n",
    "#         # Check if the current item is a file and ends with '.json'\n",
    "#         if os.path.isfile(file_path) and file_name.endswith('.json'):\n",
    "#             with open(file_path) as file:\n",
    "#                 data = json.load(file)  # Load the JSON data from the file\n",
    "#                 if 'title' in data and contains_keywords(data['title']):\n",
    "#                     # Move the file to the 'irrelevant' folder within folder A\n",
    "#                     destination_path = os.path.join(folder_a, folder_irrelevant, file_name)\n",
    "#                     shutil.move(file_path, destination_path)\n",
    "\n",
    "#     # Process files in folder B\n",
    "\n",
    "#     # Iterate over the files in folder B\n",
    "#     for file_name in os.listdir(folder_b):\n",
    "#         file_path = os.path.join(folder_b, file_name)  # Get the full path of the file\n",
    "\n",
    "#         # Check if the current item is a file and ends with '.json'\n",
    "#         if os.path.isfile(file_path) and file_name.endswith('.json'):\n",
    "#             with open(file_path) as file:\n",
    "#                 data = json.load(file)  # Load the JSON data from the file\n",
    "#                 if 'title' in data and contains_keywords(data['title']):\n",
    "#                     # Move the file to the 'irrelevant' folder within folder B\n",
    "#                     destination_path = os.path.join(folder_b, folder_irrelevant, file_name)\n",
    "#                     shutil.move(file_path, destination_path)\n",
    "\n",
    "# def contains_keywords(title):\n",
    "#     # List of specified keywords\n",
    "#     keywords = [\n",
    "#         'Vermisst',\n",
    "#         'Verkehrsunfall',\n",
    "#         'Autofahrer',\n",
    "#         'Pkw',\n",
    "#         'Führerschein',\n",
    "#         'Fahrzeugführer',\n",
    "#         'Verfolgungsfahrt',\n",
    "#         'Autorennen',\n",
    "#         'Bus',\n",
    "#         'Fahrer',\n",
    "#         'Versammlungslage',\n",
    "#         'Unfall',\n",
    "#         'Straßenbahn',\n",
    "#       'Prostitution',\n",
    "#         'Versammlung'\n",
    "#     ]\n",
    "\n",
    "#     # Check if any of the keywords are present in the title (case-insensitive)\n",
    "#     return any(keyword.lower() in title.lower() for keyword in keywords)\n",
    "\n",
    "# # Call the function to separate the files\n",
    "# separate_files()\n"
   ]
  }
 ],
 "metadata": {
  "kernelspec": {
   "display_name": "Python 3 (ipykernel)",
   "language": "python",
   "name": "python3"
  },
  "language_info": {
   "codemirror_mode": {
    "name": "ipython",
    "version": 3
   },
   "file_extension": ".py",
   "mimetype": "text/x-python",
   "name": "python",
   "nbconvert_exporter": "python",
   "pygments_lexer": "ipython3",
   "version": "3.10.6"
  },
  "toc": {
   "base_numbering": 1,
   "nav_menu": {},
   "number_sections": true,
   "sideBar": true,
   "skip_h1_title": false,
   "title_cell": "Table of Contents",
   "title_sidebar": "Contents",
   "toc_cell": false,
   "toc_position": {},
   "toc_section_display": true,
   "toc_window_display": false
  }
 },
 "nbformat": 4,
 "nbformat_minor": 5
}
