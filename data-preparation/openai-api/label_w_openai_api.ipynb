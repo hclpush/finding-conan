{
 "cells": [
  {
   "cell_type": "markdown",
   "id": "bfe6ed22",
   "metadata": {},
   "source": [
    "# Finding Conan\n",
    "We want to use Chatgpt4 to retrive information out of our scraped data - Polieimeldungen https://www.berlin.de/polizei/polizeimeldungen/\n",
    "\n",
    "We want the following information:\n",
    "1. When did the crime happened\n",
    "2. What crime happened\n",
    "3. Where did it happened\n"
   ]
  },
  {
   "cell_type": "code",
   "execution_count": 2,
   "id": "12d629a0",
   "metadata": {},
   "outputs": [],
   "source": [
    "# Install in terminal\n",
    "# pip install openai\n",
    "# pip install --upgrade openai\n",
    "# npm install openai"
   ]
  },
  {
   "cell_type": "markdown",
   "id": "8bc31c2c",
   "metadata": {},
   "source": [
    "# **Import the necessary packages**"
   ]
  },
  {
   "cell_type": "code",
   "execution_count": 245,
   "id": "f3340f32",
   "metadata": {},
   "outputs": [],
   "source": [
    "import os\n",
    "import openai\n",
    "import pandas as pd\n",
    "from IPython.display import display, Markdown\n",
    "import requests\n",
    "import json\n",
    "import shutil \n",
    "import time\n",
    "import glob\n",
    "import numpy as np\n",
    "import pandas as pd\n",
    "import seaborn as sns\n",
    "import matplotlib as plt\n",
    "from datetime import datetime"
   ]
  },
  {
   "cell_type": "markdown",
   "id": "87f9915b",
   "metadata": {},
   "source": [
    "# **Set API_Key secret**"
   ]
  },
  {
   "cell_type": "code",
   "execution_count": 318,
   "id": "f519e6d2",
   "metadata": {},
   "outputs": [],
   "source": [
    "# Get the path where the credential is\n",
    "path_cred = os.path.join(os.path.dirname(os.path.dirname(os.getcwd())), 'credentials')\n",
    "\n",
    "# open the credential\n",
    "with open(os.path.join(path_cred,'secrets.json')) as secrets_file:\n",
    "    secrets = json.load(secrets_file)\n",
    "    api_key = secrets['mlh_api_key']"
   ]
  },
  {
   "cell_type": "markdown",
   "id": "fa842193",
   "metadata": {},
   "source": [
    "# **select a model**\n",
    "\n",
    "https://platform.openai.com/docs/api-reference/models\n"
   ]
  },
  {
   "cell_type": "markdown",
   "id": "12edb903",
   "metadata": {},
   "source": [
    "# **connect to API**"
   ]
  },
  {
   "cell_type": "markdown",
   "id": "13e588fc",
   "metadata": {},
   "source": [
    "# load single json file"
   ]
  },
  {
   "cell_type": "code",
   "execution_count": 247,
   "id": "276399cb",
   "metadata": {},
   "outputs": [],
   "source": [
    "path_to_json_files = '/Users/ellenlee/code/hclpush/finding-conan/raw-data/unstructured-data' # TODO\n",
    "specification_1 = 'categorized-test-latest-2000-files'\n",
    "specification_2 = 'one-case'\n",
    "file_name = 'pressemitteilung.1207392.json'\n",
    "f = open(os.path.join(path_to_json_files, specification_1, specification_2, file_name))\n",
    "case = json.load(f)\n",
    "\n",
    "del case['subtitle']"
   ]
  },
  {
   "cell_type": "code",
   "execution_count": 248,
   "id": "d2e5bf2e",
   "metadata": {},
   "outputs": [
    {
     "data": {
      "text/plain": [
       "{'title': 'Vierjährige von Auto angefahren',\n",
       " 'place': 'Charlottenburg-Wilmersdorf',\n",
       " 'date': '17.05.2022',\n",
       " 'data': [{'number': '1047',\n",
       "   'description': 'Gestern Nachmittag wurde eine Vierjährige bei einem Verkehrsunfall im Ortsteil Grunewald verletzt. Nach derzeitigen Erkenntnissen und Zeugenaussagen wollte das Kind gegen 16.50 Uhr die Gehwegseite der Auerbachstraße wechseln, löste sich dafür von der Hand seiner Begleiterin, rannte auf die Straße und wurde dort von einem Auto angefahren. In Folge des Zusammenstoßes erlitt das Mädchen Verletzungen am Knie und im Bereich der Rippen, mit denen es vorsorglich in einem Krankenhaus verblieb. Da der 67-jährige Fahrzeugführer während der Sachverhaltsaufnahme geistig abwesend wirkte und nur schwer den Anweisungen der Einsatzkräfte folgen konnte, wurde ihm nach rechtlicher Belehrung ein Atemalkoholtest angeboten. Diesem stimmte er zu. Das Ergebnis: Rund ein Promille. Somit wurde sein Führerschein beschlagnahmt, sein Wagen geparkt und verschlossen und er nach Beendigung aller Maßnahmen vor Ort entlassen. Die weiteren Ermittlungen führt das Fachkommissariat für Verkehrsdelikte\\n    der Polizeidirektion 2 (West).'}]}"
      ]
     },
     "execution_count": 248,
     "metadata": {},
     "output_type": "execute_result"
    }
   ],
   "source": [
    "case"
   ]
  },
  {
   "cell_type": "code",
   "execution_count": 249,
   "id": "273b293c",
   "metadata": {},
   "outputs": [
    {
     "data": {
      "text/plain": [
       "'/Users/ellenlee/code/hclpush/finding-conan/raw-data/unstructured-data'"
      ]
     },
     "execution_count": 249,
     "metadata": {},
     "output_type": "execute_result"
    }
   ],
   "source": [
    "path_to_json_files"
   ]
  },
  {
   "cell_type": "markdown",
   "id": "a3ab4aa0",
   "metadata": {},
   "source": [
    "# Create Important Functions"
   ]
  },
  {
   "cell_type": "code",
   "execution_count": 429,
   "id": "c8fb35d5",
   "metadata": {},
   "outputs": [],
   "source": [
    "def chatGPT(text, api_key):\n",
    "    url = \"https://api.openai.com/v1/completions\"\n",
    "    headers = {\n",
    "        \"Content-Type\": \"application/json\",\n",
    "        \"Authorization\": f\"Bearer {api_key}\",\n",
    "    }\n",
    "    prompt = { \n",
    "        \"model\":\"text-davinci-003\",\n",
    "        \"prompt\":\n",
    "        \"\"\"\n",
    "        You are crime analyzing assistant. The assistant is helpful, clever, and gives accurate answers.\n",
    "\n",
    "        You define types of crimes according to the following categories:\n",
    "        Homicide = The act of unlawfully causing the death of another person.\n",
    "        Hate Crime - Disability = Anti-Mental Disability, Anti-Physical Disability\n",
    "        Hate Crime - Gender = Anti-Male, Anti-Female\n",
    "        Hate Crime - Gender Identity = Anti-Transgender, Anti-Gender Non-Conforming\n",
    "        Hate Crime - Religious = Anti-Buddhist, Anti-Catholic, Anti-Eastern Orthodox (Russian, Greek, Other), Anti-Hindu, Anti-Islamic, Anti-Jehovah’s Witness, Anti-Jewish, Anti-Mormon, Anti-Multiple Religions, Group, Anti-Other Christian, Anti-Other Religion, Anti-Protestant, Anti-Sikh, Anti-Atheism/Agnosticism, etc.\n",
    "        Hate Crime - Sexual orientation = Anti-Bisexual, Anti-Gay (Male), Anti-Heterosexual, Anti-Lesbian, Anti-Lesbian, Gay, Bisexual, or Transgender (Mixed Group)\n",
    "        Hate Crime - Racial/Ethnicity = Anti-American Indian or Alaska Native, Anti-Arab, Anti-Asian, Anti-Black or African American, Anti-Hispanic or Latino, Anti-Multiple Races, Group, Anti-Native Hawaiian or Other Pacific Islander, Anti-Other Race/Ethnicity/Ancestry, Anti-White\n",
    "        Property Crimes = Offenses that involve unlawful interference with someone else's property, such as theft, burglary, or vandalism.\n",
    "        Verbal Abuse = The use of offensive, derogatory, or threatening language with the intention to harm or intimidate another person verbally.\n",
    "        Property Damage = Is damage or destruction of real or tangible personal property, \n",
    "        Drug Offenses = Violations of laws related to the possession, distribution, manufacturing, or use of illegal substances or controlled substances without proper authorization.\n",
    "        General Assault = Physical or verbal attacks on another person that result in causing harm or fear.\n",
    "        Sexual Assault = Non-consensual sexual acts or behavior that involve physical or psychological harm or coercion\n",
    "        Sexual Harassment = Unwanted sexual advances, comments, or conduct that creates a hostile or uncomfortable environment for the victim\n",
    "        Unclassified = Cases or incidents that do not fit into any specific predefined category.\n",
    "\n",
    "        Read the following text of a crime that happened in Berlin, Germany. Give us information about the crime in the form of a key value pair. List the type of crime described in the text according to your definition. If multiple crimes occurred add all types of crimes that are described in the text. List the location as accurate as possible.\n",
    "        Also list the year, date, and time of the crime. List the sex of the victims and the sex of the offender. List how many victims and how many offenders were involved.  If have no clear answer you response with \"unknown\".\n",
    "\n",
    "        Here is one example for the following crime and the desired output:\n",
    "\n",
    "        Junge Männer mit Messer verletzt\n",
    "        Polizeimeldung vom 13.05.2023\n",
    "        Mitte\n",
    "        Nr. 0749\n",
    "        Gestern Abend zeigten ein Jugendlicher und zwei junge Männer in der Alex-Wache in Mitte Körperverletzungen, begangen aus einer Gruppe, an. Die beiden 20-Jährigen und ihr 17 Jahre alter Begleiter gaben an, dass sie gegen 21.30 Uhr auf dem Alexanderplatz in Richtung S-Bahnhof unterwegs waren, als sie plötzlich aus einer Gruppe von sechs bis acht Männern heraus zunächst angepöbelt und dann körperlich attackiert wurden. Dabei erlitt einer der 20-Jährigen eine stark blutende Schnittverletzung im Gesicht und sein gleichaltriger Bekannter eine oberflächliche Stichverletzung am Rücken. Der Jugendliche blieb unverletzt. Alarmierte Rettungskräfte brachten die beiden Verletzten in Krankenhäuser. Der am Rücken Verletzte wurde ambulant behandelt, der im Gesicht Verletzte stationär aufgenommen. Einsatzkräfte stellten kurz nach der Anzeigenerstattung in Höhe der Sankt Marienkirche zwei 19-jährige Männer fest, die nach Angaben des Trios zu der angreifenden Gruppe gehörten. Die Kräfte nahmen die beiden Tatverdächtigen fest und führten sie einer erkennungsdienstlichen Behandlung zu. Nach den polizeilichen Maßnahmen wurden beide entlassen. Die Ermittlungen zum Tatgeschehen und zu den anderen Mitgliedern der Gruppe dauern an und wurden von einem Fachkommissariat der Polizeidirektion 5 (City) übernommen.\n",
    "        Year: 2023\n",
    "        Date: 13.05\n",
    "        Time:  21.30 Uhr \n",
    "        Type of Crime: General Assault, Verbal Abuse\n",
    "        Location: Alexanderplatz \n",
    "        Victim's Sex: Male\n",
    "        Offender's Sex: Male\n",
    "        Number of Victims: 3\n",
    "        Number of Offenders: 6-8\n",
    "\n",
    "        Please do this for the following crime:\n",
    "        \"\"\" + str(text),\n",
    "        \"temperature\":0.22,\n",
    "        \"max_tokens\":1788,\n",
    "        \"top_p\":0.46,\n",
    "        \"frequency_penalty\":0,\n",
    "        \"presence_penalty\":0\n",
    "    }\n",
    "    response = requests.post(url, headers=headers, json=prompt)\n",
    "#     print('response: ')\n",
    "#     print(response)\n",
    "    json_response = response.json()  #TODO\n",
    "    print(f'======== Response.json(): {json_response} ========')\n",
    "    if \"error\" in json_response:\n",
    "        for num_retry in range(5):\n",
    "            print(f\"!!!!======== Server error occured. Retrying {num_retry+1}th time in 5 seconds... =======!!!!\")\n",
    "            time.sleep(5)  # Wait for 5 seconds\n",
    "            print(f\"!!!!======== Retrying {num_retry+1}th time now... =======!!!!\")\n",
    "            new_response = requests.post(url, headers=headers, json=prompt)\n",
    "            new_json_response = new_response.json()\n",
    "            if \"error\" in new_json_response: \n",
    "                num_retry += 1\n",
    "            elif 'choices' in new_json_response:\n",
    "                text_output = new_json_response['choices'][0]['text']\n",
    "                break\n",
    "            else:\n",
    "                print(\"!!!!======== Unexpected error occured! =======!!!!\")\n",
    "                break\n",
    "    else:\n",
    "        text_output = json_response['choices'][0]['text']\n",
    "        \n",
    "    \n",
    "    return text_output"
   ]
  },
  {
   "cell_type": "code",
   "execution_count": 415,
   "id": "cee8ca5f",
   "metadata": {},
   "outputs": [],
   "source": [
    "def retry_api(json_response):\n",
    "    print('Inside try_api!!')\n",
    "#     while True:\n",
    "        # Check the condition\n",
    "        if json_response['error']['type'] == 'server_error':\n",
    "            print(\"!!!!======== Server_error. Retrying in 5 seconds... =======!!!!\")\n",
    "            time.sleep(5)  # Wait for 5 seconds\n",
    "        else:\n",
    "            print('Inside try_api ELSE!!')\n",
    "            text_output = json_response['choices'][0]['text']\n",
    "            print(f'text_output: {text_output}')\n",
    "#             break\n",
    "            return text_output"
   ]
  },
  {
   "cell_type": "code",
   "execution_count": 423,
   "id": "30f2d690",
   "metadata": {},
   "outputs": [],
   "source": [
    "def label_cases_with_gpt(num_case, files_gen, output_dict):\n",
    "    \"\"\"\n",
    "    Calls openai api to label the raw scraped JSON files on criminal cases\n",
    "    Outputs a dictionary with keys being an unique identifier (combination of index and original case number) \n",
    "        and values being the listed case info\n",
    "    \"\"\"\n",
    "    for index, file_path in enumerate(files_gen[:num_case]): # DEBUG\n",
    "        data = open(file_path)# Get labeling from GPT API\n",
    "        case = json.load(data)\n",
    "        del case['subtitle'] # This does not include relevant info\n",
    "        \n",
    "        file_name = file_path.split('/')[-1]\n",
    "        case_id = str(file_name[-12:-5])\n",
    "        print(f'======== Working on labeling case number {index+1} with GPT: {case_id} ========')\n",
    "        \n",
    "        try: \n",
    "            raw_gpt_output = chatGPT(case, api_key)\n",
    "            output_dict[case_id] = raw_gpt_output\n",
    "\n",
    "        #Move file to folder\n",
    "            destination_dir_path = os.path.join(path_to_json_files, 'info-extracted-cases')\n",
    "            if not os.path.exists(destination_dir_path):\n",
    "                os.makedirs(destination_dir_path)\n",
    "            shutil.move(file_path, os.path.join(destination_dir_path, file_name))\n",
    "        except:\n",
    "            print(f'!!!!!======== Errors occurs while labeling case number {index+1} with case id {case_id} ========!!!!!')\n",
    "            break\n",
    "        \n",
    "    return output_dict"
   ]
  },
  {
   "cell_type": "code",
   "execution_count": 424,
   "id": "a3165d29",
   "metadata": {},
   "outputs": [],
   "source": [
    "def inject_cases_info_to_dict(input_dict):\n",
    "    \"\"\"\n",
    "    Creates a DataFrame from the dictionary which is the output of openai api labeling\n",
    "    \n",
    "    \"\"\"\n",
    "    output_dict = {\n",
    "        'unique_case_id':[],\n",
    "        'official_case_id':[],\n",
    "        'Type of Crime':[],\n",
    "        'Location':[],\n",
    "        'Year':[],\n",
    "        'Date':[],  # Modified\n",
    "        'Time':[],\n",
    "        \"Victim's Sex\":[],\n",
    "        \"Offender's Sex\":[],\n",
    "        'Number of Victims':[],\n",
    "        'Number of Offenders':[]\n",
    "}   \n",
    "    for index, (case_id, case_info) in enumerate(input_dict.items()):\n",
    "        print(f'======== Extracting info from labeled case number {index+1}: {case_id} ========')\n",
    "        try:\n",
    "        #Put infos in a dictionary\n",
    "#         print(case_info)\n",
    "            gpt_output_lst = case_info.strip().split('\\n')\n",
    "            gpt_output_lst = [ele.strip('\\n').strip() for ele in gpt_output_lst]\n",
    "            print('gpt_output_lst')\n",
    "            print(gpt_output_lst)\n",
    "            output_dict['official_case_id'].append(case_id.zfill(7))\n",
    "            output_dict['unique_case_id'].append(str(index+1).zfill(6) + '_' + case_id)\n",
    "            for element in gpt_output_lst:\n",
    "                key, value = element.split(\":\")\n",
    "                if key in output_dict.keys():\n",
    "                    output_dict[key].append(value.strip())\n",
    "\n",
    "        \n",
    "        except:\n",
    "            print(f'!!======== Errors occurs while procesing case id {case_id} ========!!')\n",
    "            # Move file to folder\n",
    "            file_name = f'pressemitteilung.{case_id}.json'\n",
    "            current_file_path = os.path.join(path_to_json_files, 'info-extracted-cases', file_name)\n",
    "            destination_dir_path = os.path.join(path_to_json_files, 'unsuccessful-cases')\n",
    "            \n",
    "            if not os.path.exists(destination_dir_path):\n",
    "                os.makedirs(destination_dir_path)\n",
    "            \n",
    "#             shutil.move(current_file_path, os.path.join(destination_dir_path, file_name))\n",
    "            break\n",
    "    \n",
    "    output_dict_renamed = {key.lower().replace(' ', '_').replace(\"'s\", \"\"): value \n",
    "                               for key, value in output_dict.items()}\n",
    "    \n",
    "    return output_dict_renamed"
   ]
  },
  {
   "cell_type": "code",
   "execution_count": 425,
   "id": "62b08298",
   "metadata": {},
   "outputs": [],
   "source": [
    "def output_csv(path_to_json_files, df):\n",
    "    output_folder = 'csv-output'\n",
    "    output_path = os.path.join(path_to_json_files, output_folder)\n",
    "    cur_datetime = datetime.now().strftime(\"%Y-%m-%d %H-%M\")\n",
    "    if not os.path.exists(output_path):\n",
    "            os.makedirs(output_path)\n",
    "    \n",
    "    csv_file_name = f'labeled_{df.shape[0]}_cases_{cur_datetime}.csv'\n",
    "    df.to_csv(os.path.join(output_path, csv_file_name), sep=',', index=False)\n",
    "    print(f'file save with name: {csv_file_name}')"
   ]
  },
  {
   "cell_type": "code",
   "execution_count": 426,
   "id": "73303d42",
   "metadata": {},
   "outputs": [],
   "source": [
    "def main_process(specification_1, specification_2, path_to_json_files, num_case=5, export_csv=False):\n",
    "    # Input files\n",
    "    files_gen = sorted(\n",
    "            glob.glob(\n",
    "            os.path.join(path_to_json_files, specification_1, specification_2, 'pressemitteilung*')),\n",
    "            reverse=True)\n",
    "    \n",
    "    \n",
    "    # Main processing\n",
    "    \n",
    "    start_time = time.time()  # Measure run time of GPT labeling\n",
    "    original_dict = {}\n",
    "    original_dict_filled = label_cases_with_gpt(num_case, files_gen, original_dict)\n",
    "    end_time = time.time() # Measure run time of GPT labeling\n",
    "    runtime_minutes = (end_time - start_time) / 60\n",
    "    print(f\"======= GPT labeling runtime: {runtime_minutes:.2f} minutes======\")\n",
    "    info_dict = inject_cases_info_to_dict(original_dict_filled)\n",
    "    \n",
    "    df = pd.DataFrame.from_dict(info_dict)\n",
    "#     print(df)\n",
    "    \n",
    "    if export_csv:\n",
    "        output_csv(path_to_json_files, df)\n",
    "        \n",
    "    return df"
   ]
  },
  {
   "cell_type": "code",
   "execution_count": 335,
   "id": "4fa54ad8",
   "metadata": {},
   "outputs": [],
   "source": [
    "# def move_file(file_name, path_to_json_files, current_dir, destination_dir):\n",
    "#         destination_dir_path = os.path.join(path_to_json_files, destination_dir) #'info-extracted-cases')\n",
    "#         if not os.path.exists(destination_dir_path):\n",
    "#             os.makedirs(destination_dir_path)\n",
    "#         shutil.move(file_path, os.path.join(destination_dir_path, file_name))"
   ]
  },
  {
   "cell_type": "markdown",
   "id": "5fb20731",
   "metadata": {},
   "source": [
    "# Start looping"
   ]
  },
  {
   "cell_type": "markdown",
   "id": "5b8e93ce",
   "metadata": {
    "heading_collapsed": true
   },
   "source": [
    "### One function for all"
   ]
  },
  {
   "cell_type": "code",
   "execution_count": 266,
   "id": "6594866f",
   "metadata": {
    "hidden": true
   },
   "outputs": [
    {
     "name": "stdout",
     "output_type": "stream",
     "text": [
      "======== Working on labeling case number 1 with GPT: 1290332 ========\n",
      "======== Response.json(): {'id': 'cmpl-7MsxWzFVEZLDdupJHpqUO1fo363Gm', 'object': 'text_completion', 'created': 1685688834, 'model': 'text-davinci-003', 'choices': [{'text': \"\\n\\nYear: 2023\\nDate: 01.02\\nTime: 3.30 Uhr\\nType of Crime: Homicide\\nLocation: Straße Zum Langen See, Treptow-Köpenick\\nVictim's Sex: Male\\nOffender's Sex: Unknown\\nNumber of Victims: 1\\nNumber of Offenders: Unknown\", 'index': 0, 'logprobs': None, 'finish_reason': 'stop'}], 'usage': {'prompt_tokens': 1553, 'completion_tokens': 74, 'total_tokens': 1627}} ========\n",
      "======== Working on labeling case number 2 with GPT: 1290192 ========\n",
      "======== Response.json(): {'id': 'cmpl-7MsxesTyGRW6EyjbMxd29Mffm8bB2', 'object': 'text_completion', 'created': 1685688842, 'model': 'text-davinci-003', 'choices': [{'text': \"\\n\\nYear: 2022\\nDate: 20.03\\nTime: 22.40 Uhr\\nType of Crime: General Assault, Verbal Abuse\\nLocation: Mitte, Fernsehturm\\nVictim's Sex: Male\\nOffender's Sex: Male\\nNumber of Victims: 1\\nNumber of Offenders: 10\", 'index': 0, 'logprobs': None, 'finish_reason': 'stop'}], 'usage': {'prompt_tokens': 1581, 'completion_tokens': 68, 'total_tokens': 1649}} ========\n",
      "======== Working on labeling case number 3 with GPT: 1289981 ========\n",
      "======== Response.json(): {'id': 'cmpl-7MsxkfyhMqS7UxufwOovlSYAqy7uW', 'object': 'text_completion', 'created': 1685688848, 'model': 'text-davinci-003', 'choices': [{'text': \"\\n\\nYear: 2023\\nDate: 31.01\\nTime: 23.40 Uhr\\nType of Crime: Property Crime, Theft\\nLocation: Johannisthal, Waldstraße, Stubenrauchstraße Ecke Sterndamm\\nVictim's Sex: Female\\nOffender's Sex: Male\\nNumber of Victims: 1\\nNumber of Offenders: 1\", 'index': 0, 'logprobs': None, 'finish_reason': 'stop'}], 'usage': {'prompt_tokens': 1649, 'completion_tokens': 80, 'total_tokens': 1729}} ========\n",
      "======== Working on labeling case number 4 with GPT: 1289711 ========\n",
      "======== Response.json(): {'id': 'cmpl-7Msxvm0sInGJSCXR8iX02U4XRgpTx', 'object': 'text_completion', 'created': 1685688859, 'model': 'text-davinci-003', 'choices': [{'text': \"\\n\\nYear: 2023\\nDate: 31.01\\nTime: 16 Uhr\\nType of Crime: Property Crime, General Assault\\nLocation: Virchow-Klinikums in der Nordstraße, Wedding\\nVictim's Sex: Male\\nOffender's Sex: Male\\nNumber of Victims: 1\\nNumber of Offenders: 2\", 'index': 0, 'logprobs': None, 'finish_reason': 'stop'}], 'usage': {'prompt_tokens': 1741, 'completion_tokens': 74, 'total_tokens': 1815}} ========\n",
      "======== Working on labeling case number 5 with GPT: 1289645 ========\n",
      "======== Response.json(): {'id': 'cmpl-7Msy499p9zYvuhZ1Tc9wpmCmN9fbl', 'object': 'text_completion', 'created': 1685688868, 'model': 'text-davinci-003', 'choices': [{'text': \"\\n\\nYear: 2023\\nDate: 31.01\\nTime: 20.45 Uhr\\nType of Crime: Property Crime, General Assault\\nLocation: Mariendorf, Westphalweg\\nVictim's Sex: Male\\nOffender's Sex: Male\\nNumber of Victims: 1\\nNumber of Offenders: 2\", 'index': 0, 'logprobs': None, 'finish_reason': 'stop'}], 'usage': {'prompt_tokens': 1895, 'completion_tokens': 68, 'total_tokens': 1963}} ========\n",
      "======== Working on labeling case number 6 with GPT: 1289623 ========\n",
      "======== Response.json(): {'id': 'cmpl-7MsyByEXHcNTzi5RHFmfzGEQLkB6y', 'object': 'text_completion', 'created': 1685688875, 'model': 'text-davinci-003', 'choices': [{'text': \"\\n        Year: 2022\\n        Date: 12.05\\n        Time: Unknown\\n        Type of Crime: General Assault, Verbal Abuse\\n        Location: U-Bahnhof Bundestag\\n        Victim's Sex: Male\\n        Offender's Sex: Male\\n        Number of Victims: 1\\n        Number of Offenders: 1\", 'index': 0, 'logprobs': None, 'finish_reason': 'stop'}], 'usage': {'prompt_tokens': 1678, 'completion_tokens': 71, 'total_tokens': 1749}} ========\n",
      "======== Working on labeling case number 7 with GPT: 1289168 ========\n",
      "======== Response.json(): {'id': 'cmpl-7MsyILe8bt1GgHoG2evDedAC5o3fl', 'object': 'text_completion', 'created': 1685688882, 'model': 'text-davinci-003', 'choices': [{'text': \"\\n\\nYear: 2023\\nDate: 30.01\\nTime: 3 Uhr\\nType of Crime: General Assault, Verbal Abuse\\nLocation: Brückenstraße \\nVictim's Sex: Male\\nOffender's Sex: Male\\nNumber of Victims: 1\\nNumber of Offenders: 3\", 'index': 0, 'logprobs': None, 'finish_reason': 'stop'}], 'usage': {'prompt_tokens': 1815, 'completion_tokens': 67, 'total_tokens': 1882}} ========\n",
      "======== Working on labeling case number 8 with GPT: 1289034 ========\n",
      "======== Response.json(): {'id': 'cmpl-7MsyPxyDJMWZ3llr5ovEzSzO4MGWi', 'object': 'text_completion', 'created': 1685688889, 'model': 'text-davinci-003', 'choices': [{'text': \"\\n\\nYear: 2023\\nDate: 30.01\\nTime: 17 Uhr\\nType of Crime: Property Crime\\nLocation: Plänterwald, Treptow-Köpenick\\nVictim's Sex: Unknown\\nOffender's Sex: Male\\nNumber of Victims: 1\\nNumber of Offenders: 1\", 'index': 0, 'logprobs': None, 'finish_reason': 'stop'}], 'usage': {'prompt_tokens': 1548, 'completion_tokens': 69, 'total_tokens': 1617}} ========\n",
      "======== Working on labeling case number 9 with GPT: 1289032 ========\n",
      "======== Response.json(): {'id': 'cmpl-7MsyWT3l7knpIsoVtcmpcLTl1HqJl', 'object': 'text_completion', 'created': 1685688896, 'model': 'text-davinci-003', 'choices': [{'text': \"\\n\\nYear: 2023\\nDate: 30.01\\nTime: 20.30 Uhr\\nType of Crime: Property Damage, General Assault, Drug Offenses\\nLocation: Johannisthaler Chaussee \\nVictim's Sex: Male\\nOffender's Sex: Male\\nNumber of Victims: 1\\nNumber of Offenders: 2\", 'index': 0, 'logprobs': None, 'finish_reason': 'stop'}], 'usage': {'prompt_tokens': 1830, 'completion_tokens': 72, 'total_tokens': 1902}} ========\n",
      "======== Working on labeling case number 10 with GPT: 1288970 ========\n",
      "======== Response.json(): {'id': 'cmpl-7MsyfRBaoiFzKwSmLGRdDY5tEndEn', 'object': 'text_completion', 'created': 1685688905, 'model': 'text-davinci-003', 'choices': [{'text': \"\\n\\nYear: 2023\\nDate: 29.01\\nTime: 23.20 Uhr\\nType of Crime: Property Crime\\nLocation: BAB 113\\nVictim's Sex: Unknown\\nOffender's Sex: Male\\nNumber of Victims: Unknown\\nNumber of Offenders: 1\", 'index': 0, 'logprobs': None, 'finish_reason': 'stop'}], 'usage': {'prompt_tokens': 1748, 'completion_tokens': 60, 'total_tokens': 1808}} ========\n",
      "======== Working on labeling case number 11 with GPT: 1288968 ========\n",
      "======== Response.json(): {'id': 'cmpl-7MsylJMctKwXbuF7bzLHM07k0QbJO', 'object': 'text_completion', 'created': 1685688911, 'model': 'text-davinci-003', 'choices': [{'text': \"\\n\\nYear: 2023\\nDate: 29.01\\nTime: 18.30 Uhr\\nType of Crime: Property Damage, Arson\\nLocation: Rudolstädter Straße, Charlottenburg-Wilmersdorf\\nVictim's Sex: Unknown\\nOffender's Sex: Unknown\\nNumber of Victims: 0\\nNumber of Offenders: Unknown\", 'index': 0, 'logprobs': None, 'finish_reason': 'stop'}], 'usage': {'prompt_tokens': 1527, 'completion_tokens': 78, 'total_tokens': 1605}} ========\n",
      "======== Working on labeling case number 12 with GPT: 1288967 ========\n",
      "======== Response.json(): {'id': 'cmpl-7MsyuGfUnwYZcuWilaGHKE76fbj94', 'object': 'text_completion', 'created': 1685688920, 'model': 'text-davinci-003', 'choices': [{'text': \"\\n\\nYear: 2023\\nDate: 29.01\\nTime: 16.25 Uhr\\nType of Crime: Property Damage, General Assault\\nLocation: Invalidenstraße \\nVictim's Sex: Male\\nOffender's Sex: Female\\nNumber of Victims: 2\\nNumber of Offenders: 1\", 'index': 0, 'logprobs': None, 'finish_reason': 'stop'}], 'usage': {'prompt_tokens': 2118, 'completion_tokens': 66, 'total_tokens': 2184}} ========\n",
      "======== Working on labeling case number 13 with GPT: 1288966 ========\n",
      "======== Response.json(): {'id': 'cmpl-7Msz0zKIJDpRP3gVmjpxLbY9pzPT1', 'object': 'text_completion', 'created': 1685688926, 'model': 'text-davinci-003', 'choices': [{'text': \"\\n\\nYear: 2023\\nDate: 29.01\\nTime: 12.35 Uhr\\nType of Crime: General Assault, Property Damage\\nLocation: Oberschöneweide, Siemensstraße, Wattstraße\\nVictim's Sex: Male\\nOffender's Sex: Male\\nNumber of Victims: 1\\nNumber of Offenders: 3\", 'index': 0, 'logprobs': None, 'finish_reason': 'stop'}], 'usage': {'prompt_tokens': 1971, 'completion_tokens': 78, 'total_tokens': 2049}} ========\n",
      "======== Working on labeling case number 14 with GPT: 1288965 ========\n",
      "======== Response.json(): {'id': 'cmpl-7Msz8ATlVqnfYR1eGbvHlZWLjdfU5', 'object': 'text_completion', 'created': 1685688934, 'model': 'text-davinci-003', 'choices': [{'text': \"\\n\\nYear: 2023\\nDate: 29.01\\nTime: 23.30 Uhr\\nType of Crime: Property Crime, General Assault\\nLocation: U-Bahnhof Pankow\\nVictim's Sex: Male\\nOffender's Sex: Male\\nNumber of Victims: 2\\nNumber of Offenders: 6-7\", 'index': 0, 'logprobs': None, 'finish_reason': 'stop'}], 'usage': {'prompt_tokens': 1917, 'completion_tokens': 70, 'total_tokens': 1987}} ========\n",
      "======== Working on labeling case number 15 with GPT: 1288956 ========\n"
     ]
    },
    {
     "name": "stdout",
     "output_type": "stream",
     "text": [
      "======== Response.json(): {'id': 'cmpl-7MszGI2r7yxF8h0rJOGMzvJVqXgnv', 'object': 'text_completion', 'created': 1685688942, 'model': 'text-davinci-003', 'choices': [{'text': \"\\n\\nYear: 2023\\nDate: 28.01\\nTime: 12.15 Uhr\\nType of Crime: Homicide, Property Damage\\nLocation: Schierker Straße, Neukölln\\nVictim's Sex: Female\\nOffender's Sex: Male\\nNumber of Victims: 1\\nNumber of Offenders: 1\", 'index': 0, 'logprobs': None, 'finish_reason': 'stop'}], 'usage': {'prompt_tokens': 1557, 'completion_tokens': 72, 'total_tokens': 1629}} ========\n",
      "======== Working on labeling case number 16 with GPT: 1288953 ========\n",
      "======== Response.json(): {'id': 'cmpl-7MszP3tdxfzW9lkunRC3A9WhsiYI6', 'object': 'text_completion', 'created': 1685688951, 'model': 'text-davinci-003', 'choices': [{'text': \"\\n\\nYear: 2023\\nDate: 28.01\\nTime: 3.10 Uhr\\nType of Crime: Property Damage, Arson\\nLocation: Tempelhof-Schöneberg\\nVictim's Sex: Unknown\\nOffender's Sex: Unknown\\nNumber of Victims: 0\\nNumber of Offenders: Unknown\", 'index': 0, 'logprobs': None, 'finish_reason': 'stop'}], 'usage': {'prompt_tokens': 1567, 'completion_tokens': 68, 'total_tokens': 1635}} ========\n",
      "======== Working on labeling case number 17 with GPT: 1288949 ========\n",
      "======== Response.json(): {'id': 'cmpl-7MszW6u7EMtLVG99rftom4KRSF58N', 'object': 'text_completion', 'created': 1685688958, 'model': 'text-davinci-003', 'choices': [{'text': \"\\n\\nYear: 2023\\nDate: 28.01\\nTime: Mitternacht\\nType of Crime: Property Damage\\nLocation: Bergheimer Platz, Taunusstraße/Stubenrauchstraße\\nVictim's Sex: Unknown\\nOffender's Sex: Male\\nNumber of Victims: Unknown\\nNumber of Offenders: 2\", 'index': 0, 'logprobs': None, 'finish_reason': 'stop'}], 'usage': {'prompt_tokens': 1825, 'completion_tokens': 74, 'total_tokens': 1899}} ========\n",
      "======== Working on labeling case number 18 with GPT: 1288946 ========\n",
      "======== Response.json(): {'id': 'cmpl-7MszfgXTeYPpnPz6PXV9O2u2cSNTY', 'object': 'text_completion', 'created': 1685688967, 'model': 'text-davinci-003', 'choices': [{'text': \"\\n\\nYear: 2023\\nDate: 28.01\\nTime: 0.30 Uhr\\nType of Crime: General Assault, Verbal Abuse\\nLocation: Ritterlandweg, Reinickendorf\\nVictim's Sex: Male, Female\\nOffender's Sex: Male\\nNumber of Victims: 3\\nNumber of Offenders: 10-15\", 'index': 0, 'logprobs': None, 'finish_reason': 'stop'}], 'usage': {'prompt_tokens': 1718, 'completion_tokens': 75, 'total_tokens': 1793}} ========\n",
      "======== Working on labeling case number 19 with GPT: 1288945 ========\n",
      "======== Response.json(): {'id': 'cmpl-7MsznwCmMPdYF2nekMFVxedk4ExH9', 'object': 'text_completion', 'created': 1685688975, 'model': 'text-davinci-003', 'choices': [{'text': \"\\n\\nYear: 2023\\nDate: 28.01\\nTime: 5.30 Uhr\\nType of Crime: Property Damage, Arson\\nLocation: Köpenicker Straße, Mitte\\nVictim's Sex: Unknown\\nOffender's Sex: Unknown\\nNumber of Victims: Unknown\\nNumber of Offenders: Unknown\", 'index': 0, 'logprobs': None, 'finish_reason': 'stop'}], 'usage': {'prompt_tokens': 1575, 'completion_tokens': 70, 'total_tokens': 1645}} ========\n",
      "======== Working on labeling case number 20 with GPT: 1288944 ========\n",
      "======== Response.json(): {'id': 'cmpl-7Mszt3VLBjoSkRkmcZ1imYUXAburr', 'object': 'text_completion', 'created': 1685688981, 'model': 'text-davinci-003', 'choices': [{'text': \"\\n\\nYear: 2023\\nDate: 28.01\\nTime: Unknown\\nType of Crime: Property Crime, General Assault\\nLocation: Pankow\\nVictim's Sex: Unknown\\nOffender's Sex: Unknown\\nNumber of Victims: 1\\nNumber of Offenders: Unknown\", 'index': 0, 'logprobs': None, 'finish_reason': 'stop'}], 'usage': {'prompt_tokens': 1317, 'completion_tokens': 59, 'total_tokens': 1376}} ========\n",
      "======= GPT labeling runtime: 2.56 minutes======\n",
      "======== Extracting info from labeled case number 1: 1290332 ========\n",
      "gpt_output_lst\n",
      "['Year: 2023', 'Date: 01.02', 'Time: 3.30 Uhr', 'Type of Crime: Homicide', 'Location: Straße Zum Langen See, Treptow-Köpenick', \"Victim's Sex: Male\", \"Offender's Sex: Unknown\", 'Number of Victims: 1', 'Number of Offenders: Unknown']\n",
      "======== Extracting info from labeled case number 2: 1290192 ========\n",
      "gpt_output_lst\n",
      "['Year: 2022', 'Date: 20.03', 'Time: 22.40 Uhr', 'Type of Crime: General Assault, Verbal Abuse', 'Location: Mitte, Fernsehturm', \"Victim's Sex: Male\", \"Offender's Sex: Male\", 'Number of Victims: 1', 'Number of Offenders: 10']\n",
      "======== Extracting info from labeled case number 3: 1289981 ========\n",
      "gpt_output_lst\n",
      "['Year: 2023', 'Date: 31.01', 'Time: 23.40 Uhr', 'Type of Crime: Property Crime, Theft', 'Location: Johannisthal, Waldstraße, Stubenrauchstraße Ecke Sterndamm', \"Victim's Sex: Female\", \"Offender's Sex: Male\", 'Number of Victims: 1', 'Number of Offenders: 1']\n",
      "======== Extracting info from labeled case number 4: 1289711 ========\n",
      "gpt_output_lst\n",
      "['Year: 2023', 'Date: 31.01', 'Time: 16 Uhr', 'Type of Crime: Property Crime, General Assault', 'Location: Virchow-Klinikums in der Nordstraße, Wedding', \"Victim's Sex: Male\", \"Offender's Sex: Male\", 'Number of Victims: 1', 'Number of Offenders: 2']\n",
      "======== Extracting info from labeled case number 5: 1289645 ========\n",
      "gpt_output_lst\n",
      "['Year: 2023', 'Date: 31.01', 'Time: 20.45 Uhr', 'Type of Crime: Property Crime, General Assault', 'Location: Mariendorf, Westphalweg', \"Victim's Sex: Male\", \"Offender's Sex: Male\", 'Number of Victims: 1', 'Number of Offenders: 2']\n",
      "======== Extracting info from labeled case number 6: 1289623 ========\n",
      "gpt_output_lst\n",
      "['Year: 2022', '        Date: 12.05', '        Time: Unknown', '        Type of Crime: General Assault, Verbal Abuse', '        Location: U-Bahnhof Bundestag', \"        Victim's Sex: Male\", \"        Offender's Sex: Male\", '        Number of Victims: 1', '        Number of Offenders: 1']\n",
      "======== Extracting info from labeled case number 7: 1289168 ========\n",
      "gpt_output_lst\n",
      "['Year: 2023', 'Date: 30.01', 'Time: 3 Uhr', 'Type of Crime: General Assault, Verbal Abuse', 'Location: Brückenstraße ', \"Victim's Sex: Male\", \"Offender's Sex: Male\", 'Number of Victims: 1', 'Number of Offenders: 3']\n",
      "======== Extracting info from labeled case number 8: 1289034 ========\n",
      "gpt_output_lst\n",
      "['Year: 2023', 'Date: 30.01', 'Time: 17 Uhr', 'Type of Crime: Property Crime', 'Location: Plänterwald, Treptow-Köpenick', \"Victim's Sex: Unknown\", \"Offender's Sex: Male\", 'Number of Victims: 1', 'Number of Offenders: 1']\n",
      "======== Extracting info from labeled case number 9: 1289032 ========\n",
      "gpt_output_lst\n",
      "['Year: 2023', 'Date: 30.01', 'Time: 20.30 Uhr', 'Type of Crime: Property Damage, General Assault, Drug Offenses', 'Location: Johannisthaler Chaussee ', \"Victim's Sex: Male\", \"Offender's Sex: Male\", 'Number of Victims: 1', 'Number of Offenders: 2']\n",
      "======== Extracting info from labeled case number 10: 1288970 ========\n",
      "gpt_output_lst\n",
      "['Year: 2023', 'Date: 29.01', 'Time: 23.20 Uhr', 'Type of Crime: Property Crime', 'Location: BAB 113', \"Victim's Sex: Unknown\", \"Offender's Sex: Male\", 'Number of Victims: Unknown', 'Number of Offenders: 1']\n",
      "======== Extracting info from labeled case number 11: 1288968 ========\n",
      "gpt_output_lst\n",
      "['Year: 2023', 'Date: 29.01', 'Time: 18.30 Uhr', 'Type of Crime: Property Damage, Arson', 'Location: Rudolstädter Straße, Charlottenburg-Wilmersdorf', \"Victim's Sex: Unknown\", \"Offender's Sex: Unknown\", 'Number of Victims: 0', 'Number of Offenders: Unknown']\n",
      "======== Extracting info from labeled case number 12: 1288967 ========\n",
      "gpt_output_lst\n",
      "['Year: 2023', 'Date: 29.01', 'Time: 16.25 Uhr', 'Type of Crime: Property Damage, General Assault', 'Location: Invalidenstraße ', \"Victim's Sex: Male\", \"Offender's Sex: Female\", 'Number of Victims: 2', 'Number of Offenders: 1']\n",
      "======== Extracting info from labeled case number 13: 1288966 ========\n",
      "gpt_output_lst\n",
      "['Year: 2023', 'Date: 29.01', 'Time: 12.35 Uhr', 'Type of Crime: General Assault, Property Damage', 'Location: Oberschöneweide, Siemensstraße, Wattstraße', \"Victim's Sex: Male\", \"Offender's Sex: Male\", 'Number of Victims: 1', 'Number of Offenders: 3']\n",
      "======== Extracting info from labeled case number 14: 1288965 ========\n",
      "gpt_output_lst\n",
      "['Year: 2023', 'Date: 29.01', 'Time: 23.30 Uhr', 'Type of Crime: Property Crime, General Assault', 'Location: U-Bahnhof Pankow', \"Victim's Sex: Male\", \"Offender's Sex: Male\", 'Number of Victims: 2', 'Number of Offenders: 6-7']\n",
      "======== Extracting info from labeled case number 15: 1288956 ========\n",
      "gpt_output_lst\n",
      "['Year: 2023', 'Date: 28.01', 'Time: 12.15 Uhr', 'Type of Crime: Homicide, Property Damage', 'Location: Schierker Straße, Neukölln', \"Victim's Sex: Female\", \"Offender's Sex: Male\", 'Number of Victims: 1', 'Number of Offenders: 1']\n",
      "======== Extracting info from labeled case number 16: 1288953 ========\n",
      "gpt_output_lst\n",
      "['Year: 2023', 'Date: 28.01', 'Time: 3.10 Uhr', 'Type of Crime: Property Damage, Arson', 'Location: Tempelhof-Schöneberg', \"Victim's Sex: Unknown\", \"Offender's Sex: Unknown\", 'Number of Victims: 0', 'Number of Offenders: Unknown']\n",
      "======== Extracting info from labeled case number 17: 1288949 ========\n",
      "gpt_output_lst\n",
      "['Year: 2023', 'Date: 28.01', 'Time: Mitternacht', 'Type of Crime: Property Damage', 'Location: Bergheimer Platz, Taunusstraße/Stubenrauchstraße', \"Victim's Sex: Unknown\", \"Offender's Sex: Male\", 'Number of Victims: Unknown', 'Number of Offenders: 2']\n",
      "======== Extracting info from labeled case number 18: 1288946 ========\n",
      "gpt_output_lst\n",
      "['Year: 2023', 'Date: 28.01', 'Time: 0.30 Uhr', 'Type of Crime: General Assault, Verbal Abuse', 'Location: Ritterlandweg, Reinickendorf', \"Victim's Sex: Male, Female\", \"Offender's Sex: Male\", 'Number of Victims: 3', 'Number of Offenders: 10-15']\n",
      "======== Extracting info from labeled case number 19: 1288945 ========\n",
      "gpt_output_lst\n",
      "['Year: 2023', 'Date: 28.01', 'Time: 5.30 Uhr', 'Type of Crime: Property Damage, Arson', 'Location: Köpenicker Straße, Mitte', \"Victim's Sex: Unknown\", \"Offender's Sex: Unknown\", 'Number of Victims: Unknown', 'Number of Offenders: Unknown']\n",
      "======== Extracting info from labeled case number 20: 1288944 ========\n",
      "gpt_output_lst\n",
      "['Year: 2023', 'Date: 28.01', 'Time: Unknown', 'Type of Crime: Property Crime, General Assault', 'Location: Pankow', \"Victim's Sex: Unknown\", \"Offender's Sex: Unknown\", 'Number of Victims: 1', 'Number of Offenders: Unknown']\n"
     ]
    },
    {
     "ename": "ValueError",
     "evalue": "All arrays must be of the same length",
     "output_type": "error",
     "traceback": [
      "\u001b[0;31m---------------------------------------------------------------------------\u001b[0m",
      "\u001b[0;31mValueError\u001b[0m                                Traceback (most recent call last)",
      "Cell \u001b[0;32mIn[266], line 1\u001b[0m\n\u001b[0;32m----> 1\u001b[0m df_final \u001b[38;5;241m=\u001b[39m \u001b[43mmain_process\u001b[49m\u001b[43m(\u001b[49m\u001b[38;5;124;43m'\u001b[39;49m\u001b[38;5;124;43mcategorized-test-latest-2000-files\u001b[39;49m\u001b[38;5;124;43m'\u001b[39;49m\u001b[43m,\u001b[49m\u001b[43m \u001b[49m\u001b[38;5;124;43m'\u001b[39;49m\u001b[38;5;124;43mone-case\u001b[39;49m\u001b[38;5;124;43m'\u001b[39;49m\u001b[43m,\u001b[49m\u001b[43m \u001b[49m\u001b[43mpath_to_json_files\u001b[49m\u001b[43m,\u001b[49m\u001b[43m \u001b[49m\u001b[38;5;241;43m20\u001b[39;49m\u001b[43m)\u001b[49m\n",
      "Cell \u001b[0;32mIn[254], line 19\u001b[0m, in \u001b[0;36mmain_process\u001b[0;34m(specification_1, specification_2, path_to_json_files, num_case, export_csv)\u001b[0m\n\u001b[1;32m     16\u001b[0m     \u001b[38;5;28mprint\u001b[39m(\u001b[38;5;124mf\u001b[39m\u001b[38;5;124m\"\u001b[39m\u001b[38;5;124m======= GPT labeling runtime: \u001b[39m\u001b[38;5;132;01m{\u001b[39;00mruntime_minutes\u001b[38;5;132;01m:\u001b[39;00m\u001b[38;5;124m.2f\u001b[39m\u001b[38;5;132;01m}\u001b[39;00m\u001b[38;5;124m minutes======\u001b[39m\u001b[38;5;124m\"\u001b[39m)\n\u001b[1;32m     17\u001b[0m     info_dict \u001b[38;5;241m=\u001b[39m inject_cases_info_to_dict(original_dict_filled)\n\u001b[0;32m---> 19\u001b[0m     df \u001b[38;5;241m=\u001b[39m \u001b[43mpd\u001b[49m\u001b[38;5;241;43m.\u001b[39;49m\u001b[43mDataFrame\u001b[49m\u001b[38;5;241;43m.\u001b[39;49m\u001b[43mfrom_dict\u001b[49m\u001b[43m(\u001b[49m\u001b[43minfo_dict\u001b[49m\u001b[43m)\u001b[49m\n\u001b[1;32m     20\u001b[0m \u001b[38;5;66;03m#     print(df)\u001b[39;00m\n\u001b[1;32m     22\u001b[0m     \u001b[38;5;28;01mif\u001b[39;00m export_csv:\n",
      "File \u001b[0;32m~/.pyenv/versions/3.10.6/envs/finding-conan/lib/python3.10/site-packages/pandas/core/frame.py:1760\u001b[0m, in \u001b[0;36mDataFrame.from_dict\u001b[0;34m(cls, data, orient, dtype, columns)\u001b[0m\n\u001b[1;32m   1754\u001b[0m     \u001b[38;5;28;01mraise\u001b[39;00m \u001b[38;5;167;01mValueError\u001b[39;00m(\n\u001b[1;32m   1755\u001b[0m         \u001b[38;5;124mf\u001b[39m\u001b[38;5;124m\"\u001b[39m\u001b[38;5;124mExpected \u001b[39m\u001b[38;5;124m'\u001b[39m\u001b[38;5;124mindex\u001b[39m\u001b[38;5;124m'\u001b[39m\u001b[38;5;124m, \u001b[39m\u001b[38;5;124m'\u001b[39m\u001b[38;5;124mcolumns\u001b[39m\u001b[38;5;124m'\u001b[39m\u001b[38;5;124m or \u001b[39m\u001b[38;5;124m'\u001b[39m\u001b[38;5;124mtight\u001b[39m\u001b[38;5;124m'\u001b[39m\u001b[38;5;124m for orient parameter. \u001b[39m\u001b[38;5;124m\"\u001b[39m\n\u001b[1;32m   1756\u001b[0m         \u001b[38;5;124mf\u001b[39m\u001b[38;5;124m\"\u001b[39m\u001b[38;5;124mGot \u001b[39m\u001b[38;5;124m'\u001b[39m\u001b[38;5;132;01m{\u001b[39;00morient\u001b[38;5;132;01m}\u001b[39;00m\u001b[38;5;124m'\u001b[39m\u001b[38;5;124m instead\u001b[39m\u001b[38;5;124m\"\u001b[39m\n\u001b[1;32m   1757\u001b[0m     )\n\u001b[1;32m   1759\u001b[0m \u001b[38;5;28;01mif\u001b[39;00m orient \u001b[38;5;241m!=\u001b[39m \u001b[38;5;124m\"\u001b[39m\u001b[38;5;124mtight\u001b[39m\u001b[38;5;124m\"\u001b[39m:\n\u001b[0;32m-> 1760\u001b[0m     \u001b[38;5;28;01mreturn\u001b[39;00m \u001b[38;5;28;43mcls\u001b[39;49m\u001b[43m(\u001b[49m\u001b[43mdata\u001b[49m\u001b[43m,\u001b[49m\u001b[43m \u001b[49m\u001b[43mindex\u001b[49m\u001b[38;5;241;43m=\u001b[39;49m\u001b[43mindex\u001b[49m\u001b[43m,\u001b[49m\u001b[43m \u001b[49m\u001b[43mcolumns\u001b[49m\u001b[38;5;241;43m=\u001b[39;49m\u001b[43mcolumns\u001b[49m\u001b[43m,\u001b[49m\u001b[43m \u001b[49m\u001b[43mdtype\u001b[49m\u001b[38;5;241;43m=\u001b[39;49m\u001b[43mdtype\u001b[49m\u001b[43m)\u001b[49m\n\u001b[1;32m   1761\u001b[0m \u001b[38;5;28;01melse\u001b[39;00m:\n\u001b[1;32m   1762\u001b[0m     realdata \u001b[38;5;241m=\u001b[39m data[\u001b[38;5;124m\"\u001b[39m\u001b[38;5;124mdata\u001b[39m\u001b[38;5;124m\"\u001b[39m]\n",
      "File \u001b[0;32m~/.pyenv/versions/3.10.6/envs/finding-conan/lib/python3.10/site-packages/pandas/core/frame.py:709\u001b[0m, in \u001b[0;36mDataFrame.__init__\u001b[0;34m(self, data, index, columns, dtype, copy)\u001b[0m\n\u001b[1;32m    703\u001b[0m     mgr \u001b[38;5;241m=\u001b[39m \u001b[38;5;28mself\u001b[39m\u001b[38;5;241m.\u001b[39m_init_mgr(\n\u001b[1;32m    704\u001b[0m         data, axes\u001b[38;5;241m=\u001b[39m{\u001b[38;5;124m\"\u001b[39m\u001b[38;5;124mindex\u001b[39m\u001b[38;5;124m\"\u001b[39m: index, \u001b[38;5;124m\"\u001b[39m\u001b[38;5;124mcolumns\u001b[39m\u001b[38;5;124m\"\u001b[39m: columns}, dtype\u001b[38;5;241m=\u001b[39mdtype, copy\u001b[38;5;241m=\u001b[39mcopy\n\u001b[1;32m    705\u001b[0m     )\n\u001b[1;32m    707\u001b[0m \u001b[38;5;28;01melif\u001b[39;00m \u001b[38;5;28misinstance\u001b[39m(data, \u001b[38;5;28mdict\u001b[39m):\n\u001b[1;32m    708\u001b[0m     \u001b[38;5;66;03m# GH#38939 de facto copy defaults to False only in non-dict cases\u001b[39;00m\n\u001b[0;32m--> 709\u001b[0m     mgr \u001b[38;5;241m=\u001b[39m \u001b[43mdict_to_mgr\u001b[49m\u001b[43m(\u001b[49m\u001b[43mdata\u001b[49m\u001b[43m,\u001b[49m\u001b[43m \u001b[49m\u001b[43mindex\u001b[49m\u001b[43m,\u001b[49m\u001b[43m \u001b[49m\u001b[43mcolumns\u001b[49m\u001b[43m,\u001b[49m\u001b[43m \u001b[49m\u001b[43mdtype\u001b[49m\u001b[38;5;241;43m=\u001b[39;49m\u001b[43mdtype\u001b[49m\u001b[43m,\u001b[49m\u001b[43m \u001b[49m\u001b[43mcopy\u001b[49m\u001b[38;5;241;43m=\u001b[39;49m\u001b[43mcopy\u001b[49m\u001b[43m,\u001b[49m\u001b[43m \u001b[49m\u001b[43mtyp\u001b[49m\u001b[38;5;241;43m=\u001b[39;49m\u001b[43mmanager\u001b[49m\u001b[43m)\u001b[49m\n\u001b[1;32m    710\u001b[0m \u001b[38;5;28;01melif\u001b[39;00m \u001b[38;5;28misinstance\u001b[39m(data, ma\u001b[38;5;241m.\u001b[39mMaskedArray):\n\u001b[1;32m    711\u001b[0m     \u001b[38;5;28;01mfrom\u001b[39;00m \u001b[38;5;21;01mnumpy\u001b[39;00m\u001b[38;5;21;01m.\u001b[39;00m\u001b[38;5;21;01mma\u001b[39;00m \u001b[38;5;28;01mimport\u001b[39;00m mrecords\n",
      "File \u001b[0;32m~/.pyenv/versions/3.10.6/envs/finding-conan/lib/python3.10/site-packages/pandas/core/internals/construction.py:481\u001b[0m, in \u001b[0;36mdict_to_mgr\u001b[0;34m(data, index, columns, dtype, typ, copy)\u001b[0m\n\u001b[1;32m    477\u001b[0m     \u001b[38;5;28;01melse\u001b[39;00m:\n\u001b[1;32m    478\u001b[0m         \u001b[38;5;66;03m# dtype check to exclude e.g. range objects, scalars\u001b[39;00m\n\u001b[1;32m    479\u001b[0m         arrays \u001b[38;5;241m=\u001b[39m [x\u001b[38;5;241m.\u001b[39mcopy() \u001b[38;5;28;01mif\u001b[39;00m \u001b[38;5;28mhasattr\u001b[39m(x, \u001b[38;5;124m\"\u001b[39m\u001b[38;5;124mdtype\u001b[39m\u001b[38;5;124m\"\u001b[39m) \u001b[38;5;28;01melse\u001b[39;00m x \u001b[38;5;28;01mfor\u001b[39;00m x \u001b[38;5;129;01min\u001b[39;00m arrays]\n\u001b[0;32m--> 481\u001b[0m \u001b[38;5;28;01mreturn\u001b[39;00m \u001b[43marrays_to_mgr\u001b[49m\u001b[43m(\u001b[49m\u001b[43marrays\u001b[49m\u001b[43m,\u001b[49m\u001b[43m \u001b[49m\u001b[43mcolumns\u001b[49m\u001b[43m,\u001b[49m\u001b[43m \u001b[49m\u001b[43mindex\u001b[49m\u001b[43m,\u001b[49m\u001b[43m \u001b[49m\u001b[43mdtype\u001b[49m\u001b[38;5;241;43m=\u001b[39;49m\u001b[43mdtype\u001b[49m\u001b[43m,\u001b[49m\u001b[43m \u001b[49m\u001b[43mtyp\u001b[49m\u001b[38;5;241;43m=\u001b[39;49m\u001b[43mtyp\u001b[49m\u001b[43m,\u001b[49m\u001b[43m \u001b[49m\u001b[43mconsolidate\u001b[49m\u001b[38;5;241;43m=\u001b[39;49m\u001b[43mcopy\u001b[49m\u001b[43m)\u001b[49m\n",
      "File \u001b[0;32m~/.pyenv/versions/3.10.6/envs/finding-conan/lib/python3.10/site-packages/pandas/core/internals/construction.py:115\u001b[0m, in \u001b[0;36marrays_to_mgr\u001b[0;34m(arrays, columns, index, dtype, verify_integrity, typ, consolidate)\u001b[0m\n\u001b[1;32m    112\u001b[0m \u001b[38;5;28;01mif\u001b[39;00m verify_integrity:\n\u001b[1;32m    113\u001b[0m     \u001b[38;5;66;03m# figure out the index, if necessary\u001b[39;00m\n\u001b[1;32m    114\u001b[0m     \u001b[38;5;28;01mif\u001b[39;00m index \u001b[38;5;129;01mis\u001b[39;00m \u001b[38;5;28;01mNone\u001b[39;00m:\n\u001b[0;32m--> 115\u001b[0m         index \u001b[38;5;241m=\u001b[39m \u001b[43m_extract_index\u001b[49m\u001b[43m(\u001b[49m\u001b[43marrays\u001b[49m\u001b[43m)\u001b[49m\n\u001b[1;32m    116\u001b[0m     \u001b[38;5;28;01melse\u001b[39;00m:\n\u001b[1;32m    117\u001b[0m         index \u001b[38;5;241m=\u001b[39m ensure_index(index)\n",
      "File \u001b[0;32m~/.pyenv/versions/3.10.6/envs/finding-conan/lib/python3.10/site-packages/pandas/core/internals/construction.py:655\u001b[0m, in \u001b[0;36m_extract_index\u001b[0;34m(data)\u001b[0m\n\u001b[1;32m    653\u001b[0m lengths \u001b[38;5;241m=\u001b[39m \u001b[38;5;28mlist\u001b[39m(\u001b[38;5;28mset\u001b[39m(raw_lengths))\n\u001b[1;32m    654\u001b[0m \u001b[38;5;28;01mif\u001b[39;00m \u001b[38;5;28mlen\u001b[39m(lengths) \u001b[38;5;241m>\u001b[39m \u001b[38;5;241m1\u001b[39m:\n\u001b[0;32m--> 655\u001b[0m     \u001b[38;5;28;01mraise\u001b[39;00m \u001b[38;5;167;01mValueError\u001b[39;00m(\u001b[38;5;124m\"\u001b[39m\u001b[38;5;124mAll arrays must be of the same length\u001b[39m\u001b[38;5;124m\"\u001b[39m)\n\u001b[1;32m    657\u001b[0m \u001b[38;5;28;01mif\u001b[39;00m have_dicts:\n\u001b[1;32m    658\u001b[0m     \u001b[38;5;28;01mraise\u001b[39;00m \u001b[38;5;167;01mValueError\u001b[39;00m(\n\u001b[1;32m    659\u001b[0m         \u001b[38;5;124m\"\u001b[39m\u001b[38;5;124mMixing dicts with non-Series may lead to ambiguous ordering.\u001b[39m\u001b[38;5;124m\"\u001b[39m\n\u001b[1;32m    660\u001b[0m     )\n",
      "\u001b[0;31mValueError\u001b[0m: All arrays must be of the same length"
     ]
    }
   ],
   "source": [
    "df_final = main_process('categorized-test-latest-2000-files', 'one-case', path_to_json_files, 20)"
   ]
  },
  {
   "cell_type": "code",
   "execution_count": 267,
   "id": "0941dfc4",
   "metadata": {
    "hidden": true
   },
   "outputs": [
    {
     "data": {
      "text/html": [
       "<div>\n",
       "<style scoped>\n",
       "    .dataframe tbody tr th:only-of-type {\n",
       "        vertical-align: middle;\n",
       "    }\n",
       "\n",
       "    .dataframe tbody tr th {\n",
       "        vertical-align: top;\n",
       "    }\n",
       "\n",
       "    .dataframe thead th {\n",
       "        text-align: right;\n",
       "    }\n",
       "</style>\n",
       "<table border=\"1\" class=\"dataframe\">\n",
       "  <thead>\n",
       "    <tr style=\"text-align: right;\">\n",
       "      <th></th>\n",
       "      <th>unique_case_id</th>\n",
       "      <th>official_case_id</th>\n",
       "      <th>type_of_crime</th>\n",
       "      <th>location</th>\n",
       "      <th>year</th>\n",
       "      <th>date</th>\n",
       "      <th>time</th>\n",
       "      <th>victim_sex</th>\n",
       "      <th>offender_sex</th>\n",
       "      <th>number_of_victims</th>\n",
       "      <th>number_of_offenders</th>\n",
       "    </tr>\n",
       "  </thead>\n",
       "  <tbody>\n",
       "  </tbody>\n",
       "</table>\n",
       "</div>"
      ],
      "text/plain": [
       "Empty DataFrame\n",
       "Columns: [unique_case_id, official_case_id, type_of_crime, location, year, date, time, victim_sex, offender_sex, number_of_victims, number_of_offenders]\n",
       "Index: []"
      ]
     },
     "execution_count": 267,
     "metadata": {},
     "output_type": "execute_result"
    }
   ],
   "source": [
    "df_final"
   ]
  },
  {
   "cell_type": "code",
   "execution_count": null,
   "id": "44cd5c96",
   "metadata": {
    "hidden": true
   },
   "outputs": [],
   "source": [
    "# Save to CSV\n",
    "output_csv(path_to_json_files, df_final)"
   ]
  },
  {
   "cell_type": "markdown",
   "id": "5532954e",
   "metadata": {},
   "source": [
    "### Funciton seperated"
   ]
  },
  {
   "cell_type": "code",
   "execution_count": 430,
   "id": "5277e04b",
   "metadata": {},
   "outputs": [],
   "source": [
    "# Get the current files in the specified folder\n",
    "files_gen = sorted(\n",
    "        glob.glob(\n",
    "        os.path.join(path_to_json_files, specification_1, specification_2, 'pressemitteilung*')),\n",
    "        reverse=True)"
   ]
  },
  {
   "cell_type": "code",
   "execution_count": 431,
   "id": "ac9515e7",
   "metadata": {},
   "outputs": [
    {
     "name": "stdout",
     "output_type": "stream",
     "text": [
      "======== Working on labeling case number 1 with GPT: 1265565 ========\n",
      "======== Response.json(): {'id': 'cmpl-7NIQIIrOGKpxCu3litAFe6KBUGJ1k', 'object': 'text_completion', 'created': 1685786718, 'model': 'text-davinci-003', 'choices': [{'text': \"\\n\\nYear: 2022\\nDate: 16.11\\nTime: 15.10 Uhr\\nType of Crime: Property Crime, Theft\\nLocation: Königstraße, Steglitz-Zehlendorf\\nVictim's Sex: Male\\nOffender's Sex: Male\\nNumber of Victims: 1\\nNumber of Offenders: 3\", 'index': 0, 'logprobs': None, 'finish_reason': 'stop'}], 'usage': {'prompt_tokens': 1851, 'completion_tokens': 75, 'total_tokens': 1926}} ========\n",
      "Hi Hsin and Luis: raw_gpt_output = chatGPT(case, api_key)\n",
      "Hi Hsin and Luis: output_dict[case_id] = raw_gpt_output\n",
      "======== Working on labeling case number 2 with GPT: 1265562 ========\n",
      "======== Response.json(): {'id': 'cmpl-7NIQQU4VR5FfKiHl7RGNW16gG93ur', 'object': 'text_completion', 'created': 1685786726, 'model': 'text-davinci-003', 'choices': [{'text': \"\\n\\nYear: 2022\\nDate: 17.11\\nTime: 18.45 Uhr\\nType of Crime: General Assault, Property Damage\\nLocation: Görlitzer Park, Friedrichshain-Kreuzberg\\nVictim's Sex: Unknown\\nOffender's Sex: Male\\nNumber of Victims: Unknown\\nNumber of Offenders: 30\", 'index': 0, 'logprobs': None, 'finish_reason': 'stop'}], 'usage': {'prompt_tokens': 2196, 'completion_tokens': 73, 'total_tokens': 2269}} ========\n",
      "Hi Hsin and Luis: raw_gpt_output = chatGPT(case, api_key)\n",
      "Hi Hsin and Luis: output_dict[case_id] = raw_gpt_output\n"
     ]
    }
   ],
   "source": [
    "original_dict = {}\n",
    "original_dict_filled = label_cases_with_gpt(2, files_gen, original_dict) #at 1265565"
   ]
  },
  {
   "cell_type": "code",
   "execution_count": 432,
   "id": "1eefdbdc",
   "metadata": {},
   "outputs": [
    {
     "name": "stdout",
     "output_type": "stream",
     "text": [
      "======== Extracting info from labeled case number 1: 1265565 ========\n",
      "gpt_output_lst\n",
      "['Year: 2022', 'Date: 16.11', 'Time: 15.10 Uhr', 'Type of Crime: Property Crime, Theft', 'Location: Königstraße, Steglitz-Zehlendorf', \"Victim's Sex: Male\", \"Offender's Sex: Male\", 'Number of Victims: 1', 'Number of Offenders: 3']\n",
      "======== Extracting info from labeled case number 2: 1265562 ========\n",
      "gpt_output_lst\n",
      "['Year: 2022', 'Date: 17.11', 'Time: 18.45 Uhr', 'Type of Crime: General Assault, Property Damage', 'Location: Görlitzer Park, Friedrichshain-Kreuzberg', \"Victim's Sex: Unknown\", \"Offender's Sex: Male\", 'Number of Victims: Unknown', 'Number of Offenders: 30']\n"
     ]
    }
   ],
   "source": [
    "info_dict = inject_cases_info_to_dict(original_dict_filled)"
   ]
  },
  {
   "cell_type": "code",
   "execution_count": 433,
   "id": "ff600a5d",
   "metadata": {},
   "outputs": [
    {
     "data": {
      "text/html": [
       "<div>\n",
       "<style scoped>\n",
       "    .dataframe tbody tr th:only-of-type {\n",
       "        vertical-align: middle;\n",
       "    }\n",
       "\n",
       "    .dataframe tbody tr th {\n",
       "        vertical-align: top;\n",
       "    }\n",
       "\n",
       "    .dataframe thead th {\n",
       "        text-align: right;\n",
       "    }\n",
       "</style>\n",
       "<table border=\"1\" class=\"dataframe\">\n",
       "  <thead>\n",
       "    <tr style=\"text-align: right;\">\n",
       "      <th></th>\n",
       "      <th>unique_case_id</th>\n",
       "      <th>official_case_id</th>\n",
       "      <th>type_of_crime</th>\n",
       "      <th>location</th>\n",
       "      <th>year</th>\n",
       "      <th>date</th>\n",
       "      <th>time</th>\n",
       "      <th>victim_sex</th>\n",
       "      <th>offender_sex</th>\n",
       "      <th>number_of_victims</th>\n",
       "      <th>number_of_offenders</th>\n",
       "    </tr>\n",
       "  </thead>\n",
       "  <tbody>\n",
       "    <tr>\n",
       "      <th>0</th>\n",
       "      <td>000001_1265565</td>\n",
       "      <td>1265565</td>\n",
       "      <td>Property Crime, Theft</td>\n",
       "      <td>Königstraße, Steglitz-Zehlendorf</td>\n",
       "      <td>2022</td>\n",
       "      <td>16.11</td>\n",
       "      <td>15.10 Uhr</td>\n",
       "      <td>Male</td>\n",
       "      <td>Male</td>\n",
       "      <td>1</td>\n",
       "      <td>3</td>\n",
       "    </tr>\n",
       "    <tr>\n",
       "      <th>1</th>\n",
       "      <td>000002_1265562</td>\n",
       "      <td>1265562</td>\n",
       "      <td>General Assault, Property Damage</td>\n",
       "      <td>Görlitzer Park, Friedrichshain-Kreuzberg</td>\n",
       "      <td>2022</td>\n",
       "      <td>17.11</td>\n",
       "      <td>18.45 Uhr</td>\n",
       "      <td>Unknown</td>\n",
       "      <td>Male</td>\n",
       "      <td>Unknown</td>\n",
       "      <td>30</td>\n",
       "    </tr>\n",
       "  </tbody>\n",
       "</table>\n",
       "</div>"
      ],
      "text/plain": [
       "   unique_case_id official_case_id                     type_of_crime   \n",
       "0  000001_1265565          1265565             Property Crime, Theft  \\\n",
       "1  000002_1265562          1265562  General Assault, Property Damage   \n",
       "\n",
       "                                   location  year   date       time   \n",
       "0          Königstraße, Steglitz-Zehlendorf  2022  16.11  15.10 Uhr  \\\n",
       "1  Görlitzer Park, Friedrichshain-Kreuzberg  2022  17.11  18.45 Uhr   \n",
       "\n",
       "  victim_sex offender_sex number_of_victims number_of_offenders  \n",
       "0       Male         Male                 1                   3  \n",
       "1    Unknown         Male           Unknown                  30  "
      ]
     },
     "execution_count": 433,
     "metadata": {},
     "output_type": "execute_result"
    }
   ],
   "source": [
    "df_final_sep = pd.DataFrame.from_dict(info_dict)\n",
    "df_final_sep"
   ]
  },
  {
   "cell_type": "code",
   "execution_count": 390,
   "id": "9dee56c6",
   "metadata": {},
   "outputs": [
    {
     "name": "stdout",
     "output_type": "stream",
     "text": [
      "file save with name: labeled_23_cases_2023-06-02 18-57.csv\n"
     ]
    }
   ],
   "source": [
    "output_csv(path_to_json_files, df_final_sep)"
   ]
  },
  {
   "cell_type": "markdown",
   "id": "ecb6ca2d",
   "metadata": {},
   "source": [
    "#### Diagnosis"
   ]
  },
  {
   "cell_type": "code",
   "execution_count": 354,
   "id": "4e70e53e",
   "metadata": {},
   "outputs": [
    {
     "data": {
      "text/plain": [
       "{}"
      ]
     },
     "execution_count": 354,
     "metadata": {},
     "output_type": "execute_result"
    }
   ],
   "source": [
    "original_dict_filled"
   ]
  },
  {
   "cell_type": "code",
   "execution_count": 355,
   "id": "a76b3713",
   "metadata": {},
   "outputs": [
    {
     "data": {
      "text/plain": [
       "{'unique_case_id': [],\n",
       " 'official_case_id': [],\n",
       " 'type_of_crime': [],\n",
       " 'location': [],\n",
       " 'year': [],\n",
       " 'date': [],\n",
       " 'time': [],\n",
       " 'victim_sex': [],\n",
       " 'offender_sex': [],\n",
       " 'number_of_victims': [],\n",
       " 'number_of_offenders': []}"
      ]
     },
     "execution_count": 355,
     "metadata": {},
     "output_type": "execute_result"
    }
   ],
   "source": [
    "info_dict"
   ]
  },
  {
   "cell_type": "code",
   "execution_count": null,
   "id": "805ff476",
   "metadata": {},
   "outputs": [],
   "source": [
    "#TODO:\n",
    "# One hot encdoing\n",
    "#Timestamp"
   ]
  },
  {
   "cell_type": "code",
   "execution_count": null,
   "id": "9a882744",
   "metadata": {},
   "outputs": [],
   "source": [
    "#Next Steps \n",
    "# Lena todo: make sure promt works in function for one case - (all cases)\n",
    "# Hsin todo: loop through cases - output dataframe"
   ]
  },
  {
   "cell_type": "markdown",
   "id": "3489806c",
   "metadata": {},
   "source": [
    "## Backup"
   ]
  },
  {
   "cell_type": "code",
   "execution_count": null,
   "id": "14923c00",
   "metadata": {},
   "outputs": [],
   "source": []
  }
 ],
 "metadata": {
  "kernelspec": {
   "display_name": "Python 3 (ipykernel)",
   "language": "python",
   "name": "python3"
  },
  "language_info": {
   "codemirror_mode": {
    "name": "ipython",
    "version": 3
   },
   "file_extension": ".py",
   "mimetype": "text/x-python",
   "name": "python",
   "nbconvert_exporter": "python",
   "pygments_lexer": "ipython3",
   "version": "3.10.6"
  },
  "toc": {
   "base_numbering": 1,
   "nav_menu": {},
   "number_sections": true,
   "sideBar": true,
   "skip_h1_title": false,
   "title_cell": "Table of Contents",
   "title_sidebar": "Contents",
   "toc_cell": false,
   "toc_position": {},
   "toc_section_display": true,
   "toc_window_display": false
  }
 },
 "nbformat": 4,
 "nbformat_minor": 5
}
