{
 "cells": [
  {
   "cell_type": "markdown",
   "id": "bfe6ed22",
   "metadata": {},
   "source": [
    "# Finding Conan\n",
    "We want to use Chatgpt4 to retrive information out of our scraped data - Polieimeldungen https://www.berlin.de/polizei/polizeimeldungen/\n",
    "\n",
    "We want the following information:\n",
    "1. When did the crime happened\n",
    "2. What crime happened\n",
    "3. Where did it happened\n"
   ]
  },
  {
   "cell_type": "code",
   "execution_count": 2,
   "id": "12d629a0",
   "metadata": {},
   "outputs": [],
   "source": [
    "# Install in terminal\n",
    "# pip install openai\n",
    "# pip install --upgrade openai\n",
    "# npm install openai"
   ]
  },
  {
   "cell_type": "markdown",
   "id": "8bc31c2c",
   "metadata": {},
   "source": [
    "# **Import the necessary packages**"
   ]
  },
  {
   "cell_type": "code",
   "execution_count": 203,
   "id": "f3340f32",
   "metadata": {},
   "outputs": [],
   "source": [
    "import os\n",
    "import openai\n",
    "import pandas as pd\n",
    "from IPython.display import display, Markdown\n",
    "import requests\n",
    "import json\n",
    "import shutil \n",
    "import time\n",
    "import glob\n",
    "import numpy as np\n",
    "import pandas as pd\n",
    "import seaborn as sns\n",
    "import matplotlib as plt\n",
    "from datetime import datetime"
   ]
  },
  {
   "cell_type": "markdown",
   "id": "87f9915b",
   "metadata": {},
   "source": [
    "# **Set API_Key secret**"
   ]
  },
  {
   "cell_type": "code",
   "execution_count": 134,
   "id": "f519e6d2",
   "metadata": {},
   "outputs": [],
   "source": [
    "# Get the path where the credential is\n",
    "path_cred = os.path.join(os.path.dirname(os.path.dirname(os.getcwd())), 'credentials')\n",
    "\n",
    "# open the credential\n",
    "with open(os.path.join(path_cred,'secrets.json')) as secrets_file:\n",
    "    secrets = json.load(secrets_file)\n",
    "    api_key = secrets['ys_api_key']"
   ]
  },
  {
   "cell_type": "markdown",
   "id": "fa842193",
   "metadata": {},
   "source": [
    "# **select a model**\n",
    "\n",
    "https://platform.openai.com/docs/api-reference/models\n"
   ]
  },
  {
   "cell_type": "markdown",
   "id": "12edb903",
   "metadata": {},
   "source": [
    "# **connect to API**"
   ]
  },
  {
   "cell_type": "markdown",
   "id": "13e588fc",
   "metadata": {},
   "source": [
    "# load single json file"
   ]
  },
  {
   "cell_type": "code",
   "execution_count": 136,
   "id": "276399cb",
   "metadata": {},
   "outputs": [],
   "source": [
    "path_to_json_files = '/Users/ellenlee/code/hclpush/finding-conan/raw-data/unstructured-data' # TODO\n",
    "specification_1 = 'categorized-test-latest-2000-files'\n",
    "specification_2 = 'one-case'\n",
    "file_name = 'pressemitteilung.1207392.json'\n",
    "f = open(os.path.join(path_to_json_files, specification_1, specification_2, file_name))\n",
    "case = json.load(f)\n",
    "\n",
    "del case['subtitle']"
   ]
  },
  {
   "cell_type": "code",
   "execution_count": 137,
   "id": "d2e5bf2e",
   "metadata": {},
   "outputs": [
    {
     "data": {
      "text/plain": [
       "{'title': 'Vierjährige von Auto angefahren',\n",
       " 'place': 'Charlottenburg-Wilmersdorf',\n",
       " 'date': '17.05.2022',\n",
       " 'data': [{'number': '1047',\n",
       "   'description': 'Gestern Nachmittag wurde eine Vierjährige bei einem Verkehrsunfall im Ortsteil Grunewald verletzt. Nach derzeitigen Erkenntnissen und Zeugenaussagen wollte das Kind gegen 16.50 Uhr die Gehwegseite der Auerbachstraße wechseln, löste sich dafür von der Hand seiner Begleiterin, rannte auf die Straße und wurde dort von einem Auto angefahren. In Folge des Zusammenstoßes erlitt das Mädchen Verletzungen am Knie und im Bereich der Rippen, mit denen es vorsorglich in einem Krankenhaus verblieb. Da der 67-jährige Fahrzeugführer während der Sachverhaltsaufnahme geistig abwesend wirkte und nur schwer den Anweisungen der Einsatzkräfte folgen konnte, wurde ihm nach rechtlicher Belehrung ein Atemalkoholtest angeboten. Diesem stimmte er zu. Das Ergebnis: Rund ein Promille. Somit wurde sein Führerschein beschlagnahmt, sein Wagen geparkt und verschlossen und er nach Beendigung aller Maßnahmen vor Ort entlassen. Die weiteren Ermittlungen führt das Fachkommissariat für Verkehrsdelikte\\n    der Polizeidirektion 2 (West).'}]}"
      ]
     },
     "execution_count": 137,
     "metadata": {},
     "output_type": "execute_result"
    }
   ],
   "source": [
    "case"
   ]
  },
  {
   "cell_type": "code",
   "execution_count": 139,
   "id": "273b293c",
   "metadata": {},
   "outputs": [
    {
     "data": {
      "text/plain": [
       "'/Users/ellenlee/code/hclpush/finding-conan/raw-data/unstructured-data'"
      ]
     },
     "execution_count": 139,
     "metadata": {},
     "output_type": "execute_result"
    }
   ],
   "source": [
    "path_to_json_files"
   ]
  },
  {
   "cell_type": "markdown",
   "id": "a3ab4aa0",
   "metadata": {},
   "source": [
    "# Create Important Functions"
   ]
  },
  {
   "cell_type": "code",
   "execution_count": 140,
   "id": "6d59cf75",
   "metadata": {},
   "outputs": [],
   "source": [
    "def chatGPT(text, api_key):\n",
    "    url = \"https://api.openai.com/v1/completions\"\n",
    "    headers = {\n",
    "        \"Content-Type\": \"application/json\",\n",
    "        \"Authorization\": f\"Bearer {api_key}\",\n",
    "    }\n",
    "    prompt = { \n",
    "        \"model\":\"text-davinci-003\",\n",
    "        \"prompt\": # TODO: add property crimes\n",
    "        \"\"\"\n",
    "        You are crime analyzing assistant. The assistant is helpful, clever, and gives accurate answers.\n",
    "\n",
    "        You define types of crimes according to the following categories:\n",
    "        Homicide = The act of unlawfully causing the death of another person.\n",
    "        Hate Crime - Disability = Anti-Mental Disability, Anti-Physical Disability\n",
    "        Hate Crime - Gender = Anti-Male, Anti-Female\n",
    "        Hate Crime - Gender Identity = Anti-Transgender, Anti-Gender Non-Conforming\n",
    "        Hate Crime - Religious = Anti-Buddhist, Anti-Catholic, Anti-Eastern Orthodox (Russian, Greek, Other), Anti-Hindu, Anti-Islamic, Anti-Jehovah’s Witness, Anti-Jewish, Anti-Mormon, Anti-Multiple Religions, Group, Anti-Other Christian, Anti-Other Religion, Anti-Protestant, Anti-Sikh, Anti-Atheism/Agnosticism, etc.\n",
    "        Hate Crime - Sexual orientation = Anti-Bisexual, Anti-Gay (Male), Anti-Heterosexual, Anti-Lesbian, Anti-Lesbian, Gay, Bisexual, or Transgender (Mixed Group)\n",
    "        Hate Crime - Racial/Ethnicity = Anti-American Indian or Alaska Native, Anti-Arab, Anti-Asian, Anti-Black or African American, Anti-Hispanic or Latino, Anti-Multiple Races, Group, Anti-Native Hawaiian or Other Pacific Islander, Anti-Other Race/Ethnicity/Ancestry, Anti-White\n",
    "        Property Crimes = Offenses that involve unlawful interference with someone else's property, such as theft, burglary, or vandalism.\n",
    "        Verbal Abuse = The use of offensive, derogatory, or threatening language with the intention to harm or intimidate another person verbally.\n",
    "        Property Damage = Is damage or destruction of real or tangible personal property, \n",
    "        Drug Offenses = Violations of laws related to the possession, distribution, manufacturing, or use of illegal substances or controlled substances without proper authorization.\n",
    "        General Assault = Physical or verbal attacks on another person that result in causing harm or fear.\n",
    "        Sexual Assault = Non-consensual sexual acts or behavior that involve physical or psychological harm or coercion\n",
    "        Sexual Harassment = Unwanted sexual advances, comments, or conduct that creates a hostile or uncomfortable environment for the victim\n",
    "        Unclassified = Cases or incidents that do not fit into any specific predefined category.\n",
    "\n",
    "        Read the following text of a crime that happened in Berlin, Germany. Give us information about the crime in the form of a key value pair. List the type of crime described in the text according to your definition. If multiple crimes occurred add all types of crimes that are described in the text. List the location as accurate as possible.\n",
    "        Also list the year, date, and time of the crime. List the sex of the victims and the sex of the offender. List how many victims and how many offenders were involved.  If have no clear answer you response with \"unknown\".\n",
    "\n",
    "        Here is one example for the following crime and the desired output:\n",
    "\n",
    "        Junge Männer mit Messer verletzt\n",
    "        Polizeimeldung vom 13.05.2023\n",
    "        Mitte\n",
    "        Nr. 0749\n",
    "        Gestern Abend zeigten ein Jugendlicher und zwei junge Männer in der Alex-Wache in Mitte Körperverletzungen, begangen aus einer Gruppe, an. Die beiden 20-Jährigen und ihr 17 Jahre alter Begleiter gaben an, dass sie gegen 21.30 Uhr auf dem Alexanderplatz in Richtung S-Bahnhof unterwegs waren, als sie plötzlich aus einer Gruppe von sechs bis acht Männern heraus zunächst angepöbelt und dann körperlich attackiert wurden. Dabei erlitt einer der 20-Jährigen eine stark blutende Schnittverletzung im Gesicht und sein gleichaltriger Bekannter eine oberflächliche Stichverletzung am Rücken. Der Jugendliche blieb unverletzt. Alarmierte Rettungskräfte brachten die beiden Verletzten in Krankenhäuser. Der am Rücken Verletzte wurde ambulant behandelt, der im Gesicht Verletzte stationär aufgenommen. Einsatzkräfte stellten kurz nach der Anzeigenerstattung in Höhe der Sankt Marienkirche zwei 19-jährige Männer fest, die nach Angaben des Trios zu der angreifenden Gruppe gehörten. Die Kräfte nahmen die beiden Tatverdächtigen fest und führten sie einer erkennungsdienstlichen Behandlung zu. Nach den polizeilichen Maßnahmen wurden beide entlassen. Die Ermittlungen zum Tatgeschehen und zu den anderen Mitgliedern der Gruppe dauern an und wurden von einem Fachkommissariat der Polizeidirektion 5 (City) übernommen.\n",
    "        Year: 2023\n",
    "        Date: 13.05\n",
    "        Time:  21.30 Uhr \n",
    "        Type of Crime: General Assault, Verbal Abuse\n",
    "        Location: Alexanderplatz \n",
    "        Victim's Sex: Male\n",
    "        Offender's Sex: Male\n",
    "        Number of Victims: 3\n",
    "        Number of Offenders: 6-8\n",
    "\n",
    "        Please do this for the following crime:\n",
    "        \"\"\" + str(text),\n",
    "        \"temperature\":0.22,\n",
    "        \"max_tokens\":1788,\n",
    "        \"top_p\":0.46,\n",
    "        \"frequency_penalty\":0,\n",
    "        \"presence_penalty\":0\n",
    "    }\n",
    "    response = requests.post(url, headers=headers, json=prompt)\n",
    "#     print('response: ')\n",
    "#     print(response)\n",
    "    print(f'======== Response.json(): {str(response.json())} ========')\n",
    "    output = response.json()['choices'][0]['text'] \n",
    "    \n",
    "    return output"
   ]
  },
  {
   "cell_type": "code",
   "execution_count": 173,
   "id": "30f2d690",
   "metadata": {},
   "outputs": [],
   "source": [
    "def label_cases_with_gpt(num_case, files_gen, output_dict):\n",
    "    \"\"\"\n",
    "    Calls openai api to label the raw scraped JSON files on criminal cases\n",
    "    Outputs a dictionary with keys being an unique identifier (combination of index and original case number) \n",
    "        and values being the listed case info\n",
    "    \"\"\"\n",
    "    for index, file_path in enumerate(files_gen[:num_case]): # DEBUG\n",
    "        data = open(file_path)# Get labeling from GPT API\n",
    "        case = json.load(data)\n",
    "        del case['subtitle'] # This does not include relevant info\n",
    "        \n",
    "        file_name = file_path.split('/')[-1]\n",
    "        case_id = str(file_name[-12:-5])\n",
    "        print(f'======== Working on lebaling case number {count+1} with GPT: {case_id} ========')\n",
    "        \n",
    "        try: \n",
    "            raw_gpt_output = chatGPT(case, api_key)\n",
    "            output_dict[case_id] = raw_gpt_output\n",
    "\n",
    "        # Move file to folder\n",
    "#         destination_dir_path = os.path.join(path_to_json_files, 'info-extracted-cases')\n",
    "#         if not os.path.exists(destination_dir_path):\n",
    "#             os.makedirs(destination_dir_path)\n",
    "#         shutil.move(file_path, os.path.join(destination_dir_path, file_name))\n",
    "        except:\n",
    "            print(f'!!!!!======== Errors occurs while labeling case number {count+1} with case id {case_id} ========!!!!!')\n",
    "            break\n",
    "        \n",
    "    return output_dict"
   ]
  },
  {
   "cell_type": "code",
   "execution_count": 159,
   "id": "a3165d29",
   "metadata": {},
   "outputs": [],
   "source": [
    "def inject_cases_info_to_dict(input_dict):\n",
    "    \"\"\"\n",
    "    Creates a DataFrame from the dictionary which is the output of openai api labeling\n",
    "    \n",
    "    \"\"\"\n",
    "    output_dict = {\n",
    "        'unique_case_id':[],\n",
    "        'official_case_id':[],\n",
    "        'Type of Crime':[],\n",
    "        'Location':[],\n",
    "        'Year':[],\n",
    "        'Date':[],  # Modified\n",
    "        'Time':[],\n",
    "        \"Victim's Sex\":[],\n",
    "        \"Offender's Sex\":[],\n",
    "        'Number of Victims':[],\n",
    "        'Number of Offenders':[]\n",
    "}   \n",
    "    for count, (case_id, case_info) in enumerate(input_dict.items()):\n",
    "        print(f'======== Extracting info from labeled case number {count+1}: {case_id} ========')\n",
    "        try:\n",
    "        #Put infos in a dictionary\n",
    "#         print(case_info)\n",
    "            gpt_output_lst = case_info.strip().split('\\n')\n",
    "            gpt_output_lst = [ele.strip('\\n') for ele in gpt_output_lst]\n",
    "            print('gpt_output_lst')\n",
    "            print(gpt_output_lst)\n",
    "            output_dict['official_case_id'].append(case_id.zfill(7))\n",
    "            output_dict['unique_case_id'].append(str(count+1).zfill(6) + '_' + case_id)\n",
    "            for element in gpt_output_lst:\n",
    "                key, value = element.split(\":\")\n",
    "                if key in output_dict.keys():\n",
    "                    output_dict[key].append(value.strip())\n",
    "\n",
    "        \n",
    "        except:\n",
    "            print(f'!!======== Errors occurs while procesing case id {case_id} ========!!')\n",
    "#             # Move file to folder\n",
    "#             file_name = f'pressemitteilung.{case_id}.json'\n",
    "#             current_file_path = os.path.join(path_to_json_files, 'info-extracted-cases', file_name)\n",
    "#             destination_dir_path = os.path.join(path_to_json_files, 'unsuccessful-cases')\n",
    "            \n",
    "#             if not os.path.exists(destination_dir_path):\n",
    "#                 os.makedirs(destination_dir_path)\n",
    "            \n",
    "#             shutil.move(current_file_path, os.path.join(destination_dir_path, file_name))\n",
    "            break\n",
    "    \n",
    "    output_dict_renamed = {key.lower().replace(' ', '_').replace(\"'s\", \"\"): value \n",
    "                               for key, value in output_dict.items()}\n",
    "    \n",
    "    return output_dict_renamed"
   ]
  },
  {
   "cell_type": "code",
   "execution_count": 143,
   "id": "62b08298",
   "metadata": {},
   "outputs": [],
   "source": [
    "def output_csv(path_to_json_files, df):\n",
    "    output_folder = 'csv-output'\n",
    "    output_path = os.path.join(path_to_json_files, output_folder)\n",
    "    cur_datetime = datetime.now().strftime(\"%Y-%m-%d %H-%M\")\n",
    "    if not os.path.exists(output_path):\n",
    "            os.makedirs(output_path)\n",
    "    \n",
    "    csv_file_name = f'labeled_{df.shape[0]}_cases_{cur_datetime}.csv'\n",
    "    df.to_csv(os.path.join(output_path, csv_file_name), sep=',', index=False)\n",
    "    print(f'file save with name: {csv_file_name}')"
   ]
  },
  {
   "cell_type": "code",
   "execution_count": 210,
   "id": "73303d42",
   "metadata": {},
   "outputs": [],
   "source": [
    "def main_process(specification_1, specification_2, path_to_json_files, num_case=5, export_csv=False):\n",
    "    # Input files\n",
    "    files_gen = sorted(\n",
    "            glob.glob(\n",
    "            os.path.join(path_to_json_files, specification_1, specification_2, 'pressemitteilung*')),\n",
    "            reverse=True)\n",
    "    \n",
    "    \n",
    "    # Main processing\n",
    "    \n",
    "    start_time = time.time()  # Measure run time of GPT labeling\n",
    "    original_dict = {}\n",
    "    original_dict_filled = label_cases_with_gpt(num_case, files_gen, original_dict)\n",
    "    end_time = time.time() # Measure run time of GPT labeling\n",
    "    runtime_minutes = (end_time - start_time) / 60\n",
    "    print(f\"======= GPT labeling runtime: {runtime_minutes:.2f} minutes======\")\n",
    "    info_dict = inject_cases_info_to_dict(original_dict_filled)\n",
    "    \n",
    "    df = pd.DataFrame.from_dict(info_dict)\n",
    "#     print(df)\n",
    "    \n",
    "    if export_csv:\n",
    "        output_csv(path_to_json_files, df)\n",
    "        \n",
    "    return df"
   ]
  },
  {
   "cell_type": "code",
   "execution_count": 211,
   "id": "b3a3fc63",
   "metadata": {},
   "outputs": [],
   "source": [
    "# def move_file(file_name, path_to_json_files, current_dir, destination_dir):\n",
    "#         destination_dir_path = os.path.join(path_to_json_files, destination_dir) #'info-extracted-cases')\n",
    "#         if not os.path.exists(destination_dir_path):\n",
    "#             os.makedirs(destination_dir_path)\n",
    "#         shutil.move(file_path, os.path.join(destination_dir_path, file_name))"
   ]
  },
  {
   "cell_type": "markdown",
   "id": "5fb20731",
   "metadata": {},
   "source": [
    "# Start looping"
   ]
  },
  {
   "cell_type": "markdown",
   "id": "ee9738d9",
   "metadata": {},
   "source": [
    "### One function for all"
   ]
  },
  {
   "cell_type": "code",
   "execution_count": 212,
   "id": "6594866f",
   "metadata": {},
   "outputs": [
    {
     "name": "stdout",
     "output_type": "stream",
     "text": [
      "======== Working on lebaling case with GPT: 1303317 ========\n",
      "======== Response.json(): {'error': {'message': \"This model's maximum context length is 4097 tokens, however you requested 4718 tokens (2930 in your prompt; 1788 for the completion). Please reduce your prompt; or completion length.\", 'type': 'invalid_request_error', 'param': None, 'code': None}} ========\n",
      "!!!!!======== Errors occurs while labeling case id 1303317 ========!!!!!\n",
      "======= GPT labeling runtime: 0.01 minutes======\n"
     ]
    }
   ],
   "source": [
    "df_final = main_process('categorized-test-latest-2000-files', 'one-case', path_to_json_files, 40)"
   ]
  },
  {
   "cell_type": "code",
   "execution_count": 213,
   "id": "884b36bd",
   "metadata": {},
   "outputs": [
    {
     "data": {
      "text/html": [
       "<div>\n",
       "<style scoped>\n",
       "    .dataframe tbody tr th:only-of-type {\n",
       "        vertical-align: middle;\n",
       "    }\n",
       "\n",
       "    .dataframe tbody tr th {\n",
       "        vertical-align: top;\n",
       "    }\n",
       "\n",
       "    .dataframe thead th {\n",
       "        text-align: right;\n",
       "    }\n",
       "</style>\n",
       "<table border=\"1\" class=\"dataframe\">\n",
       "  <thead>\n",
       "    <tr style=\"text-align: right;\">\n",
       "      <th></th>\n",
       "      <th>unique_case_id</th>\n",
       "      <th>official_case_id</th>\n",
       "      <th>type_of_crime</th>\n",
       "      <th>location</th>\n",
       "      <th>year</th>\n",
       "      <th>date</th>\n",
       "      <th>time</th>\n",
       "      <th>victim_sex</th>\n",
       "      <th>offender_sex</th>\n",
       "      <th>number_of_victims</th>\n",
       "      <th>number_of_offenders</th>\n",
       "    </tr>\n",
       "  </thead>\n",
       "  <tbody>\n",
       "  </tbody>\n",
       "</table>\n",
       "</div>"
      ],
      "text/plain": [
       "Empty DataFrame\n",
       "Columns: [unique_case_id, official_case_id, type_of_crime, location, year, date, time, victim_sex, offender_sex, number_of_victims, number_of_offenders]\n",
       "Index: []"
      ]
     },
     "execution_count": 213,
     "metadata": {},
     "output_type": "execute_result"
    }
   ],
   "source": [
    "df_final"
   ]
  },
  {
   "cell_type": "code",
   "execution_count": 206,
   "id": "85df53a7",
   "metadata": {},
   "outputs": [
    {
     "name": "stdout",
     "output_type": "stream",
     "text": [
      "file save with name: labeled_34_cases_2023-06-01 19-20.csv\n"
     ]
    }
   ],
   "source": [
    "# Save to CSV\n",
    "output_csv(path_to_json_files, df_final)"
   ]
  },
  {
   "cell_type": "markdown",
   "id": "22ae2834",
   "metadata": {},
   "source": [
    "### Funciton seperated"
   ]
  },
  {
   "cell_type": "code",
   "execution_count": 207,
   "id": "3a9e8c5a",
   "metadata": {},
   "outputs": [],
   "source": [
    "specification_1 = 'categorized-test-latest-2000-files'\n",
    "specification_2 = 'one-case'\n",
    "\n",
    "files_gen = sorted(glob.glob(os.path.join(path_to_json_files, specification_1, specification_2, 'pressemitteilung*')), reverse=True)"
   ]
  },
  {
   "cell_type": "code",
   "execution_count": 208,
   "id": "0d6824bc",
   "metadata": {},
   "outputs": [
    {
     "name": "stdout",
     "output_type": "stream",
     "text": [
      "======== Working on lebaling case with GPT: 1303317 ========\n",
      "======== Response.json(): {'error': {'message': \"This model's maximum context length is 4097 tokens, however you requested 4718 tokens (2930 in your prompt; 1788 for the completion). Please reduce your prompt; or completion length.\", 'type': 'invalid_request_error', 'param': None, 'code': None}} ========\n",
      "!!!!!======== Errors occurs while labeling case id 1303317 ========!!!!!\n"
     ]
    }
   ],
   "source": [
    "# files_gen = sorted(\n",
    "#         glob.glob(\n",
    "#         os.path.join(path_to_json_files, specification_1, specification_2, 'pressemitteilung*')),\n",
    "#         reverse=True)\n",
    "\n",
    "# Main processing\n",
    "original_dict = {}\n",
    "original_dict_filled = label_cases_with_gpt(1, files_gen, original_dict)\n"
   ]
  },
  {
   "cell_type": "code",
   "execution_count": 209,
   "id": "77e26dbf",
   "metadata": {},
   "outputs": [],
   "source": [
    "info_dict = inject_cases_info_to_dict(original_dict_filled)"
   ]
  },
  {
   "cell_type": "code",
   "execution_count": null,
   "id": "fcf02822",
   "metadata": {},
   "outputs": [],
   "source": [
    "df = pd.DataFrame.from_dict(info_dict)\n",
    "df"
   ]
  },
  {
   "cell_type": "code",
   "execution_count": 155,
   "id": "01ab2077",
   "metadata": {},
   "outputs": [
    {
     "data": {
      "text/plain": [
       "{'1315085': \"\\n\\nYear: 2023\\nDate: 19.04\\nTime: Mitternacht\\nType of Crime: General Assault, Property Crime, Verbal Abuse\\nLocation: Neukölln\\nVictim's Sex: Female\\nOffender's Sex: Male\\nNumber of Victims: 1\\nNumber of Offenders: 1\"}"
      ]
     },
     "execution_count": 155,
     "metadata": {},
     "output_type": "execute_result"
    }
   ],
   "source": [
    "original_dict_filled"
   ]
  },
  {
   "cell_type": "code",
   "execution_count": 154,
   "id": "0461b51f",
   "metadata": {},
   "outputs": [
    {
     "data": {
      "text/plain": [
       "{'unique_case_id': ['000001_1315085'],\n",
       " 'official_case_id': ['1315085'],\n",
       " 'type_of_crime': ['General Assault, Property Crime, Verbal Abuse'],\n",
       " 'location': ['Neuköll'],\n",
       " 'year': ['2023'],\n",
       " 'date': ['19.04'],\n",
       " 'time': ['Mitternacht'],\n",
       " 'victim_sex': ['Female'],\n",
       " 'offender_sex': ['Male'],\n",
       " 'number_of_victims': ['1'],\n",
       " 'number_of_offenders': ['1']}"
      ]
     },
     "execution_count": 154,
     "metadata": {},
     "output_type": "execute_result"
    }
   ],
   "source": [
    "info_dict"
   ]
  },
  {
   "cell_type": "code",
   "execution_count": 589,
   "id": "3f9958a6",
   "metadata": {},
   "outputs": [],
   "source": [
    "output_folder = 'csv-output'\n",
    "output_path = os.path.join(path_to_json_files, output_folder)\n",
    "cur_datetime = datetime.now().strftime(\"%Y-%m-%d %H-%M\")\n",
    "if not os.path.exists(output_path):\n",
    "        os.makedirs(output_path)\n",
    "\n",
    "df.to_csv(os.path.join(output_path, f'labeled_{df.shape[0]}_cases_{cur_datetime}.csv'), sep=',', index=False)"
   ]
  },
  {
   "cell_type": "code",
   "execution_count": null,
   "id": "805ff476",
   "metadata": {},
   "outputs": [],
   "source": [
    "#TODO:\n",
    "# One hot encdoing\n",
    "#Timestamp"
   ]
  },
  {
   "cell_type": "code",
   "execution_count": null,
   "id": "9a882744",
   "metadata": {},
   "outputs": [],
   "source": [
    "#Next Steps \n",
    "# Lena todo: make sure promt works in function for one case - (all cases)\n",
    "# Hsin todo: loop through cases - output dataframe"
   ]
  },
  {
   "cell_type": "markdown",
   "id": "3489806c",
   "metadata": {},
   "source": [
    "## Backup"
   ]
  },
  {
   "cell_type": "code",
   "execution_count": null,
   "id": "14923c00",
   "metadata": {},
   "outputs": [],
   "source": []
  }
 ],
 "metadata": {
  "kernelspec": {
   "display_name": "Python 3 (ipykernel)",
   "language": "python",
   "name": "python3"
  },
  "language_info": {
   "codemirror_mode": {
    "name": "ipython",
    "version": 3
   },
   "file_extension": ".py",
   "mimetype": "text/x-python",
   "name": "python",
   "nbconvert_exporter": "python",
   "pygments_lexer": "ipython3",
   "version": "3.10.6"
  },
  "toc": {
   "base_numbering": 1,
   "nav_menu": {},
   "number_sections": true,
   "sideBar": true,
   "skip_h1_title": false,
   "title_cell": "Table of Contents",
   "title_sidebar": "Contents",
   "toc_cell": false,
   "toc_position": {},
   "toc_section_display": true,
   "toc_window_display": false
  }
 },
 "nbformat": 4,
 "nbformat_minor": 5
}
