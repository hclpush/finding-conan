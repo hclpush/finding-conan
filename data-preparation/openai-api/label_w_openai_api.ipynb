{
 "cells": [
  {
   "cell_type": "markdown",
   "id": "bfe6ed22",
   "metadata": {},
   "source": [
    "# Finding Conan\n",
    "We want to use Chatgpt4 to retrive information out of our scraped data - Polieimeldungen https://www.berlin.de/polizei/polizeimeldungen/\n",
    "\n",
    "We want the following information:\n",
    "1. When did the crime happened\n",
    "2. What crime happened\n",
    "3. Where did it happened\n"
   ]
  },
  {
   "cell_type": "code",
   "execution_count": 1,
   "id": "12d629a0",
   "metadata": {},
   "outputs": [],
   "source": [
    "# Install in terminal\n",
    "# pip install openai\n",
    "# pip install --upgrade openai\n",
    "# npm install openai"
   ]
  },
  {
   "cell_type": "markdown",
   "id": "8bc31c2c",
   "metadata": {},
   "source": [
    "# **Import the necessary packages**"
   ]
  },
  {
   "cell_type": "code",
   "execution_count": 2,
   "id": "f3340f32",
   "metadata": {},
   "outputs": [],
   "source": [
    "import os\n",
    "import openai\n",
    "import pandas as pd\n",
    "import requests\n",
    "import json\n",
    "import shutil \n",
    "import time\n",
    "import glob\n",
    "import numpy as np\n",
    "import pandas as pd\n",
    "from datetime import datetime"
   ]
  },
  {
   "cell_type": "markdown",
   "id": "12edb903",
   "metadata": {},
   "source": [
    "# **Set Parameters**"
   ]
  },
  {
   "cell_type": "code",
   "execution_count": 3,
   "id": "43f014ac",
   "metadata": {},
   "outputs": [],
   "source": [
    "#Input\n",
    "current_batch_name = 'second-batch-2467-files-to-20220516'\n",
    "base_path = os.path.join(os.path.dirname(os.path.dirname(os.getcwd())), 'raw-data', 'unstructured-data')\n",
    "batch_name = os.path.join(current_batch_name, 'categorized')\n",
    "cat_type = 'one-case'\n",
    "batch_num = 2\n",
    "\n",
    "#Output\n",
    "output_dir_path = os.path.join(os.path.dirname(os.path.dirname(os.getcwd())), 'raw-data', 'structured-data', 'csv-output')\n"
   ]
  },
  {
   "cell_type": "markdown",
   "id": "87f9915b",
   "metadata": {},
   "source": [
    "# **Set API_Key secret**"
   ]
  },
  {
   "cell_type": "code",
   "execution_count": 4,
   "id": "f519e6d2",
   "metadata": {},
   "outputs": [],
   "source": [
    "# Get the path where the credential is\n",
    "path_cred = os.path.join(os.path.dirname(os.path.dirname(os.getcwd())), 'credentials')\n",
    "\n",
    "# open the credential\n",
    "with open(os.path.join(path_cred,'secrets.json')) as secrets_file:\n",
    "    secrets = json.load(secrets_file)\n",
    "    api_key = secrets['ir_api_key']"
   ]
  },
  {
   "cell_type": "code",
   "execution_count": 5,
   "id": "500c70cd",
   "metadata": {},
   "outputs": [
    {
     "data": {
      "text/plain": [
       "'/Users/ellenlee/code/hclpush/finding-conan/credentials'"
      ]
     },
     "execution_count": 5,
     "metadata": {},
     "output_type": "execute_result"
    }
   ],
   "source": [
    "path_cred"
   ]
  },
  {
   "cell_type": "markdown",
   "id": "13e588fc",
   "metadata": {},
   "source": [
    "# load single json file"
   ]
  },
  {
   "cell_type": "code",
   "execution_count": 6,
   "id": "276399cb",
   "metadata": {},
   "outputs": [],
   "source": [
    "file_name = 'pressemitteilung.1085404.json'\n",
    "f = open(os.path.join(base_path, batch_name, cat_type, file_name))\n",
    "case = json.load(f)\n",
    "\n",
    "del case['subtitle']"
   ]
  },
  {
   "cell_type": "code",
   "execution_count": 7,
   "id": "d2e5bf2e",
   "metadata": {},
   "outputs": [
    {
     "data": {
      "text/plain": [
       "{'title': 'Zwei Verletzte nach Angriff mit Messer - Festnahme',\n",
       " 'place': 'Pankow',\n",
       " 'date': '16.05.2021',\n",
       " 'data': [{'number': '1071',\n",
       "   'description': 'In der vergangenen Nacht wurden in Prenzlauer Berg zwei Männer mit einem Messer verletzt. Ersten Erkenntnissen zufolge hielten sich die beiden 18-Jährige gegen 23.40 Uhr an einem Hauseingang in der Danziger Straße auf, als ein Unbekannter sie angesprochen und nach der Uhrzeit gefragt haben soll. Im weiteren Verlauf soll der junge Mann das Duo mit einem Messer bedroht und Geld gefordert haben. Als die beiden Bedrohten den Ort verlassen wollten, soll der Unbekannte den einen der beiden mit dem Messer am Arm verletzt und seinen Begleiter Pfefferspray ins Gesicht gesprüht haben. Anschließend flüchtete der Angreifer über die Schönhauser Allee in Richtung Torstraße.\\n    Alarmierte Rettungskräfte brachten den 18-Jährigen mit einer Stichverletzung am Oberarm zur stationären Behandlung in ein Krankenhaus. Seine Begleitperson erlitt eine Augenreizung, die von Rettungskräften vor Ort versorgt wurde.\\n    Polizeieinsatzkräfte nahmen an der Kulturbrauerei einen 18-jährigen Tatverdächtigen fest und brachten ihn für eine erkennungsdienstliche Behandlung in einen Polizeigewahrsam, welchen er nach Abschluss der Maßnahmen wieder verlassen konnte. Die weiteren, noch andauernden Ermittlungen führt die Kriminalpolizei der Direktion 1 (Nord).'}]}"
      ]
     },
     "execution_count": 7,
     "metadata": {},
     "output_type": "execute_result"
    }
   ],
   "source": [
    "case"
   ]
  },
  {
   "cell_type": "markdown",
   "id": "a3ab4aa0",
   "metadata": {},
   "source": [
    "# Create Important Functions"
   ]
  },
  {
   "cell_type": "code",
   "execution_count": 8,
   "id": "1fb65f2e",
   "metadata": {},
   "outputs": [],
   "source": [
    "# Current prompt\n",
    "prompt = \"\"\"\n",
    "You are crime analyzing assistant. The assistant is helpful, clever, and gives accurate answers.\n",
    "\n",
    "You define types of crimes according to following categories:\n",
    "Homicide = The act of unlawfully causing the death of another person.\n",
    "Hate Crime - Disability = Anti-Mental Disability, Anti-Physical Disability\n",
    "Hate Crime - Gender = Anti-Male, Anti-Female\n",
    "Hate Crime - Gender Identity = Anti-Transgender, Anti-Gender Non-Conforming\n",
    "Hate Crime - Religious = religious hate crimes target a victim based on  their theological faith, or lack of faith, for example, Anti-Jewish, Anti-Christian or Anti-Muslim or against\n",
    "Hate Crime - Sexual orientation = Anti-Bisexual, Anti-Gay (Male), Anti-Heterosexual, Anti-Lesbian, Anti-Lesbian, Gay, Bisexual, or Transgender (Mixed Group)\n",
    "Hate Crime - Racial/Ethnicity = Anti-American Indian or Alaska Native, Anti-Arab, Anti-Asian, Anti-Black or African American, Anti-Hispanic or Latino, Anti-Multiple Races, Group, Anti-Native Hawaiian or Other Pacific Islander, Anti-Other Race/Ethnicity/Ancestry, Anti-White\n",
    "Property Crimes = Offenses that involve unlawful interference with someone else's property, such as theft, burglary, or vandalism.\n",
    "Verbal Abuse = Use of offensive, derogatory, or threatening language with the intention to harm or intimidate another person verbally.\n",
    "Property Damage = Damage or destruction of real or tangible personal property, \n",
    "Drug Offenses = Violations of laws related to the possession, distribution, manufacturing, or use of illegal substances or controlled substances without proper authorization.\n",
    "General Assault = Physical or verbal attacks on another person that result in causing harm or fear.\n",
    "Sexual Assault = Non-consensual sexual acts or behavior that involve physical or psychological harm or coercion\n",
    "Sexual Harassment = Unwanted sexual advances, comments, or conduct that creates a hostile or uncomfortable environment for the victim\n",
    "Unclassified = Cases or incidents that do not fit into any specific predefined category.\n",
    "\n",
    "Read the following text of a crime that happened in Berlin, Germany. Give information about the crime in the form of a key-value pair. List the type of crime described in the text according to your definition. If multiple crimes occurred add all types of crimes that are directly described in the text. List the location as accurately as possible. The terms \"straße\", \"weg\" or \"Kreuzung\" alone or as part of a word indicate an accurate location.\n",
    "Also list the year, date, and time of the crime. List the sex of the victims and the sex of the offender. List how many victims and how many offenders were involved.  If have no clear answer you response with \"unknown\".\n",
    "\n",
    "Here is one example for the following crime and the desired output:\n",
    "\n",
    "Junge Männer mit Messer verletzt\n",
    "Polizeimeldung vom 13.05.2023\n",
    "Mitte\n",
    "Nr. 0749\n",
    "Gestern Abend zeigten ein Jugendlicher und zwei junge Männer in der Alex-Wache in Mitte Körperverletzungen, begangen aus einer Gruppe, an. Die beiden 20-Jährigen und ihr 17 Jahre alter Begleiter gaben an, dass sie gegen 21.30 Uhr auf dem Alexanderplatz in Richtung S-Bahnhof unterwegs waren, als sie plötzlich aus einer Gruppe von sechs bis acht Männern heraus zunächst angepöbelt und dann körperlich attackiert wurden. Dabei erlitt einer der 20-Jährigen eine stark blutende Schnittverletzung im Gesicht und sein gleichaltriger Bekannter eine oberflächliche Stichverletzung am Rücken. Der am Rücken Verletzte wurde ambulant behandelt, der im Gesicht Verletzte stationär aufgenommen. Einsatzkräfte stellten kurz nach der Anzeigenerstattung in Höhe der Sankt Marienkirche zwei 19-jährige Männer fest, die nach Angaben des Trios zu der angreifenden Gruppe gehörten. Die Kräfte nahmen die beiden Tatverdächtigen fest und führten sie einer erkennungsdienstlichen Behandlung zu. \n",
    "\n",
    "Year: 2023\n",
    "Date: 13.05\n",
    "Time:  21.30 Uhr \n",
    "Type of Crime: General Assault, Verbal Abuse\n",
    "Location: Alexanderplatz \n",
    "Victim's Sex: Male\n",
    "Offender's Sex: Male\n",
    "Number of Victims: 3\n",
    "Number of Offenders: 6-8\n",
    "\n",
    "Please do this for the following crime:\n",
    "\"\"\""
   ]
  },
  {
   "cell_type": "code",
   "execution_count": 9,
   "id": "b0ae98c8",
   "metadata": {},
   "outputs": [],
   "source": [
    "def chatGPT(prompt, text, api_key):\n",
    "    url = \"https://api.openai.com/v1/completions\"\n",
    "    headers = {\n",
    "        \"Content-Type\": \"application/json\",\n",
    "        \"Authorization\": f\"Bearer {api_key}\",\n",
    "    }\n",
    "    prompt = { \n",
    "        \"model\":\"text-davinci-003\",\n",
    "        \"prompt\": prompt + str(text),\n",
    "        \"temperature\":0.22,\n",
    "        \"max_tokens\":1788,\n",
    "        \"top_p\":0.46,\n",
    "        \"frequency_penalty\":0,\n",
    "        \"presence_penalty\":0\n",
    "    }\n",
    "    response = requests.post(url, headers=headers, json=prompt)\n",
    "#     print('response: ')\n",
    "#     print(response)\n",
    "    json_response = response.json()  #TODO\n",
    "    print(f'======== Response.json(): {json_response} ========')\n",
    "    text_output = json_response['choices'][0]['text']\n",
    "#     try:\n",
    "#     text_output = handle_response(json_response)\n",
    "#     except: \n",
    "#         print(\"!!!!======== handle_response Function broke =======!!!!\")\n",
    "    \n",
    "    return text_output"
   ]
  },
  {
   "cell_type": "code",
   "execution_count": 10,
   "id": "e34f79b1",
   "metadata": {},
   "outputs": [],
   "source": [
    "def handle_response(json_response):\n",
    "    num_retry = 0\n",
    "    num_retry_limit = 5\n",
    "    \n",
    "    if \"error\" in json_response:\n",
    "        while num_retry < num_retry_limit:\n",
    "            print(f\"!!!!======== Server error occured. Retrying {num_retry+1}th time in 5 seconds... =======!!!!\")\n",
    "            time.sleep(5)  # Wait for 5 seconds\n",
    "            print(f\"!!!!======== Retrying {num_retry+1}th time now... =======!!!!\")\n",
    "            new_response = requests.post(url, headers=headers, json=prompt)\n",
    "            new_json_response = new_response.json()\n",
    "            if \"error\" in new_json_response: \n",
    "                num_retry += 1\n",
    "#             elif \"error\" not in new_json_response:\n",
    "#                 text_output = new_json_response['choices'][0]['text']\n",
    "#                 break\n",
    "            else:\n",
    "                print(f\"======== Retried {num_retry+1}th time, this time it works =======\")\n",
    "                text_output = new_json_response['choices'][0]['text']\n",
    "                break\n",
    "\n",
    "    else:\n",
    "        text_output = json_response['choices'][0]['text']\n",
    "        \n",
    "    return text_output"
   ]
  },
  {
   "cell_type": "code",
   "execution_count": 11,
   "id": "30f2d690",
   "metadata": {},
   "outputs": [],
   "source": [
    "def label_cases_with_gpt(num_case, base_path, batch_name, files_gen, output_dict):\n",
    "    \"\"\"\n",
    "    Calls openai api to label the raw scraped JSON files on criminal cases\n",
    "    Outputs a dictionary with keys being an unique identifier (combination of index and original case number) \n",
    "        and values being the listed case info\n",
    "    \"\"\"\n",
    "    for index, file_path in enumerate(files_gen[:num_case]): # DEBUG\n",
    "        data = open(file_path)# Get labeling from GPT API\n",
    "        case = json.load(data)\n",
    "        del case['subtitle'] # This does not include relevant info\n",
    "        \n",
    "        file_name = file_path.split('/')[-1]\n",
    "        case_id = str(file_name[-12:-5])\n",
    "        print(f'======== Working on labeling case number {index+1} with GPT: {case_id} ========')\n",
    "        \n",
    "        try: \n",
    "            raw_gpt_output = chatGPT(prompt, case, api_key)\n",
    "            output_dict[case_id] = raw_gpt_output\n",
    "\n",
    "        #Move file to folder\n",
    "            destination_dir_path = os.path.join(base_path, batch_name, 'info-extracted-cases')\n",
    "            if not os.path.exists(destination_dir_path):\n",
    "                os.makedirs(destination_dir_path)\n",
    "            shutil.move(file_path, os.path.join(destination_dir_path, file_name))\n",
    "        except:\n",
    "            print(f'!!!!!======== Errors occurs while labeling case number {index+1} with case id {case_id} ========!!!!!')\n",
    "            #{'error': {'message': 'The server had an error while processing your request. Sorry about that!', 'type': 'server_error', 'param': None, 'code': None}}\n",
    "            break\n",
    "        \n",
    "    return output_dict"
   ]
  },
  {
   "cell_type": "code",
   "execution_count": 12,
   "id": "a3165d29",
   "metadata": {},
   "outputs": [],
   "source": [
    "def inject_cases_info_to_dict(base_path, batch_name, input_dict):\n",
    "    \"\"\"\n",
    "    Creates a DataFrame from the dictionary which is the output of openai api labeling\n",
    "    \n",
    "    \"\"\"\n",
    "    output_dict = {\n",
    "        'unique_case_id':[],\n",
    "        'official_case_id':[],\n",
    "        'Type of Crime':[],\n",
    "        'Location':[],\n",
    "        'Year':[],\n",
    "        'Date':[],  # Modified\n",
    "        'Time':[],\n",
    "        \"Victim's Sex\":[],\n",
    "        \"Offender's Sex\":[],\n",
    "        'Number of Victims':[],\n",
    "        'Number of Offenders':[]\n",
    "}   \n",
    "    for index, (case_id, case_info) in enumerate(input_dict.items()):\n",
    "        print(f'======== Extracting info from labeled case number {index+1}: {case_id} ========')\n",
    "        try:\n",
    "        #Put infos in a dictionary\n",
    "            gpt_output_lst = case_info.strip().split('\\n')\n",
    "            gpt_output_lst = [ele.strip('\\n').strip() for ele in gpt_output_lst]\n",
    "        \n",
    "            output_dict['official_case_id'].append(case_id.zfill(7))\n",
    "            output_dict['unique_case_id'].append(str(index+1).zfill(6) + '_' + case_id)\n",
    "            for element in gpt_output_lst:\n",
    "                key, value = element.split(\":\")\n",
    "                if key in output_dict.keys():\n",
    "                    output_dict[key].append(value.strip())\n",
    "\n",
    "        except:\n",
    "            print(f'!!======== Errors occurs while procesing case id {case_id} ========!!')\n",
    "            # Move file to folder\n",
    "            file_name = f'pressemitteilung.{case_id}.json'\n",
    "            current_file_path = os.path.join(base_path, batch_name, 'info-extracted-cases', file_name)\n",
    "            destination_dir_path = os.path.join(base_path, batch_name, 'unsuccessful-cases')\n",
    "            \n",
    "            if not os.path.exists(destination_dir_path):\n",
    "                os.makedirs(destination_dir_path)\n",
    "            \n",
    "#             shutil.move(current_file_path, os.path.join(destination_dir_path, file_name))\n",
    "            break\n",
    "    \n",
    "    output_dict_renamed = {key.lower().replace(' ', '_').replace(\"'s\", \"\"): value \n",
    "                               for key, value in output_dict.items()}\n",
    "    \n",
    "    return output_dict_renamed"
   ]
  },
  {
   "cell_type": "code",
   "execution_count": 13,
   "id": "62b08298",
   "metadata": {},
   "outputs": [],
   "source": [
    "def output_csv(batch_num, output_dir_path, df):\n",
    "    if not os.path.exists(output_dir_path):\n",
    "            os.makedirs(output_dir_path)\n",
    "    \n",
    "    cur_datetime = datetime.now().strftime(\"%Y-%m-%d_%H-%M\")\n",
    "    csv_file_name = f'batch{batch_num}_labeled_{df.shape[0]}_cases_promptv2_{cur_datetime}.csv'\n",
    "    df.to_csv(os.path.join(output_dir_path, csv_file_name), sep=',', index=False)\n",
    "    print(f'file save with name: {csv_file_name}')"
   ]
  },
  {
   "cell_type": "code",
   "execution_count": 14,
   "id": "73303d42",
   "metadata": {},
   "outputs": [],
   "source": [
    "def main_process(base_path, batch_name, cat_type,  num_case=5, export_csv=False):\n",
    "    # Input files\n",
    "    files_gen = sorted(\n",
    "            glob.glob(\n",
    "            os.path.join(base_path, batch_name, cat_type, 'pressemitteilung*')),\n",
    "            reverse=True)\n",
    "    \n",
    "    \n",
    "    # Main processing\n",
    "    start_time = time.time()  # Measure run time of GPT labeling\n",
    "    original_dict = {}\n",
    "    original_dict_filled = label_cases_with_gpt(num_case, files_gen, original_dict)\n",
    "    end_time = time.time() # Measure run time of GPT labeling\n",
    "    runtime_minutes = (end_time - start_time) / 60\n",
    "    print(f\"======= GPT labeling runtime: {runtime_minutes:.2f} minutes======\")\n",
    "    info_dict = inject_cases_info_to_dict(original_dict_filled)\n",
    "    \n",
    "    df = pd.DataFrame.from_dict(info_dict)\n",
    "\n",
    "    if export_csv:\n",
    "        output_csv(path_to_json_files, df)\n",
    "        \n",
    "    return df"
   ]
  },
  {
   "cell_type": "markdown",
   "id": "5fb20731",
   "metadata": {},
   "source": [
    "# Start looping"
   ]
  },
  {
   "cell_type": "markdown",
   "id": "5532954e",
   "metadata": {},
   "source": [
    "### Funciton seperated"
   ]
  },
  {
   "cell_type": "code",
   "execution_count": 45,
   "id": "5277e04b",
   "metadata": {},
   "outputs": [],
   "source": [
    "# Get the current files in the specified folder\n",
    "files_gen = sorted(\n",
    "        glob.glob(\n",
    "        os.path.join(base_path, batch_name, cat_type, 'pressemitteilung*')),\n",
    "        reverse=True)"
   ]
  },
  {
   "cell_type": "code",
   "execution_count": 46,
   "id": "ac9515e7",
   "metadata": {},
   "outputs": [
    {
     "name": "stdout",
     "output_type": "stream",
     "text": [
      "======== Working on labeling case number 1 with GPT: 1125322 ========\n",
      "======== Response.json(): {'error': {'message': 'You exceeded your current quota, please check your plan and billing details.', 'type': 'insufficient_quota', 'param': None, 'code': None}} ========\n",
      "!!!!!======== Errors occurs while labeling case number 1 with case id 1125322 ========!!!!!\n"
     ]
    }
   ],
   "source": [
    "original_dict = {}\n",
    "original_dict_filled = label_cases_with_gpt(200, base_path, batch_name, files_gen, original_dict)"
   ]
  },
  {
   "cell_type": "code",
   "execution_count": 42,
   "id": "1eefdbdc",
   "metadata": {},
   "outputs": [
    {
     "name": "stdout",
     "output_type": "stream",
     "text": [
      "======== Extracting info from labeled case number 1: 1139718 ========\n",
      "======== Extracting info from labeled case number 2: 1139710 ========\n",
      "======== Extracting info from labeled case number 3: 1139695 ========\n",
      "======== Extracting info from labeled case number 4: 1139671 ========\n",
      "======== Extracting info from labeled case number 5: 1139600 ========\n",
      "======== Extracting info from labeled case number 6: 1139285 ========\n",
      "======== Extracting info from labeled case number 7: 1139236 ========\n",
      "======== Extracting info from labeled case number 8: 1139230 ========\n",
      "======== Extracting info from labeled case number 9: 1139219 ========\n",
      "======== Extracting info from labeled case number 10: 1139205 ========\n",
      "======== Extracting info from labeled case number 11: 1139187 ========\n",
      "======== Extracting info from labeled case number 12: 1139158 ========\n",
      "======== Extracting info from labeled case number 13: 1138887 ========\n",
      "======== Extracting info from labeled case number 14: 1138850 ========\n",
      "======== Extracting info from labeled case number 15: 1138833 ========\n",
      "======== Extracting info from labeled case number 16: 1138798 ========\n",
      "======== Extracting info from labeled case number 17: 1138795 ========\n",
      "======== Extracting info from labeled case number 18: 1138792 ========\n",
      "======== Extracting info from labeled case number 19: 1138791 ========\n",
      "======== Extracting info from labeled case number 20: 1138732 ========\n",
      "======== Extracting info from labeled case number 21: 1138729 ========\n",
      "======== Extracting info from labeled case number 22: 1138728 ========\n",
      "======== Extracting info from labeled case number 23: 1138727 ========\n",
      "======== Extracting info from labeled case number 24: 1138716 ========\n",
      "======== Extracting info from labeled case number 25: 1138694 ========\n",
      "======== Extracting info from labeled case number 26: 1138692 ========\n",
      "======== Extracting info from labeled case number 27: 1138690 ========\n",
      "======== Extracting info from labeled case number 28: 1138450 ========\n",
      "======== Extracting info from labeled case number 29: 1138447 ========\n",
      "======== Extracting info from labeled case number 30: 1138442 ========\n",
      "======== Extracting info from labeled case number 31: 1138440 ========\n",
      "======== Extracting info from labeled case number 32: 1138247 ========\n",
      "======== Extracting info from labeled case number 33: 1138073 ========\n",
      "======== Extracting info from labeled case number 34: 1138062 ========\n",
      "======== Extracting info from labeled case number 35: 1137796 ========\n",
      "======== Extracting info from labeled case number 36: 1137678 ========\n",
      "======== Extracting info from labeled case number 37: 1137176 ========\n",
      "======== Extracting info from labeled case number 38: 1137018 ========\n",
      "======== Extracting info from labeled case number 39: 1136825 ========\n",
      "======== Extracting info from labeled case number 40: 1136802 ========\n",
      "======== Extracting info from labeled case number 41: 1136206 ========\n",
      "======== Extracting info from labeled case number 42: 1136197 ========\n",
      "======== Extracting info from labeled case number 43: 1136196 ========\n",
      "======== Extracting info from labeled case number 44: 1136190 ========\n",
      "======== Extracting info from labeled case number 45: 1136188 ========\n",
      "======== Extracting info from labeled case number 46: 1136142 ========\n",
      "======== Extracting info from labeled case number 47: 1135975 ========\n",
      "======== Extracting info from labeled case number 48: 1135903 ========\n",
      "======== Extracting info from labeled case number 49: 1135849 ========\n",
      "======== Extracting info from labeled case number 50: 1135557 ========\n",
      "======== Extracting info from labeled case number 51: 1135489 ========\n",
      "======== Extracting info from labeled case number 52: 1135152 ========\n",
      "======== Extracting info from labeled case number 53: 1135150 ========\n",
      "======== Extracting info from labeled case number 54: 1135129 ========\n",
      "======== Extracting info from labeled case number 55: 1135000 ========\n",
      "======== Extracting info from labeled case number 56: 1134776 ========\n",
      "======== Extracting info from labeled case number 57: 1134736 ========\n",
      "======== Extracting info from labeled case number 58: 1134702 ========\n",
      "======== Extracting info from labeled case number 59: 1134701 ========\n",
      "======== Extracting info from labeled case number 60: 1134583 ========\n",
      "======== Extracting info from labeled case number 61: 1134441 ========\n",
      "======== Extracting info from labeled case number 62: 1134385 ========\n",
      "======== Extracting info from labeled case number 63: 1134380 ========\n",
      "======== Extracting info from labeled case number 64: 1134324 ========\n",
      "======== Extracting info from labeled case number 65: 1134229 ========\n",
      "======== Extracting info from labeled case number 66: 1134228 ========\n",
      "======== Extracting info from labeled case number 67: 1134227 ========\n",
      "======== Extracting info from labeled case number 68: 1134226 ========\n",
      "======== Extracting info from labeled case number 69: 1134206 ========\n",
      "======== Extracting info from labeled case number 70: 1134205 ========\n",
      "======== Extracting info from labeled case number 71: 1134201 ========\n",
      "======== Extracting info from labeled case number 72: 1134199 ========\n",
      "======== Extracting info from labeled case number 73: 1134197 ========\n",
      "======== Extracting info from labeled case number 74: 1134138 ========\n",
      "======== Extracting info from labeled case number 75: 1134059 ========\n",
      "======== Extracting info from labeled case number 76: 1133909 ========\n",
      "======== Extracting info from labeled case number 77: 1133868 ========\n",
      "======== Extracting info from labeled case number 78: 1133859 ========\n",
      "======== Extracting info from labeled case number 79: 1133850 ========\n",
      "======== Extracting info from labeled case number 80: 1133434 ========\n",
      "======== Extracting info from labeled case number 81: 1133431 ========\n",
      "======== Extracting info from labeled case number 82: 1133430 ========\n",
      "======== Extracting info from labeled case number 83: 1133291 ========\n",
      "======== Extracting info from labeled case number 84: 1133004 ========\n",
      "======== Extracting info from labeled case number 85: 1132998 ========\n",
      "======== Extracting info from labeled case number 86: 1132997 ========\n",
      "======== Extracting info from labeled case number 87: 1132638 ========\n",
      "======== Extracting info from labeled case number 88: 1132637 ========\n",
      "======== Extracting info from labeled case number 89: 1132417 ========\n",
      "======== Extracting info from labeled case number 90: 1132331 ========\n",
      "======== Extracting info from labeled case number 91: 1132188 ========\n",
      "======== Extracting info from labeled case number 92: 1132184 ========\n",
      "======== Extracting info from labeled case number 93: 1132121 ========\n",
      "======== Extracting info from labeled case number 94: 1132120 ========\n",
      "======== Extracting info from labeled case number 95: 1132118 ========\n",
      "======== Extracting info from labeled case number 96: 1132115 ========\n",
      "======== Extracting info from labeled case number 97: 1132114 ========\n",
      "======== Extracting info from labeled case number 98: 1132113 ========\n",
      "======== Extracting info from labeled case number 99: 1132107 ========\n",
      "======== Extracting info from labeled case number 100: 1132102 ========\n",
      "======== Extracting info from labeled case number 101: 1132099 ========\n",
      "======== Extracting info from labeled case number 102: 1132098 ========\n",
      "======== Extracting info from labeled case number 103: 1132097 ========\n",
      "======== Extracting info from labeled case number 104: 1132076 ========\n",
      "======== Extracting info from labeled case number 105: 1132067 ========\n",
      "======== Extracting info from labeled case number 106: 1131981 ========\n",
      "======== Extracting info from labeled case number 107: 1131821 ========\n",
      "======== Extracting info from labeled case number 108: 1131818 ========\n",
      "======== Extracting info from labeled case number 109: 1131814 ========\n",
      "======== Extracting info from labeled case number 110: 1131564 ========\n",
      "======== Extracting info from labeled case number 111: 1131413 ========\n",
      "======== Extracting info from labeled case number 112: 1131384 ========\n",
      "======== Extracting info from labeled case number 113: 1131378 ========\n",
      "======== Extracting info from labeled case number 114: 1131332 ========\n",
      "======== Extracting info from labeled case number 115: 1131114 ========\n",
      "======== Extracting info from labeled case number 116: 1131077 ========\n",
      "======== Extracting info from labeled case number 117: 1130976 ========\n",
      "======== Extracting info from labeled case number 118: 1130973 ========\n",
      "======== Extracting info from labeled case number 119: 1130969 ========\n",
      "======== Extracting info from labeled case number 120: 1130861 ========\n",
      "======== Extracting info from labeled case number 121: 1130778 ========\n",
      "======== Extracting info from labeled case number 122: 1130509 ========\n",
      "======== Extracting info from labeled case number 123: 1130416 ========\n",
      "======== Extracting info from labeled case number 124: 1130355 ========\n",
      "======== Extracting info from labeled case number 125: 1130354 ========\n",
      "======== Extracting info from labeled case number 126: 1130292 ========\n",
      "======== Extracting info from labeled case number 127: 1130128 ========\n",
      "======== Extracting info from labeled case number 128: 1130126 ========\n",
      "======== Extracting info from labeled case number 129: 1130122 ========\n",
      "======== Extracting info from labeled case number 130: 1130028 ========\n",
      "======== Extracting info from labeled case number 131: 1130027 ========\n",
      "======== Extracting info from labeled case number 132: 1130022 ========\n",
      "======== Extracting info from labeled case number 133: 1130021 ========\n",
      "======== Extracting info from labeled case number 134: 1130020 ========\n",
      "======== Extracting info from labeled case number 135: 1130019 ========\n",
      "======== Extracting info from labeled case number 136: 1130018 ========\n",
      "======== Extracting info from labeled case number 137: 1129994 ========\n",
      "======== Extracting info from labeled case number 138: 1129993 ========\n",
      "======== Extracting info from labeled case number 139: 1129992 ========\n",
      "======== Extracting info from labeled case number 140: 1129991 ========\n",
      "======== Extracting info from labeled case number 141: 1129942 ========\n",
      "======== Extracting info from labeled case number 142: 1129798 ========\n",
      "======== Extracting info from labeled case number 143: 1129757 ========\n",
      "======== Extracting info from labeled case number 144: 1129747 ========\n",
      "======== Extracting info from labeled case number 145: 1129489 ========\n",
      "======== Extracting info from labeled case number 146: 1129477 ========\n",
      "======== Extracting info from labeled case number 147: 1129370 ========\n",
      "======== Extracting info from labeled case number 148: 1129315 ========\n",
      "======== Extracting info from labeled case number 149: 1129304 ========\n",
      "======== Extracting info from labeled case number 150: 1129276 ========\n",
      "======== Extracting info from labeled case number 151: 1129254 ========\n",
      "======== Extracting info from labeled case number 152: 1129146 ========\n",
      "======== Extracting info from labeled case number 153: 1128905 ========\n",
      "======== Extracting info from labeled case number 154: 1128900 ========\n",
      "======== Extracting info from labeled case number 155: 1128730 ========\n",
      "======== Extracting info from labeled case number 156: 1128656 ========\n",
      "======== Extracting info from labeled case number 157: 1128643 ========\n",
      "======== Extracting info from labeled case number 158: 1128426 ========\n",
      "======== Extracting info from labeled case number 159: 1128423 ========\n",
      "======== Extracting info from labeled case number 160: 1128376 ========\n",
      "======== Extracting info from labeled case number 161: 1128329 ========\n",
      "======== Extracting info from labeled case number 162: 1128131 ========\n",
      "======== Extracting info from labeled case number 163: 1128075 ========\n",
      "======== Extracting info from labeled case number 164: 1127933 ========\n",
      "======== Extracting info from labeled case number 165: 1127841 ========\n",
      "======== Extracting info from labeled case number 166: 1127838 ========\n",
      "======== Extracting info from labeled case number 167: 1127815 ========\n",
      "======== Extracting info from labeled case number 168: 1127813 ========\n",
      "======== Extracting info from labeled case number 169: 1127812 ========\n",
      "======== Extracting info from labeled case number 170: 1127725 ========\n",
      "======== Extracting info from labeled case number 171: 1127539 ========\n",
      "======== Extracting info from labeled case number 172: 1127529 ========\n",
      "======== Extracting info from labeled case number 173: 1127458 ========\n",
      "======== Extracting info from labeled case number 174: 1127438 ========\n",
      "======== Extracting info from labeled case number 175: 1127212 ========\n",
      "======== Extracting info from labeled case number 176: 1126941 ========\n",
      "======== Extracting info from labeled case number 177: 1126504 ========\n",
      "======== Extracting info from labeled case number 178: 1126475 ========\n",
      "======== Extracting info from labeled case number 179: 1126472 ========\n",
      "======== Extracting info from labeled case number 180: 1126460 ========\n",
      "======== Extracting info from labeled case number 181: 1126456 ========\n",
      "======== Extracting info from labeled case number 182: 1126443 ========\n",
      "======== Extracting info from labeled case number 183: 1126426 ========\n",
      "======== Extracting info from labeled case number 184: 1126324 ========\n",
      "======== Extracting info from labeled case number 185: 1125911 ========\n",
      "======== Extracting info from labeled case number 186: 1125904 ========\n",
      "======== Extracting info from labeled case number 187: 1125900 ========\n",
      "======== Extracting info from labeled case number 188: 1125876 ========\n",
      "======== Extracting info from labeled case number 189: 1125707 ========\n",
      "======== Extracting info from labeled case number 190: 1125574 ========\n",
      "======== Extracting info from labeled case number 191: 1125567 ========\n",
      "======== Extracting info from labeled case number 192: 1125354 ========\n",
      "======== Extracting info from labeled case number 193: 1125352 ========\n",
      "======== Extracting info from labeled case number 194: 1125330 ========\n",
      "======== Extracting info from labeled case number 195: 1125329 ========\n",
      "======== Extracting info from labeled case number 196: 1125328 ========\n",
      "======== Extracting info from labeled case number 197: 1125327 ========\n",
      "======== Extracting info from labeled case number 198: 1125326 ========\n",
      "======== Extracting info from labeled case number 199: 1125324 ========\n",
      "======== Extracting info from labeled case number 200: 1125323 ========\n"
     ]
    }
   ],
   "source": [
    "info_dict = inject_cases_info_to_dict(base_path, batch_name, original_dict_filled)"
   ]
  },
  {
   "cell_type": "code",
   "execution_count": 43,
   "id": "ff600a5d",
   "metadata": {},
   "outputs": [
    {
     "data": {
      "text/html": [
       "<div>\n",
       "<style scoped>\n",
       "    .dataframe tbody tr th:only-of-type {\n",
       "        vertical-align: middle;\n",
       "    }\n",
       "\n",
       "    .dataframe tbody tr th {\n",
       "        vertical-align: top;\n",
       "    }\n",
       "\n",
       "    .dataframe thead th {\n",
       "        text-align: right;\n",
       "    }\n",
       "</style>\n",
       "<table border=\"1\" class=\"dataframe\">\n",
       "  <thead>\n",
       "    <tr style=\"text-align: right;\">\n",
       "      <th></th>\n",
       "      <th>unique_case_id</th>\n",
       "      <th>official_case_id</th>\n",
       "      <th>type_of_crime</th>\n",
       "      <th>location</th>\n",
       "      <th>year</th>\n",
       "      <th>date</th>\n",
       "      <th>time</th>\n",
       "      <th>victim_sex</th>\n",
       "      <th>offender_sex</th>\n",
       "      <th>number_of_victims</th>\n",
       "      <th>number_of_offenders</th>\n",
       "    </tr>\n",
       "  </thead>\n",
       "  <tbody>\n",
       "    <tr>\n",
       "      <th>195</th>\n",
       "      <td>000196_1125328</td>\n",
       "      <td>1125328</td>\n",
       "      <td>Verbal Abuse, Hate Crime - Religious</td>\n",
       "      <td>Sprengelstraße</td>\n",
       "      <td>2021</td>\n",
       "      <td>12.09</td>\n",
       "      <td>13 Uhr</td>\n",
       "      <td>Male</td>\n",
       "      <td>Male</td>\n",
       "      <td>1</td>\n",
       "      <td>1</td>\n",
       "    </tr>\n",
       "    <tr>\n",
       "      <th>196</th>\n",
       "      <td>000197_1125327</td>\n",
       "      <td>1125327</td>\n",
       "      <td>General Assault, Verbal Abuse, Hate Crime - Ge...</td>\n",
       "      <td>U-Bahnhof Eberswalder Straße</td>\n",
       "      <td>2021</td>\n",
       "      <td>12.09</td>\n",
       "      <td>Mitternacht</td>\n",
       "      <td>Male</td>\n",
       "      <td>Male</td>\n",
       "      <td>1</td>\n",
       "      <td>5-6</td>\n",
       "    </tr>\n",
       "    <tr>\n",
       "      <th>197</th>\n",
       "      <td>000198_1125326</td>\n",
       "      <td>1125326</td>\n",
       "      <td>General Assault, Verbal Abuse, Hate Crime - Ge...</td>\n",
       "      <td>Waterloo-Ufer, Mehringplatz</td>\n",
       "      <td>2021</td>\n",
       "      <td>12.09</td>\n",
       "      <td>14.30 Uhr</td>\n",
       "      <td>Female</td>\n",
       "      <td>Male</td>\n",
       "      <td>1</td>\n",
       "      <td>1</td>\n",
       "    </tr>\n",
       "    <tr>\n",
       "      <th>198</th>\n",
       "      <td>000199_1125324</td>\n",
       "      <td>1125324</td>\n",
       "      <td>Property Damage, Arson</td>\n",
       "      <td>Jägerstraße, Treptow-Köpenick</td>\n",
       "      <td>2021</td>\n",
       "      <td>12.09</td>\n",
       "      <td>3 Uhr</td>\n",
       "      <td>Unknown</td>\n",
       "      <td>Unknown</td>\n",
       "      <td>Unknown</td>\n",
       "      <td>Unknown</td>\n",
       "    </tr>\n",
       "    <tr>\n",
       "      <th>199</th>\n",
       "      <td>000200_1125323</td>\n",
       "      <td>1125323</td>\n",
       "      <td>Property Damage, Arson</td>\n",
       "      <td>Meyerbeerstraße, Weißensee</td>\n",
       "      <td>2021</td>\n",
       "      <td>12.09</td>\n",
       "      <td>23.45 Uhr</td>\n",
       "      <td>Unknown</td>\n",
       "      <td>Unknown</td>\n",
       "      <td>8</td>\n",
       "      <td>Unknown</td>\n",
       "    </tr>\n",
       "  </tbody>\n",
       "</table>\n",
       "</div>"
      ],
      "text/plain": [
       "     unique_case_id official_case_id   \n",
       "195  000196_1125328          1125328  \\\n",
       "196  000197_1125327          1125327   \n",
       "197  000198_1125326          1125326   \n",
       "198  000199_1125324          1125324   \n",
       "199  000200_1125323          1125323   \n",
       "\n",
       "                                         type_of_crime   \n",
       "195               Verbal Abuse, Hate Crime - Religious  \\\n",
       "196  General Assault, Verbal Abuse, Hate Crime - Ge...   \n",
       "197  General Assault, Verbal Abuse, Hate Crime - Ge...   \n",
       "198                             Property Damage, Arson   \n",
       "199                             Property Damage, Arson   \n",
       "\n",
       "                          location  year   date         time victim_sex   \n",
       "195                 Sprengelstraße  2021  12.09       13 Uhr       Male  \\\n",
       "196   U-Bahnhof Eberswalder Straße  2021  12.09  Mitternacht       Male   \n",
       "197    Waterloo-Ufer, Mehringplatz  2021  12.09    14.30 Uhr     Female   \n",
       "198  Jägerstraße, Treptow-Köpenick  2021  12.09        3 Uhr    Unknown   \n",
       "199     Meyerbeerstraße, Weißensee  2021  12.09    23.45 Uhr    Unknown   \n",
       "\n",
       "    offender_sex number_of_victims number_of_offenders  \n",
       "195         Male                 1                   1  \n",
       "196         Male                 1                 5-6  \n",
       "197         Male                 1                   1  \n",
       "198      Unknown           Unknown             Unknown  \n",
       "199      Unknown                 8             Unknown  "
      ]
     },
     "execution_count": 43,
     "metadata": {},
     "output_type": "execute_result"
    }
   ],
   "source": [
    "df_final_sep = pd.DataFrame.from_dict(info_dict)\n",
    "df_final_sep.tail()"
   ]
  },
  {
   "cell_type": "code",
   "execution_count": 44,
   "id": "9dee56c6",
   "metadata": {},
   "outputs": [
    {
     "name": "stdout",
     "output_type": "stream",
     "text": [
      "file save with name: batch2_labeled_200_cases_promptv2_2023-06-07_22-56.csv\n"
     ]
    }
   ],
   "source": [
    "output_csv(2, output_dir_path, df_final_sep)"
   ]
  },
  {
   "cell_type": "markdown",
   "id": "ecb6ca2d",
   "metadata": {},
   "source": [
    " #### Diagnosis"
   ]
  },
  {
   "cell_type": "code",
   "execution_count": null,
   "id": "4e70e53e",
   "metadata": {},
   "outputs": [],
   "source": [
    "original_dict_filled"
   ]
  },
  {
   "cell_type": "code",
   "execution_count": null,
   "id": "a76b3713",
   "metadata": {},
   "outputs": [],
   "source": [
    "info_dict"
   ]
  },
  {
   "cell_type": "code",
   "execution_count": null,
   "id": "805ff476",
   "metadata": {},
   "outputs": [],
   "source": [
    "#TODO:\n",
    "# One hot encdoing\n",
    "#Timestamp"
   ]
  },
  {
   "cell_type": "code",
   "execution_count": null,
   "id": "9a882744",
   "metadata": {},
   "outputs": [],
   "source": [
    "#Next Steps \n",
    "# Lena todo: make sure promt works in function for one case - (all cases)\n",
    "# Hsin todo: loop through cases - output dataframe"
   ]
  },
  {
   "cell_type": "markdown",
   "id": "5b8e93ce",
   "metadata": {
    "heading_collapsed": true
   },
   "source": [
    "### One function for all"
   ]
  },
  {
   "cell_type": "code",
   "execution_count": null,
   "id": "6594866f",
   "metadata": {
    "hidden": true
   },
   "outputs": [],
   "source": [
    "df_final = main_process(base_path, batch_name, cat_type, 20)"
   ]
  },
  {
   "cell_type": "code",
   "execution_count": null,
   "id": "0941dfc4",
   "metadata": {
    "hidden": true
   },
   "outputs": [],
   "source": [
    "df_final"
   ]
  },
  {
   "cell_type": "code",
   "execution_count": null,
   "id": "44cd5c96",
   "metadata": {
    "hidden": true
   },
   "outputs": [],
   "source": [
    "# Save to CSV\n",
    "output_csv(base_path, df_final)"
   ]
  },
  {
   "cell_type": "markdown",
   "id": "3489806c",
   "metadata": {},
   "source": [
    "## Backup"
   ]
  },
  {
   "cell_type": "code",
   "execution_count": null,
   "id": "14923c00",
   "metadata": {},
   "outputs": [],
   "source": []
  }
 ],
 "metadata": {
  "kernelspec": {
   "display_name": "Python 3 (ipykernel)",
   "language": "python",
   "name": "python3"
  },
  "language_info": {
   "codemirror_mode": {
    "name": "ipython",
    "version": 3
   },
   "file_extension": ".py",
   "mimetype": "text/x-python",
   "name": "python",
   "nbconvert_exporter": "python",
   "pygments_lexer": "ipython3",
   "version": "3.10.6"
  },
  "toc": {
   "base_numbering": 1,
   "nav_menu": {},
   "number_sections": true,
   "sideBar": true,
   "skip_h1_title": false,
   "title_cell": "Table of Contents",
   "title_sidebar": "Contents",
   "toc_cell": false,
   "toc_position": {},
   "toc_section_display": true,
   "toc_window_display": false
  }
 },
 "nbformat": 4,
 "nbformat_minor": 5
}
